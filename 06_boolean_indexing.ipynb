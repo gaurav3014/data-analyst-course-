{
 "cells": [
  {
   "cell_type": "markdown",
   "metadata": {
    "colab_type": "text",
    "id": "N8AHSzU8U2dW"
   },
   "source": [
    "# Boolean Indexing \n",
    "\n",
    "In **boolean indexing**, we will select subsets of data based on the actual values of the data in the Series/DataFrame and NOT on their row/column labels or integer locations. "
   ]
  },
  {
   "cell_type": "code",
   "execution_count": 1,
   "metadata": {
    "colab": {},
    "colab_type": "code",
    "id": "JlsLbsDaU2dX"
   },
   "outputs": [],
   "source": [
    "import pandas as pd\n",
    "import numpy as np"
   ]
  },
  {
   "cell_type": "code",
   "execution_count": 2,
   "metadata": {
    "colab": {
     "base_uri": "https://localhost:8080/",
     "height": 289
    },
    "colab_type": "code",
    "executionInfo": {
     "elapsed": 1243,
     "status": "ok",
     "timestamp": 1566299949898,
     "user": {
      "displayName": "Ai Adventures",
      "photoUrl": "https://lh3.googleusercontent.com/-OQdAjp2vMZo/AAAAAAAAAAI/AAAAAAAAAA8/8FVq41kVT5s/s64/photo.jpg",
      "userId": "14635366068755244481"
     },
     "user_tz": -330
    },
    "id": "OIgi1HwpU2db",
    "outputId": "9bf1e54c-5bb9-4a54-bdf6-c2c260d9e0c6"
   },
   "outputs": [
    {
     "data": {
      "text/html": [
       "<div>\n",
       "<style scoped>\n",
       "    .dataframe tbody tr th:only-of-type {\n",
       "        vertical-align: middle;\n",
       "    }\n",
       "\n",
       "    .dataframe tbody tr th {\n",
       "        vertical-align: top;\n",
       "    }\n",
       "\n",
       "    .dataframe thead th {\n",
       "        text-align: right;\n",
       "    }\n",
       "</style>\n",
       "<table border=\"1\" class=\"dataframe\">\n",
       "  <thead>\n",
       "    <tr style=\"text-align: right;\">\n",
       "      <th></th>\n",
       "      <th>id</th>\n",
       "      <th>creationdate</th>\n",
       "      <th>score</th>\n",
       "      <th>viewcount</th>\n",
       "      <th>title</th>\n",
       "      <th>answercount</th>\n",
       "      <th>commentcount</th>\n",
       "      <th>favoritecount</th>\n",
       "      <th>quest_name</th>\n",
       "      <th>quest_rep</th>\n",
       "      <th>ans_name</th>\n",
       "      <th>ans_rep</th>\n",
       "    </tr>\n",
       "  </thead>\n",
       "  <tbody>\n",
       "    <tr>\n",
       "      <th>0</th>\n",
       "      <td>5486226</td>\n",
       "      <td>2011-03-30 12:26:50</td>\n",
       "      <td>4</td>\n",
       "      <td>2113</td>\n",
       "      <td>Rolling median in python</td>\n",
       "      <td>3</td>\n",
       "      <td>4</td>\n",
       "      <td>1.0</td>\n",
       "      <td>yueerhu</td>\n",
       "      <td>125.0</td>\n",
       "      <td>Mike Pennington</td>\n",
       "      <td>26995.0</td>\n",
       "    </tr>\n",
       "    <tr>\n",
       "      <th>1</th>\n",
       "      <td>5515021</td>\n",
       "      <td>2011-04-01 14:50:44</td>\n",
       "      <td>8</td>\n",
       "      <td>7015</td>\n",
       "      <td>Compute a compounded return series in Python</td>\n",
       "      <td>3</td>\n",
       "      <td>6</td>\n",
       "      <td>7.0</td>\n",
       "      <td>Jason Strimpel</td>\n",
       "      <td>3301.0</td>\n",
       "      <td>Mike Pennington</td>\n",
       "      <td>26995.0</td>\n",
       "    </tr>\n",
       "    <tr>\n",
       "      <th>2</th>\n",
       "      <td>5558607</td>\n",
       "      <td>2011-04-05 21:13:50</td>\n",
       "      <td>2</td>\n",
       "      <td>7392</td>\n",
       "      <td>Sort a pandas DataMatrix in ascending order</td>\n",
       "      <td>2</td>\n",
       "      <td>0</td>\n",
       "      <td>1.0</td>\n",
       "      <td>Jason Strimpel</td>\n",
       "      <td>3301.0</td>\n",
       "      <td>Wes McKinney</td>\n",
       "      <td>43310.0</td>\n",
       "    </tr>\n",
       "    <tr>\n",
       "      <th>3</th>\n",
       "      <td>6467832</td>\n",
       "      <td>2011-06-24 12:31:45</td>\n",
       "      <td>9</td>\n",
       "      <td>13056</td>\n",
       "      <td>How to get the correlation between two timeser...</td>\n",
       "      <td>1</td>\n",
       "      <td>0</td>\n",
       "      <td>7.0</td>\n",
       "      <td>user814005</td>\n",
       "      <td>117.0</td>\n",
       "      <td>Wes McKinney</td>\n",
       "      <td>43310.0</td>\n",
       "    </tr>\n",
       "    <tr>\n",
       "      <th>4</th>\n",
       "      <td>7577546</td>\n",
       "      <td>2011-09-28 01:58:38</td>\n",
       "      <td>9</td>\n",
       "      <td>2488</td>\n",
       "      <td>Using pandas, how do I subsample a large DataF...</td>\n",
       "      <td>1</td>\n",
       "      <td>0</td>\n",
       "      <td>5.0</td>\n",
       "      <td>Uri Laserson</td>\n",
       "      <td>958.0</td>\n",
       "      <td>HYRY</td>\n",
       "      <td>54137.0</td>\n",
       "    </tr>\n",
       "  </tbody>\n",
       "</table>\n",
       "</div>"
      ],
      "text/plain": [
       "        id         creationdate  score  viewcount  \\\n",
       "0  5486226  2011-03-30 12:26:50      4       2113   \n",
       "1  5515021  2011-04-01 14:50:44      8       7015   \n",
       "2  5558607  2011-04-05 21:13:50      2       7392   \n",
       "3  6467832  2011-06-24 12:31:45      9      13056   \n",
       "4  7577546  2011-09-28 01:58:38      9       2488   \n",
       "\n",
       "                                               title  answercount  \\\n",
       "0                           Rolling median in python            3   \n",
       "1       Compute a compounded return series in Python            3   \n",
       "2        Sort a pandas DataMatrix in ascending order            2   \n",
       "3  How to get the correlation between two timeser...            1   \n",
       "4  Using pandas, how do I subsample a large DataF...            1   \n",
       "\n",
       "   commentcount  favoritecount      quest_name  quest_rep         ans_name  \\\n",
       "0             4            1.0         yueerhu      125.0  Mike Pennington   \n",
       "1             6            7.0  Jason Strimpel     3301.0  Mike Pennington   \n",
       "2             0            1.0  Jason Strimpel     3301.0     Wes McKinney   \n",
       "3             0            7.0      user814005      117.0     Wes McKinney   \n",
       "4             0            5.0    Uri Laserson      958.0             HYRY   \n",
       "\n",
       "   ans_rep  \n",
       "0  26995.0  \n",
       "1  26995.0  \n",
       "2  43310.0  \n",
       "3  43310.0  \n",
       "4  54137.0  "
      ]
     },
     "execution_count": 2,
     "metadata": {},
     "output_type": "execute_result"
    }
   ],
   "source": [
    "so = pd.read_csv('../data/stackoverflow_qa.csv')\n",
    "so.head()"
   ]
  },
  {
   "cell_type": "code",
   "execution_count": 4,
   "metadata": {
    "scrolled": true
   },
   "outputs": [
    {
     "data": {
      "text/html": [
       "<div>\n",
       "<style scoped>\n",
       "    .dataframe tbody tr th:only-of-type {\n",
       "        vertical-align: middle;\n",
       "    }\n",
       "\n",
       "    .dataframe tbody tr th {\n",
       "        vertical-align: top;\n",
       "    }\n",
       "\n",
       "    .dataframe thead th {\n",
       "        text-align: right;\n",
       "    }\n",
       "</style>\n",
       "<table border=\"1\" class=\"dataframe\">\n",
       "  <thead>\n",
       "    <tr style=\"text-align: right;\">\n",
       "      <th></th>\n",
       "      <th>id</th>\n",
       "      <th>creationdate</th>\n",
       "      <th>score</th>\n",
       "      <th>viewcount</th>\n",
       "      <th>title</th>\n",
       "      <th>answercount</th>\n",
       "      <th>commentcount</th>\n",
       "      <th>favoritecount</th>\n",
       "      <th>quest_name</th>\n",
       "      <th>quest_rep</th>\n",
       "      <th>ans_name</th>\n",
       "      <th>ans_rep</th>\n",
       "    </tr>\n",
       "  </thead>\n",
       "  <tbody>\n",
       "    <tr>\n",
       "      <th>10</th>\n",
       "      <td>8273092</td>\n",
       "      <td>2011-11-25 18:39:02</td>\n",
       "      <td>1</td>\n",
       "      <td>2333</td>\n",
       "      <td>python: pandas install errors</td>\n",
       "      <td>2</td>\n",
       "      <td>0</td>\n",
       "      <td>NaN</td>\n",
       "      <td>codingknob</td>\n",
       "      <td>2279.0</td>\n",
       "      <td>codingknob</td>\n",
       "      <td>2279.0</td>\n",
       "    </tr>\n",
       "    <tr>\n",
       "      <th>33</th>\n",
       "      <td>9721429</td>\n",
       "      <td>2012-03-15 14:08:31</td>\n",
       "      <td>9</td>\n",
       "      <td>5732</td>\n",
       "      <td>How do I read a fix width format text file in ...</td>\n",
       "      <td>4</td>\n",
       "      <td>2</td>\n",
       "      <td>NaN</td>\n",
       "      <td>user1234440</td>\n",
       "      <td>3369.0</td>\n",
       "      <td>user1234440</td>\n",
       "      <td>3369.0</td>\n",
       "    </tr>\n",
       "    <tr>\n",
       "      <th>58</th>\n",
       "      <td>10020591</td>\n",
       "      <td>2012-04-04 23:17:23</td>\n",
       "      <td>21</td>\n",
       "      <td>20171</td>\n",
       "      <td>How to resample a dataframe with different fun...</td>\n",
       "      <td>4</td>\n",
       "      <td>0</td>\n",
       "      <td>15.0</td>\n",
       "      <td>bmu</td>\n",
       "      <td>17129.0</td>\n",
       "      <td>bmu</td>\n",
       "      <td>17129.0</td>\n",
       "    </tr>\n",
       "    <tr>\n",
       "      <th>68</th>\n",
       "      <td>10175068</td>\n",
       "      <td>2012-04-16 13:27:44</td>\n",
       "      <td>15</td>\n",
       "      <td>7501</td>\n",
       "      <td>Select data at a particular level from a Multi...</td>\n",
       "      <td>2</td>\n",
       "      <td>3</td>\n",
       "      <td>5.0</td>\n",
       "      <td>elyase</td>\n",
       "      <td>19551.0</td>\n",
       "      <td>elyase</td>\n",
       "      <td>19551.0</td>\n",
       "    </tr>\n",
       "    <tr>\n",
       "      <th>74</th>\n",
       "      <td>10264739</td>\n",
       "      <td>2012-04-22 02:35:06</td>\n",
       "      <td>9</td>\n",
       "      <td>2362</td>\n",
       "      <td>major memory problems reading in a csv file us...</td>\n",
       "      <td>3</td>\n",
       "      <td>2</td>\n",
       "      <td>7.0</td>\n",
       "      <td>vgoklani</td>\n",
       "      <td>1752.0</td>\n",
       "      <td>vgoklani</td>\n",
       "      <td>1752.0</td>\n",
       "    </tr>\n",
       "    <tr>\n",
       "      <th>...</th>\n",
       "      <td>...</td>\n",
       "      <td>...</td>\n",
       "      <td>...</td>\n",
       "      <td>...</td>\n",
       "      <td>...</td>\n",
       "      <td>...</td>\n",
       "      <td>...</td>\n",
       "      <td>...</td>\n",
       "      <td>...</td>\n",
       "      <td>...</td>\n",
       "      <td>...</td>\n",
       "      <td>...</td>\n",
       "    </tr>\n",
       "    <tr>\n",
       "      <th>55767</th>\n",
       "      <td>47419823</td>\n",
       "      <td>2017-11-21 18:06:38</td>\n",
       "      <td>0</td>\n",
       "      <td>35</td>\n",
       "      <td>Tring to load csv file in Pandas using dataframe</td>\n",
       "      <td>1</td>\n",
       "      <td>3</td>\n",
       "      <td>NaN</td>\n",
       "      <td>SaishB93</td>\n",
       "      <td>18.0</td>\n",
       "      <td>SaishB93</td>\n",
       "      <td>18.0</td>\n",
       "    </tr>\n",
       "    <tr>\n",
       "      <th>55777</th>\n",
       "      <td>47350412</td>\n",
       "      <td>2017-11-17 12:12:51</td>\n",
       "      <td>0</td>\n",
       "      <td>40</td>\n",
       "      <td>Using .agg in pandas returns 'list object has ...</td>\n",
       "      <td>1</td>\n",
       "      <td>4</td>\n",
       "      <td>NaN</td>\n",
       "      <td>Nord112</td>\n",
       "      <td>3.0</td>\n",
       "      <td>Nord112</td>\n",
       "      <td>3.0</td>\n",
       "    </tr>\n",
       "    <tr>\n",
       "      <th>55781</th>\n",
       "      <td>47170051</td>\n",
       "      <td>2017-11-08 01:21:47</td>\n",
       "      <td>1</td>\n",
       "      <td>100</td>\n",
       "      <td>How can I use a list comprehension to set colors?</td>\n",
       "      <td>1</td>\n",
       "      <td>8</td>\n",
       "      <td>1.0</td>\n",
       "      <td>solub</td>\n",
       "      <td>79.0</td>\n",
       "      <td>solub</td>\n",
       "      <td>79.0</td>\n",
       "    </tr>\n",
       "    <tr>\n",
       "      <th>55987</th>\n",
       "      <td>47134254</td>\n",
       "      <td>2017-11-06 10:01:27</td>\n",
       "      <td>0</td>\n",
       "      <td>62</td>\n",
       "      <td>Merging list elements into one list of datafra...</td>\n",
       "      <td>1</td>\n",
       "      <td>0</td>\n",
       "      <td>NaN</td>\n",
       "      <td>hall</td>\n",
       "      <td>15.0</td>\n",
       "      <td>hall</td>\n",
       "      <td>15.0</td>\n",
       "    </tr>\n",
       "    <tr>\n",
       "      <th>56175</th>\n",
       "      <td>47354844</td>\n",
       "      <td>2017-11-17 16:10:26</td>\n",
       "      <td>0</td>\n",
       "      <td>48</td>\n",
       "      <td>Calculating cummulative returns mid-year to mi...</td>\n",
       "      <td>1</td>\n",
       "      <td>0</td>\n",
       "      <td>NaN</td>\n",
       "      <td>Chris</td>\n",
       "      <td>13.0</td>\n",
       "      <td>Chris</td>\n",
       "      <td>13.0</td>\n",
       "    </tr>\n",
       "  </tbody>\n",
       "</table>\n",
       "<p>1512 rows × 12 columns</p>\n",
       "</div>"
      ],
      "text/plain": [
       "             id         creationdate  score  viewcount  \\\n",
       "10      8273092  2011-11-25 18:39:02      1       2333   \n",
       "33      9721429  2012-03-15 14:08:31      9       5732   \n",
       "58     10020591  2012-04-04 23:17:23     21      20171   \n",
       "68     10175068  2012-04-16 13:27:44     15       7501   \n",
       "74     10264739  2012-04-22 02:35:06      9       2362   \n",
       "...         ...                  ...    ...        ...   \n",
       "55767  47419823  2017-11-21 18:06:38      0         35   \n",
       "55777  47350412  2017-11-17 12:12:51      0         40   \n",
       "55781  47170051  2017-11-08 01:21:47      1        100   \n",
       "55987  47134254  2017-11-06 10:01:27      0         62   \n",
       "56175  47354844  2017-11-17 16:10:26      0         48   \n",
       "\n",
       "                                                   title  answercount  \\\n",
       "10                         python: pandas install errors            2   \n",
       "33     How do I read a fix width format text file in ...            4   \n",
       "58     How to resample a dataframe with different fun...            4   \n",
       "68     Select data at a particular level from a Multi...            2   \n",
       "74     major memory problems reading in a csv file us...            3   \n",
       "...                                                  ...          ...   \n",
       "55767   Tring to load csv file in Pandas using dataframe            1   \n",
       "55777  Using .agg in pandas returns 'list object has ...            1   \n",
       "55781  How can I use a list comprehension to set colors?            1   \n",
       "55987  Merging list elements into one list of datafra...            1   \n",
       "56175  Calculating cummulative returns mid-year to mi...            1   \n",
       "\n",
       "       commentcount  favoritecount   quest_name  quest_rep     ans_name  \\\n",
       "10                0            NaN   codingknob     2279.0   codingknob   \n",
       "33                2            NaN  user1234440     3369.0  user1234440   \n",
       "58                0           15.0          bmu    17129.0          bmu   \n",
       "68                3            5.0       elyase    19551.0       elyase   \n",
       "74                2            7.0     vgoklani     1752.0     vgoklani   \n",
       "...             ...            ...          ...        ...          ...   \n",
       "55767             3            NaN     SaishB93       18.0     SaishB93   \n",
       "55777             4            NaN      Nord112        3.0      Nord112   \n",
       "55781             8            1.0        solub       79.0        solub   \n",
       "55987             0            NaN         hall       15.0         hall   \n",
       "56175             0            NaN        Chris       13.0        Chris   \n",
       "\n",
       "       ans_rep  \n",
       "10      2279.0  \n",
       "33      3369.0  \n",
       "58     17129.0  \n",
       "68     19551.0  \n",
       "74      1752.0  \n",
       "...        ...  \n",
       "55767     18.0  \n",
       "55777      3.0  \n",
       "55781     79.0  \n",
       "55987     15.0  \n",
       "56175     13.0  \n",
       "\n",
       "[1512 rows x 12 columns]"
      ]
     },
     "execution_count": 4,
     "metadata": {},
     "output_type": "execute_result"
    }
   ],
   "source": [
    "so[so['quest_name']==so['ans_name']]"
   ]
  },
  {
   "cell_type": "code",
   "execution_count": 5,
   "metadata": {},
   "outputs": [
    {
     "data": {
      "text/html": [
       "<div>\n",
       "<style scoped>\n",
       "    .dataframe tbody tr th:only-of-type {\n",
       "        vertical-align: middle;\n",
       "    }\n",
       "\n",
       "    .dataframe tbody tr th {\n",
       "        vertical-align: top;\n",
       "    }\n",
       "\n",
       "    .dataframe thead th {\n",
       "        text-align: right;\n",
       "    }\n",
       "</style>\n",
       "<table border=\"1\" class=\"dataframe\">\n",
       "  <thead>\n",
       "    <tr style=\"text-align: right;\">\n",
       "      <th></th>\n",
       "      <th>score</th>\n",
       "      <th>title</th>\n",
       "      <th>commentcount</th>\n",
       "      <th>quest_name</th>\n",
       "      <th>ans_name</th>\n",
       "    </tr>\n",
       "  </thead>\n",
       "  <tbody>\n",
       "    <tr>\n",
       "      <th>10</th>\n",
       "      <td>1</td>\n",
       "      <td>python: pandas install errors</td>\n",
       "      <td>0</td>\n",
       "      <td>codingknob</td>\n",
       "      <td>codingknob</td>\n",
       "    </tr>\n",
       "    <tr>\n",
       "      <th>33</th>\n",
       "      <td>9</td>\n",
       "      <td>How do I read a fix width format text file in ...</td>\n",
       "      <td>2</td>\n",
       "      <td>user1234440</td>\n",
       "      <td>user1234440</td>\n",
       "    </tr>\n",
       "    <tr>\n",
       "      <th>58</th>\n",
       "      <td>21</td>\n",
       "      <td>How to resample a dataframe with different fun...</td>\n",
       "      <td>0</td>\n",
       "      <td>bmu</td>\n",
       "      <td>bmu</td>\n",
       "    </tr>\n",
       "    <tr>\n",
       "      <th>68</th>\n",
       "      <td>15</td>\n",
       "      <td>Select data at a particular level from a Multi...</td>\n",
       "      <td>3</td>\n",
       "      <td>elyase</td>\n",
       "      <td>elyase</td>\n",
       "    </tr>\n",
       "    <tr>\n",
       "      <th>74</th>\n",
       "      <td>9</td>\n",
       "      <td>major memory problems reading in a csv file us...</td>\n",
       "      <td>2</td>\n",
       "      <td>vgoklani</td>\n",
       "      <td>vgoklani</td>\n",
       "    </tr>\n",
       "    <tr>\n",
       "      <th>...</th>\n",
       "      <td>...</td>\n",
       "      <td>...</td>\n",
       "      <td>...</td>\n",
       "      <td>...</td>\n",
       "      <td>...</td>\n",
       "    </tr>\n",
       "    <tr>\n",
       "      <th>55767</th>\n",
       "      <td>0</td>\n",
       "      <td>Tring to load csv file in Pandas using dataframe</td>\n",
       "      <td>3</td>\n",
       "      <td>SaishB93</td>\n",
       "      <td>SaishB93</td>\n",
       "    </tr>\n",
       "    <tr>\n",
       "      <th>55777</th>\n",
       "      <td>0</td>\n",
       "      <td>Using .agg in pandas returns 'list object has ...</td>\n",
       "      <td>4</td>\n",
       "      <td>Nord112</td>\n",
       "      <td>Nord112</td>\n",
       "    </tr>\n",
       "    <tr>\n",
       "      <th>55781</th>\n",
       "      <td>1</td>\n",
       "      <td>How can I use a list comprehension to set colors?</td>\n",
       "      <td>8</td>\n",
       "      <td>solub</td>\n",
       "      <td>solub</td>\n",
       "    </tr>\n",
       "    <tr>\n",
       "      <th>55987</th>\n",
       "      <td>0</td>\n",
       "      <td>Merging list elements into one list of datafra...</td>\n",
       "      <td>0</td>\n",
       "      <td>hall</td>\n",
       "      <td>hall</td>\n",
       "    </tr>\n",
       "    <tr>\n",
       "      <th>56175</th>\n",
       "      <td>0</td>\n",
       "      <td>Calculating cummulative returns mid-year to mi...</td>\n",
       "      <td>0</td>\n",
       "      <td>Chris</td>\n",
       "      <td>Chris</td>\n",
       "    </tr>\n",
       "  </tbody>\n",
       "</table>\n",
       "<p>1512 rows × 5 columns</p>\n",
       "</div>"
      ],
      "text/plain": [
       "       score                                              title  commentcount  \\\n",
       "10         1                      python: pandas install errors             0   \n",
       "33         9  How do I read a fix width format text file in ...             2   \n",
       "58        21  How to resample a dataframe with different fun...             0   \n",
       "68        15  Select data at a particular level from a Multi...             3   \n",
       "74         9  major memory problems reading in a csv file us...             2   \n",
       "...      ...                                                ...           ...   \n",
       "55767      0   Tring to load csv file in Pandas using dataframe             3   \n",
       "55777      0  Using .agg in pandas returns 'list object has ...             4   \n",
       "55781      1  How can I use a list comprehension to set colors?             8   \n",
       "55987      0  Merging list elements into one list of datafra...             0   \n",
       "56175      0  Calculating cummulative returns mid-year to mi...             0   \n",
       "\n",
       "        quest_name     ans_name  \n",
       "10      codingknob   codingknob  \n",
       "33     user1234440  user1234440  \n",
       "58             bmu          bmu  \n",
       "68          elyase       elyase  \n",
       "74        vgoklani     vgoklani  \n",
       "...            ...          ...  \n",
       "55767     SaishB93     SaishB93  \n",
       "55777      Nord112      Nord112  \n",
       "55781        solub        solub  \n",
       "55987         hall         hall  \n",
       "56175        Chris        Chris  \n",
       "\n",
       "[1512 rows x 5 columns]"
      ]
     },
     "execution_count": 5,
     "metadata": {},
     "output_type": "execute_result"
    }
   ],
   "source": [
    "so.loc[so['quest_name']==so['ans_name'],'score'::2]"
   ]
  },
  {
   "cell_type": "markdown",
   "metadata": {
    "colab_type": "text",
    "id": "DCp4I4GzU2di"
   },
   "source": [
    "Before we get to the technical definition of boolean indexing, let's see some examples of the types of questions it can answer.\n",
    "\n",
    "- Find all questions that were created before 2014\n",
    "- Find all questions with a score more than 50\n",
    "- Find all questions with a score between 50 and 100\n",
    "- Find all questions answered by Scott Boston\n",
    "- Find all questions answered by the following 5 users\n",
    "- Find all questions that were created between March, 2014 and October 2014 that were answered by Unutbu and have score less than 5.\n",
    "- Find all questions that have score between 5 and 10 or have a view count of greater than 10,000\n",
    "- Find all questions that are not answered by Scott Boston\n",
    "\n",
    "You will also see examples like this referred to by the term **queries**.<br>\n",
    "Each of the above queries have a strict logical criteria that must be checked one row at a time."
   ]
  },
  {
   "cell_type": "markdown",
   "metadata": {
    "colab_type": "text",
    "id": "DCp4I4GzU2di"
   },
   "source": [
    "**Keep or Discard entire row of data**\n",
    "\n",
    "If you were to manually answer the above queries, you would need to scan each row and determine whether the row as a whole meets the criterion or not. If the row meets the criteria, then it is kept and if not, then it is discarded.\n",
    "\n",
    "**Each row will have a *True* or *False* value associated with it**\n",
    "\n",
    "When you perform boolean indexing, each row of the DataFrame (or value of a Series) will have a `True` or `False` value associated with it depending on whether or not it meets the criterion. True/False values are known as **boolean**. The documentation refers to the entire procedure as **boolean indexing**. \n",
    "\n",
    "Since we are using the booleans to select data, it is sometimes referred to as **boolean selection**. Essentially, we are using booleans to select subsets of data."
   ]
  },
  {
   "cell_type": "markdown",
   "metadata": {
    "colab_type": "text",
    "id": "DCp4I4GzU2di"
   },
   "source": [
    "## Using `[ ]` and `.loc`\n",
    "\n",
    "We will use the same two indexers, `[ ]` and `.loc` from previous chapter to complete our boolean selections. We will do so by placing a sequence of booleans inside of these indexer. The sequence will be the same number of rows/values as the DataFrame/Series it is doing the selection on.\n",
    "\n",
    "## Boolean selection with `[ ]`  \n",
    "\n",
    "To simplify things, we will only the brackets to get started with boolean indexing, `[ ]`."
   ]
  },
  {
   "cell_type": "code",
   "execution_count": 67,
   "metadata": {
    "colab": {
     "base_uri": "https://localhost:8080/",
     "height": 289
    },
    "colab_type": "code",
    "executionInfo": {
     "elapsed": 802,
     "status": "ok",
     "timestamp": 1566295988725,
     "user": {
      "displayName": "Ai Adventures",
      "photoUrl": "https://lh3.googleusercontent.com/-OQdAjp2vMZo/AAAAAAAAAAI/AAAAAAAAAA8/8FVq41kVT5s/s64/photo.jpg",
      "userId": "14635366068755244481"
     },
     "user_tz": -330
    },
    "id": "d-exnqkpU2dl",
    "outputId": "78dd0f86-36ab-421d-9bdf-3eb5e217fc6e"
   },
   "outputs": [
    {
     "data": {
      "text/html": [
       "<div>\n",
       "<style scoped>\n",
       "    .dataframe tbody tr th:only-of-type {\n",
       "        vertical-align: middle;\n",
       "    }\n",
       "\n",
       "    .dataframe tbody tr th {\n",
       "        vertical-align: top;\n",
       "    }\n",
       "\n",
       "    .dataframe thead th {\n",
       "        text-align: right;\n",
       "    }\n",
       "</style>\n",
       "<table border=\"1\" class=\"dataframe\">\n",
       "  <thead>\n",
       "    <tr style=\"text-align: right;\">\n",
       "      <th></th>\n",
       "      <th>id</th>\n",
       "      <th>creationdate</th>\n",
       "      <th>score</th>\n",
       "      <th>viewcount</th>\n",
       "      <th>title</th>\n",
       "      <th>answercount</th>\n",
       "      <th>commentcount</th>\n",
       "      <th>favoritecount</th>\n",
       "      <th>quest_name</th>\n",
       "      <th>quest_rep</th>\n",
       "      <th>ans_name</th>\n",
       "      <th>ans_rep</th>\n",
       "    </tr>\n",
       "  </thead>\n",
       "  <tbody>\n",
       "    <tr>\n",
       "      <th>0</th>\n",
       "      <td>5486226</td>\n",
       "      <td>2011-03-30 12:26:50</td>\n",
       "      <td>4</td>\n",
       "      <td>2113</td>\n",
       "      <td>Rolling median in python</td>\n",
       "      <td>3</td>\n",
       "      <td>4</td>\n",
       "      <td>1.0</td>\n",
       "      <td>yueerhu</td>\n",
       "      <td>125.0</td>\n",
       "      <td>Mike Pennington</td>\n",
       "      <td>26995.0</td>\n",
       "    </tr>\n",
       "    <tr>\n",
       "      <th>1</th>\n",
       "      <td>5515021</td>\n",
       "      <td>2011-04-01 14:50:44</td>\n",
       "      <td>8</td>\n",
       "      <td>7015</td>\n",
       "      <td>Compute a compounded return series in Python</td>\n",
       "      <td>3</td>\n",
       "      <td>6</td>\n",
       "      <td>7.0</td>\n",
       "      <td>Jason Strimpel</td>\n",
       "      <td>3301.0</td>\n",
       "      <td>Mike Pennington</td>\n",
       "      <td>26995.0</td>\n",
       "    </tr>\n",
       "    <tr>\n",
       "      <th>2</th>\n",
       "      <td>5558607</td>\n",
       "      <td>2011-04-05 21:13:50</td>\n",
       "      <td>2</td>\n",
       "      <td>7392</td>\n",
       "      <td>Sort a pandas DataMatrix in ascending order</td>\n",
       "      <td>2</td>\n",
       "      <td>0</td>\n",
       "      <td>1.0</td>\n",
       "      <td>Jason Strimpel</td>\n",
       "      <td>3301.0</td>\n",
       "      <td>Wes McKinney</td>\n",
       "      <td>43310.0</td>\n",
       "    </tr>\n",
       "    <tr>\n",
       "      <th>3</th>\n",
       "      <td>6467832</td>\n",
       "      <td>2011-06-24 12:31:45</td>\n",
       "      <td>9</td>\n",
       "      <td>13056</td>\n",
       "      <td>How to get the correlation between two timeser...</td>\n",
       "      <td>1</td>\n",
       "      <td>0</td>\n",
       "      <td>7.0</td>\n",
       "      <td>user814005</td>\n",
       "      <td>117.0</td>\n",
       "      <td>Wes McKinney</td>\n",
       "      <td>43310.0</td>\n",
       "    </tr>\n",
       "    <tr>\n",
       "      <th>4</th>\n",
       "      <td>7577546</td>\n",
       "      <td>2011-09-28 01:58:38</td>\n",
       "      <td>9</td>\n",
       "      <td>2488</td>\n",
       "      <td>Using pandas, how do I subsample a large DataF...</td>\n",
       "      <td>1</td>\n",
       "      <td>0</td>\n",
       "      <td>5.0</td>\n",
       "      <td>Uri Laserson</td>\n",
       "      <td>958.0</td>\n",
       "      <td>HYRY</td>\n",
       "      <td>54137.0</td>\n",
       "    </tr>\n",
       "  </tbody>\n",
       "</table>\n",
       "</div>"
      ],
      "text/plain": [
       "        id         creationdate  score  viewcount  \\\n",
       "0  5486226  2011-03-30 12:26:50      4       2113   \n",
       "1  5515021  2011-04-01 14:50:44      8       7015   \n",
       "2  5558607  2011-04-05 21:13:50      2       7392   \n",
       "3  6467832  2011-06-24 12:31:45      9      13056   \n",
       "4  7577546  2011-09-28 01:58:38      9       2488   \n",
       "\n",
       "                                               title  answercount  \\\n",
       "0                           Rolling median in python            3   \n",
       "1       Compute a compounded return series in Python            3   \n",
       "2        Sort a pandas DataMatrix in ascending order            2   \n",
       "3  How to get the correlation between two timeser...            1   \n",
       "4  Using pandas, how do I subsample a large DataF...            1   \n",
       "\n",
       "   commentcount  favoritecount      quest_name  quest_rep         ans_name  \\\n",
       "0             4            1.0         yueerhu      125.0  Mike Pennington   \n",
       "1             6            7.0  Jason Strimpel     3301.0  Mike Pennington   \n",
       "2             0            1.0  Jason Strimpel     3301.0     Wes McKinney   \n",
       "3             0            7.0      user814005      117.0     Wes McKinney   \n",
       "4             0            5.0    Uri Laserson      958.0             HYRY   \n",
       "\n",
       "   ans_rep  \n",
       "0  26995.0  \n",
       "1  26995.0  \n",
       "2  43310.0  \n",
       "3  43310.0  \n",
       "4  54137.0  "
      ]
     },
     "execution_count": 67,
     "metadata": {},
     "output_type": "execute_result"
    }
   ],
   "source": [
    "so_head = so.head()\n",
    "so_head"
   ]
  },
  {
   "cell_type": "markdown",
   "metadata": {
    "colab_type": "text",
    "id": "QJ7nzvW6U2dp"
   },
   "source": [
    "### Manual created list\n",
    "\n",
    "For instance, let's begin by creating the following list:"
   ]
  },
  {
   "cell_type": "code",
   "execution_count": 68,
   "metadata": {
    "colab": {},
    "colab_type": "code",
    "id": "uGVf9mhcU2dp"
   },
   "outputs": [],
   "source": [
    "criteria = [True, False, True, False, False]"
   ]
  },
  {
   "cell_type": "markdown",
   "metadata": {
    "colab_type": "text",
    "id": "7lhq4pD9U2ds"
   },
   "source": [
    "We can pass this list of booleans to `[ ]` operator and complete our selection:"
   ]
  },
  {
   "cell_type": "code",
   "execution_count": 69,
   "metadata": {
    "colab": {
     "base_uri": "https://localhost:8080/",
     "height": 145
    },
    "colab_type": "code",
    "executionInfo": {
     "elapsed": 1046,
     "status": "ok",
     "timestamp": 1566296004101,
     "user": {
      "displayName": "Ai Adventures",
      "photoUrl": "https://lh3.googleusercontent.com/-OQdAjp2vMZo/AAAAAAAAAAI/AAAAAAAAAA8/8FVq41kVT5s/s64/photo.jpg",
      "userId": "14635366068755244481"
     },
     "user_tz": -330
    },
    "id": "9aiWvbRaU2dt",
    "outputId": "03d83e60-997c-448f-b919-fcc44dc322cc"
   },
   "outputs": [
    {
     "data": {
      "text/html": [
       "<div>\n",
       "<style scoped>\n",
       "    .dataframe tbody tr th:only-of-type {\n",
       "        vertical-align: middle;\n",
       "    }\n",
       "\n",
       "    .dataframe tbody tr th {\n",
       "        vertical-align: top;\n",
       "    }\n",
       "\n",
       "    .dataframe thead th {\n",
       "        text-align: right;\n",
       "    }\n",
       "</style>\n",
       "<table border=\"1\" class=\"dataframe\">\n",
       "  <thead>\n",
       "    <tr style=\"text-align: right;\">\n",
       "      <th></th>\n",
       "      <th>id</th>\n",
       "      <th>creationdate</th>\n",
       "      <th>score</th>\n",
       "      <th>viewcount</th>\n",
       "      <th>title</th>\n",
       "      <th>answercount</th>\n",
       "      <th>commentcount</th>\n",
       "      <th>favoritecount</th>\n",
       "      <th>quest_name</th>\n",
       "      <th>quest_rep</th>\n",
       "      <th>ans_name</th>\n",
       "      <th>ans_rep</th>\n",
       "    </tr>\n",
       "  </thead>\n",
       "  <tbody>\n",
       "    <tr>\n",
       "      <th>0</th>\n",
       "      <td>5486226</td>\n",
       "      <td>2011-03-30 12:26:50</td>\n",
       "      <td>4</td>\n",
       "      <td>2113</td>\n",
       "      <td>Rolling median in python</td>\n",
       "      <td>3</td>\n",
       "      <td>4</td>\n",
       "      <td>1.0</td>\n",
       "      <td>yueerhu</td>\n",
       "      <td>125.0</td>\n",
       "      <td>Mike Pennington</td>\n",
       "      <td>26995.0</td>\n",
       "    </tr>\n",
       "    <tr>\n",
       "      <th>2</th>\n",
       "      <td>5558607</td>\n",
       "      <td>2011-04-05 21:13:50</td>\n",
       "      <td>2</td>\n",
       "      <td>7392</td>\n",
       "      <td>Sort a pandas DataMatrix in ascending order</td>\n",
       "      <td>2</td>\n",
       "      <td>0</td>\n",
       "      <td>1.0</td>\n",
       "      <td>Jason Strimpel</td>\n",
       "      <td>3301.0</td>\n",
       "      <td>Wes McKinney</td>\n",
       "      <td>43310.0</td>\n",
       "    </tr>\n",
       "  </tbody>\n",
       "</table>\n",
       "</div>"
      ],
      "text/plain": [
       "        id         creationdate  score  viewcount  \\\n",
       "0  5486226  2011-03-30 12:26:50      4       2113   \n",
       "2  5558607  2011-04-05 21:13:50      2       7392   \n",
       "\n",
       "                                         title  answercount  commentcount  \\\n",
       "0                     Rolling median in python            3             4   \n",
       "2  Sort a pandas DataMatrix in ascending order            2             0   \n",
       "\n",
       "   favoritecount      quest_name  quest_rep         ans_name  ans_rep  \n",
       "0            1.0         yueerhu      125.0  Mike Pennington  26995.0  \n",
       "2            1.0  Jason Strimpel     3301.0     Wes McKinney  43310.0  "
      ]
     },
     "execution_count": 69,
     "metadata": {},
     "output_type": "execute_result"
    }
   ],
   "source": [
    "so_head.loc[criteria]"
   ]
  },
  {
   "cell_type": "markdown",
   "metadata": {
    "colab_type": "text",
    "id": "xsajrFTOU2dw"
   },
   "source": [
    "**Wait a second... Isn't `[]` just for column selection?**\n",
    "\n",
    "#### Operator Overloading\n",
    "The indexing operator changes behavior based on what type of object is passed to it. The following pseudocode outlines how DataFrame indexing operator handles the object that it is passed:\n",
    "```{code-block}python\n",
    "df[item]  # Where `df` is a DataFrame and item is some object\n",
    "\n",
    "If item is a string then    \n",
    "    Find a column name that matches the item exactly    \n",
    "    Raise KeyError if there is no match    \n",
    "    Return the column as a Series\n",
    "    \n",
    "If item is a list of strings then    \n",
    "    Raise KeyError if one or more strings in item do not match columns    \n",
    "    Return a DataFrame with just the columns in the list\n",
    "    \n",
    "If item is a slice object then   \n",
    "    Works with either integer or string slices   \n",
    "    Raise KeyError if label from label slice is not in index   \n",
    "    Return all ROWS that are selected by the slice\n",
    "\n",
    "If item is a list, Series or ndarray of booleans then   \n",
    "    Raise ValueError if length of item not equal to length of DataFrame   \n",
    "    Use the booleans to return only the rows with True in same location\n",
    "```"
   ]
  },
  {
   "cell_type": "markdown",
   "metadata": {
    "colab_type": "text",
    "id": "xsajrFTOU2dw"
   },
   "source": [
    "In summary, primarily `[ ]` selects **columns**, but if you pass it a sequence of booleans it will select all **rows** that are **True**.`[ ]` operator is overloaded. This means, that depending on the inputs, pandas will do something completely different. Here are the rules for the different objects you pass to `[ ]`.\n",
    "- *string* - return a column as a Series\n",
    "- *list of strings* - return all those columns as a DataFrame\n",
    "- *a slice* - select rows (can do both label and integer location - confusing!)\n",
    "- *a sequence of booleans* - select all rows where **`True`**"
   ]
  },
  {
   "cell_type": "markdown",
   "metadata": {
    "colab_type": "text",
    "id": "pyNXSt5vU2dx"
   },
   "source": [
    "### Use NumPy arrays\n",
    "\n",
    "You can also use NumPy arrays to do boolean selection. NumPy arrays have no index so you won't get the error above, but your array needs to be the same exact length as the object you are doing boolean selection on."
   ]
  },
  {
   "cell_type": "code",
   "execution_count": 70,
   "metadata": {
    "colab": {
     "base_uri": "https://localhost:8080/",
     "height": 80
    },
    "colab_type": "code",
    "executionInfo": {
     "elapsed": 1225,
     "status": "ok",
     "timestamp": 1566296011166,
     "user": {
      "displayName": "Ai Adventures",
      "photoUrl": "https://lh3.googleusercontent.com/-OQdAjp2vMZo/AAAAAAAAAAI/AAAAAAAAAA8/8FVq41kVT5s/s64/photo.jpg",
      "userId": "14635366068755244481"
     },
     "user_tz": -330
    },
    "id": "Q_WMYnDBU2dy",
    "outputId": "955a089b-4245-4bc0-f3a6-daba24007d60"
   },
   "outputs": [
    {
     "data": {
      "text/html": [
       "<div>\n",
       "<style scoped>\n",
       "    .dataframe tbody tr th:only-of-type {\n",
       "        vertical-align: middle;\n",
       "    }\n",
       "\n",
       "    .dataframe tbody tr th {\n",
       "        vertical-align: top;\n",
       "    }\n",
       "\n",
       "    .dataframe thead th {\n",
       "        text-align: right;\n",
       "    }\n",
       "</style>\n",
       "<table border=\"1\" class=\"dataframe\">\n",
       "  <thead>\n",
       "    <tr style=\"text-align: right;\">\n",
       "      <th></th>\n",
       "      <th>id</th>\n",
       "      <th>creationdate</th>\n",
       "      <th>score</th>\n",
       "      <th>viewcount</th>\n",
       "      <th>title</th>\n",
       "      <th>answercount</th>\n",
       "      <th>commentcount</th>\n",
       "      <th>favoritecount</th>\n",
       "      <th>quest_name</th>\n",
       "      <th>quest_rep</th>\n",
       "      <th>ans_name</th>\n",
       "      <th>ans_rep</th>\n",
       "    </tr>\n",
       "  </thead>\n",
       "  <tbody>\n",
       "    <tr>\n",
       "      <th>0</th>\n",
       "      <td>5486226</td>\n",
       "      <td>2011-03-30 12:26:50</td>\n",
       "      <td>4</td>\n",
       "      <td>2113</td>\n",
       "      <td>Rolling median in python</td>\n",
       "      <td>3</td>\n",
       "      <td>4</td>\n",
       "      <td>1.0</td>\n",
       "      <td>yueerhu</td>\n",
       "      <td>125.0</td>\n",
       "      <td>Mike Pennington</td>\n",
       "      <td>26995.0</td>\n",
       "    </tr>\n",
       "  </tbody>\n",
       "</table>\n",
       "</div>"
      ],
      "text/plain": [
       "        id         creationdate  score  viewcount                     title  \\\n",
       "0  5486226  2011-03-30 12:26:50      4       2113  Rolling median in python   \n",
       "\n",
       "   answercount  commentcount  favoritecount quest_name  quest_rep  \\\n",
       "0            3             4            1.0    yueerhu      125.0   \n",
       "\n",
       "          ans_name  ans_rep  \n",
       "0  Mike Pennington  26995.0  "
      ]
     },
     "execution_count": 70,
     "metadata": {},
     "output_type": "execute_result"
    }
   ],
   "source": [
    "a = np.array([True, False, False, False, False])\n",
    "so_head[a]"
   ]
  },
  {
   "cell_type": "code",
   "execution_count": 71,
   "metadata": {
    "colab": {},
    "colab_type": "code",
    "id": "jqzEnIjLU2d2"
   },
   "outputs": [],
   "source": [
    "c1 = [True, False, False]*4"
   ]
  },
  {
   "cell_type": "code",
   "execution_count": 72,
   "metadata": {
    "colab": {
     "base_uri": "https://localhost:8080/",
     "height": 221
    },
    "colab_type": "code",
    "executionInfo": {
     "elapsed": 733,
     "status": "ok",
     "timestamp": 1566296038860,
     "user": {
      "displayName": "Ai Adventures",
      "photoUrl": "https://lh3.googleusercontent.com/-OQdAjp2vMZo/AAAAAAAAAAI/AAAAAAAAAA8/8FVq41kVT5s/s64/photo.jpg",
      "userId": "14635366068755244481"
     },
     "user_tz": -330
    },
    "id": "kNxaBM4_U2d5",
    "outputId": "a32ba1b0-3917-4cf6-d1a5-56803162ddbe"
   },
   "outputs": [
    {
     "data": {
      "text/plain": [
       "[True,\n",
       " False,\n",
       " False,\n",
       " True,\n",
       " False,\n",
       " False,\n",
       " True,\n",
       " False,\n",
       " False,\n",
       " True,\n",
       " False,\n",
       " False]"
      ]
     },
     "execution_count": 72,
     "metadata": {},
     "output_type": "execute_result"
    }
   ],
   "source": [
    "c1"
   ]
  },
  {
   "cell_type": "code",
   "execution_count": 73,
   "metadata": {
    "colab": {
     "base_uri": "https://localhost:8080/",
     "height": 204
    },
    "colab_type": "code",
    "executionInfo": {
     "elapsed": 673,
     "status": "ok",
     "timestamp": 1566296040458,
     "user": {
      "displayName": "Ai Adventures",
      "photoUrl": "https://lh3.googleusercontent.com/-OQdAjp2vMZo/AAAAAAAAAAI/AAAAAAAAAA8/8FVq41kVT5s/s64/photo.jpg",
      "userId": "14635366068755244481"
     },
     "user_tz": -330
    },
    "id": "lC4FP3dCU2d9",
    "outputId": "bf37b6b1-83fd-4e74-9727-f45f2989cb19"
   },
   "outputs": [
    {
     "data": {
      "text/html": [
       "<div>\n",
       "<style scoped>\n",
       "    .dataframe tbody tr th:only-of-type {\n",
       "        vertical-align: middle;\n",
       "    }\n",
       "\n",
       "    .dataframe tbody tr th {\n",
       "        vertical-align: top;\n",
       "    }\n",
       "\n",
       "    .dataframe thead th {\n",
       "        text-align: right;\n",
       "    }\n",
       "</style>\n",
       "<table border=\"1\" class=\"dataframe\">\n",
       "  <thead>\n",
       "    <tr style=\"text-align: right;\">\n",
       "      <th></th>\n",
       "      <th>id</th>\n",
       "      <th>viewcount</th>\n",
       "      <th>commentcount</th>\n",
       "      <th>quest_rep</th>\n",
       "    </tr>\n",
       "  </thead>\n",
       "  <tbody>\n",
       "    <tr>\n",
       "      <th>0</th>\n",
       "      <td>5486226</td>\n",
       "      <td>2113</td>\n",
       "      <td>4</td>\n",
       "      <td>125.0</td>\n",
       "    </tr>\n",
       "    <tr>\n",
       "      <th>1</th>\n",
       "      <td>5515021</td>\n",
       "      <td>7015</td>\n",
       "      <td>6</td>\n",
       "      <td>3301.0</td>\n",
       "    </tr>\n",
       "    <tr>\n",
       "      <th>2</th>\n",
       "      <td>5558607</td>\n",
       "      <td>7392</td>\n",
       "      <td>0</td>\n",
       "      <td>3301.0</td>\n",
       "    </tr>\n",
       "    <tr>\n",
       "      <th>3</th>\n",
       "      <td>6467832</td>\n",
       "      <td>13056</td>\n",
       "      <td>0</td>\n",
       "      <td>117.0</td>\n",
       "    </tr>\n",
       "    <tr>\n",
       "      <th>4</th>\n",
       "      <td>7577546</td>\n",
       "      <td>2488</td>\n",
       "      <td>0</td>\n",
       "      <td>958.0</td>\n",
       "    </tr>\n",
       "  </tbody>\n",
       "</table>\n",
       "</div>"
      ],
      "text/plain": [
       "        id  viewcount  commentcount  quest_rep\n",
       "0  5486226       2113             4      125.0\n",
       "1  5515021       7015             6     3301.0\n",
       "2  5558607       7392             0     3301.0\n",
       "3  6467832      13056             0      117.0\n",
       "4  7577546       2488             0      958.0"
      ]
     },
     "execution_count": 73,
     "metadata": {},
     "output_type": "execute_result"
    }
   ],
   "source": [
    "so_head.loc[:, c1]"
   ]
  },
  {
   "cell_type": "markdown",
   "metadata": {
    "colab_type": "text",
    "id": "qfSIvMpqU2eA"
   },
   "source": [
    "**What do you mean by 'sequence'?**\n",
    "\n",
    "We keep using the term **sequence of booleans** to refer to the `True/False` values. Technically, the most common built-in [Python sequence](https://docs.python.org/3/library/stdtypes.html#typesseq) types are lists and tuples. In addition to a list, you will most often be using a pandas Series as your 'sequence' of booleans."
   ]
  },
  {
   "cell_type": "markdown",
   "metadata": {
    "colab_type": "text",
    "id": "oVseiki7U2eB"
   },
   "source": [
    "### Using pandas series\n",
    "\n",
    "Let's manually create a boolean Series to select the last three rows of **`so_head`**."
   ]
  },
  {
   "cell_type": "code",
   "execution_count": 74,
   "metadata": {
    "colab": {
     "base_uri": "https://localhost:8080/",
     "height": 119
    },
    "colab_type": "code",
    "executionInfo": {
     "elapsed": 956,
     "status": "ok",
     "timestamp": 1566296044146,
     "user": {
      "displayName": "Ai Adventures",
      "photoUrl": "https://lh3.googleusercontent.com/-OQdAjp2vMZo/AAAAAAAAAAI/AAAAAAAAAA8/8FVq41kVT5s/s64/photo.jpg",
      "userId": "14635366068755244481"
     },
     "user_tz": -330
    },
    "id": "Pk-0qeKRU2eC",
    "outputId": "55527316-7d44-4d5d-ed7a-54bcb296d97c"
   },
   "outputs": [
    {
     "data": {
      "text/plain": [
       "0    False\n",
       "1    False\n",
       "2     True\n",
       "3     True\n",
       "4     True\n",
       "dtype: bool"
      ]
     },
     "execution_count": 74,
     "metadata": {},
     "output_type": "execute_result"
    }
   ],
   "source": [
    "s = pd.Series([False, False, True, True, True])\n",
    "s"
   ]
  },
  {
   "cell_type": "code",
   "execution_count": 75,
   "metadata": {
    "colab": {
     "base_uri": "https://localhost:8080/",
     "height": 193
    },
    "colab_type": "code",
    "executionInfo": {
     "elapsed": 1088,
     "status": "ok",
     "timestamp": 1566296046749,
     "user": {
      "displayName": "Ai Adventures",
      "photoUrl": "https://lh3.googleusercontent.com/-OQdAjp2vMZo/AAAAAAAAAAI/AAAAAAAAAA8/8FVq41kVT5s/s64/photo.jpg",
      "userId": "14635366068755244481"
     },
     "user_tz": -330
    },
    "id": "YqrQLIwYU2eF",
    "outputId": "610bb924-4de5-4078-a64e-276126da9efb"
   },
   "outputs": [
    {
     "data": {
      "text/html": [
       "<div>\n",
       "<style scoped>\n",
       "    .dataframe tbody tr th:only-of-type {\n",
       "        vertical-align: middle;\n",
       "    }\n",
       "\n",
       "    .dataframe tbody tr th {\n",
       "        vertical-align: top;\n",
       "    }\n",
       "\n",
       "    .dataframe thead th {\n",
       "        text-align: right;\n",
       "    }\n",
       "</style>\n",
       "<table border=\"1\" class=\"dataframe\">\n",
       "  <thead>\n",
       "    <tr style=\"text-align: right;\">\n",
       "      <th></th>\n",
       "      <th>id</th>\n",
       "      <th>creationdate</th>\n",
       "      <th>score</th>\n",
       "      <th>viewcount</th>\n",
       "      <th>title</th>\n",
       "      <th>answercount</th>\n",
       "      <th>commentcount</th>\n",
       "      <th>favoritecount</th>\n",
       "      <th>quest_name</th>\n",
       "      <th>quest_rep</th>\n",
       "      <th>ans_name</th>\n",
       "      <th>ans_rep</th>\n",
       "    </tr>\n",
       "  </thead>\n",
       "  <tbody>\n",
       "    <tr>\n",
       "      <th>2</th>\n",
       "      <td>5558607</td>\n",
       "      <td>2011-04-05 21:13:50</td>\n",
       "      <td>2</td>\n",
       "      <td>7392</td>\n",
       "      <td>Sort a pandas DataMatrix in ascending order</td>\n",
       "      <td>2</td>\n",
       "      <td>0</td>\n",
       "      <td>1.0</td>\n",
       "      <td>Jason Strimpel</td>\n",
       "      <td>3301.0</td>\n",
       "      <td>Wes McKinney</td>\n",
       "      <td>43310.0</td>\n",
       "    </tr>\n",
       "    <tr>\n",
       "      <th>3</th>\n",
       "      <td>6467832</td>\n",
       "      <td>2011-06-24 12:31:45</td>\n",
       "      <td>9</td>\n",
       "      <td>13056</td>\n",
       "      <td>How to get the correlation between two timeser...</td>\n",
       "      <td>1</td>\n",
       "      <td>0</td>\n",
       "      <td>7.0</td>\n",
       "      <td>user814005</td>\n",
       "      <td>117.0</td>\n",
       "      <td>Wes McKinney</td>\n",
       "      <td>43310.0</td>\n",
       "    </tr>\n",
       "    <tr>\n",
       "      <th>4</th>\n",
       "      <td>7577546</td>\n",
       "      <td>2011-09-28 01:58:38</td>\n",
       "      <td>9</td>\n",
       "      <td>2488</td>\n",
       "      <td>Using pandas, how do I subsample a large DataF...</td>\n",
       "      <td>1</td>\n",
       "      <td>0</td>\n",
       "      <td>5.0</td>\n",
       "      <td>Uri Laserson</td>\n",
       "      <td>958.0</td>\n",
       "      <td>HYRY</td>\n",
       "      <td>54137.0</td>\n",
       "    </tr>\n",
       "  </tbody>\n",
       "</table>\n",
       "</div>"
      ],
      "text/plain": [
       "        id         creationdate  score  viewcount  \\\n",
       "2  5558607  2011-04-05 21:13:50      2       7392   \n",
       "3  6467832  2011-06-24 12:31:45      9      13056   \n",
       "4  7577546  2011-09-28 01:58:38      9       2488   \n",
       "\n",
       "                                               title  answercount  \\\n",
       "2        Sort a pandas DataMatrix in ascending order            2   \n",
       "3  How to get the correlation between two timeser...            1   \n",
       "4  Using pandas, how do I subsample a large DataF...            1   \n",
       "\n",
       "   commentcount  favoritecount      quest_name  quest_rep      ans_name  \\\n",
       "2             0            1.0  Jason Strimpel     3301.0  Wes McKinney   \n",
       "3             0            7.0      user814005      117.0  Wes McKinney   \n",
       "4             0            5.0    Uri Laserson      958.0          HYRY   \n",
       "\n",
       "   ans_rep  \n",
       "2  43310.0  \n",
       "3  43310.0  \n",
       "4  54137.0  "
      ]
     },
     "execution_count": 75,
     "metadata": {},
     "output_type": "execute_result"
    }
   ],
   "source": [
    "so_head[s]"
   ]
  },
  {
   "cell_type": "markdown",
   "metadata": {
    "colab_type": "text",
    "id": "1HJgQ6z2U2eI"
   },
   "source": [
    "## Index alignment"
   ]
  },
  {
   "cell_type": "code",
   "execution_count": 76,
   "metadata": {
    "colab": {
     "base_uri": "https://localhost:8080/",
     "height": 119
    },
    "colab_type": "code",
    "executionInfo": {
     "elapsed": 1095,
     "status": "ok",
     "timestamp": 1566296141341,
     "user": {
      "displayName": "Ai Adventures",
      "photoUrl": "https://lh3.googleusercontent.com/-OQdAjp2vMZo/AAAAAAAAAAI/AAAAAAAAAA8/8FVq41kVT5s/s64/photo.jpg",
      "userId": "14635366068755244481"
     },
     "user_tz": -330
    },
    "id": "QLgl3f4UU2eJ",
    "outputId": "c69329ec-70ef-4dc1-a235-ab44e0aaaad1"
   },
   "outputs": [
    {
     "data": {
      "text/plain": [
       "0    False\n",
       "1    False\n",
       "2     True\n",
       "3     True\n",
       "4     True\n",
       "dtype: bool"
      ]
     },
     "execution_count": 76,
     "metadata": {},
     "output_type": "execute_result"
    }
   ],
   "source": [
    "s = pd.Series([False, False, True, True, True])\n",
    "s"
   ]
  },
  {
   "cell_type": "code",
   "execution_count": 77,
   "metadata": {
    "colab": {
     "base_uri": "https://localhost:8080/",
     "height": 289
    },
    "colab_type": "code",
    "executionInfo": {
     "elapsed": 792,
     "status": "ok",
     "timestamp": 1566296142879,
     "user": {
      "displayName": "Ai Adventures",
      "photoUrl": "https://lh3.googleusercontent.com/-OQdAjp2vMZo/AAAAAAAAAAI/AAAAAAAAAA8/8FVq41kVT5s/s64/photo.jpg",
      "userId": "14635366068755244481"
     },
     "user_tz": -330
    },
    "id": "xSPWFvYFU2eQ",
    "outputId": "b3c9ec36-b95c-4b33-90d6-9261634beb0f",
    "scrolled": true
   },
   "outputs": [
    {
     "data": {
      "text/html": [
       "<div>\n",
       "<style scoped>\n",
       "    .dataframe tbody tr th:only-of-type {\n",
       "        vertical-align: middle;\n",
       "    }\n",
       "\n",
       "    .dataframe tbody tr th {\n",
       "        vertical-align: top;\n",
       "    }\n",
       "\n",
       "    .dataframe thead th {\n",
       "        text-align: right;\n",
       "    }\n",
       "</style>\n",
       "<table border=\"1\" class=\"dataframe\">\n",
       "  <thead>\n",
       "    <tr style=\"text-align: right;\">\n",
       "      <th></th>\n",
       "      <th>id</th>\n",
       "      <th>creationdate</th>\n",
       "      <th>score</th>\n",
       "      <th>viewcount</th>\n",
       "      <th>title</th>\n",
       "      <th>answercount</th>\n",
       "      <th>commentcount</th>\n",
       "      <th>favoritecount</th>\n",
       "      <th>quest_name</th>\n",
       "      <th>quest_rep</th>\n",
       "      <th>ans_name</th>\n",
       "      <th>ans_rep</th>\n",
       "    </tr>\n",
       "  </thead>\n",
       "  <tbody>\n",
       "    <tr>\n",
       "      <th>0</th>\n",
       "      <td>5486226</td>\n",
       "      <td>2011-03-30 12:26:50</td>\n",
       "      <td>4</td>\n",
       "      <td>2113</td>\n",
       "      <td>Rolling median in python</td>\n",
       "      <td>3</td>\n",
       "      <td>4</td>\n",
       "      <td>1.0</td>\n",
       "      <td>yueerhu</td>\n",
       "      <td>125.0</td>\n",
       "      <td>Mike Pennington</td>\n",
       "      <td>26995.0</td>\n",
       "    </tr>\n",
       "    <tr>\n",
       "      <th>1</th>\n",
       "      <td>5515021</td>\n",
       "      <td>2011-04-01 14:50:44</td>\n",
       "      <td>8</td>\n",
       "      <td>7015</td>\n",
       "      <td>Compute a compounded return series in Python</td>\n",
       "      <td>3</td>\n",
       "      <td>6</td>\n",
       "      <td>7.0</td>\n",
       "      <td>Jason Strimpel</td>\n",
       "      <td>3301.0</td>\n",
       "      <td>Mike Pennington</td>\n",
       "      <td>26995.0</td>\n",
       "    </tr>\n",
       "    <tr>\n",
       "      <th>2</th>\n",
       "      <td>5558607</td>\n",
       "      <td>2011-04-05 21:13:50</td>\n",
       "      <td>2</td>\n",
       "      <td>7392</td>\n",
       "      <td>Sort a pandas DataMatrix in ascending order</td>\n",
       "      <td>2</td>\n",
       "      <td>0</td>\n",
       "      <td>1.0</td>\n",
       "      <td>Jason Strimpel</td>\n",
       "      <td>3301.0</td>\n",
       "      <td>Wes McKinney</td>\n",
       "      <td>43310.0</td>\n",
       "    </tr>\n",
       "    <tr>\n",
       "      <th>3</th>\n",
       "      <td>6467832</td>\n",
       "      <td>2011-06-24 12:31:45</td>\n",
       "      <td>9</td>\n",
       "      <td>13056</td>\n",
       "      <td>How to get the correlation between two timeser...</td>\n",
       "      <td>1</td>\n",
       "      <td>0</td>\n",
       "      <td>7.0</td>\n",
       "      <td>user814005</td>\n",
       "      <td>117.0</td>\n",
       "      <td>Wes McKinney</td>\n",
       "      <td>43310.0</td>\n",
       "    </tr>\n",
       "    <tr>\n",
       "      <th>4</th>\n",
       "      <td>7577546</td>\n",
       "      <td>2011-09-28 01:58:38</td>\n",
       "      <td>9</td>\n",
       "      <td>2488</td>\n",
       "      <td>Using pandas, how do I subsample a large DataF...</td>\n",
       "      <td>1</td>\n",
       "      <td>0</td>\n",
       "      <td>5.0</td>\n",
       "      <td>Uri Laserson</td>\n",
       "      <td>958.0</td>\n",
       "      <td>HYRY</td>\n",
       "      <td>54137.0</td>\n",
       "    </tr>\n",
       "  </tbody>\n",
       "</table>\n",
       "</div>"
      ],
      "text/plain": [
       "        id         creationdate  score  viewcount  \\\n",
       "0  5486226  2011-03-30 12:26:50      4       2113   \n",
       "1  5515021  2011-04-01 14:50:44      8       7015   \n",
       "2  5558607  2011-04-05 21:13:50      2       7392   \n",
       "3  6467832  2011-06-24 12:31:45      9      13056   \n",
       "4  7577546  2011-09-28 01:58:38      9       2488   \n",
       "\n",
       "                                               title  answercount  \\\n",
       "0                           Rolling median in python            3   \n",
       "1       Compute a compounded return series in Python            3   \n",
       "2        Sort a pandas DataMatrix in ascending order            2   \n",
       "3  How to get the correlation between two timeser...            1   \n",
       "4  Using pandas, how do I subsample a large DataF...            1   \n",
       "\n",
       "   commentcount  favoritecount      quest_name  quest_rep         ans_name  \\\n",
       "0             4            1.0         yueerhu      125.0  Mike Pennington   \n",
       "1             6            7.0  Jason Strimpel     3301.0  Mike Pennington   \n",
       "2             0            1.0  Jason Strimpel     3301.0     Wes McKinney   \n",
       "3             0            7.0      user814005      117.0     Wes McKinney   \n",
       "4             0            5.0    Uri Laserson      958.0             HYRY   \n",
       "\n",
       "   ans_rep  \n",
       "0  26995.0  \n",
       "1  26995.0  \n",
       "2  43310.0  \n",
       "3  43310.0  \n",
       "4  54137.0  "
      ]
     },
     "execution_count": 77,
     "metadata": {},
     "output_type": "execute_result"
    }
   ],
   "source": [
    "so_head"
   ]
  },
  {
   "cell_type": "code",
   "execution_count": 78,
   "metadata": {
    "colab": {
     "base_uri": "https://localhost:8080/",
     "height": 193
    },
    "colab_type": "code",
    "executionInfo": {
     "elapsed": 1140,
     "status": "ok",
     "timestamp": 1566296144499,
     "user": {
      "displayName": "Ai Adventures",
      "photoUrl": "https://lh3.googleusercontent.com/-OQdAjp2vMZo/AAAAAAAAAAI/AAAAAAAAAA8/8FVq41kVT5s/s64/photo.jpg",
      "userId": "14635366068755244481"
     },
     "user_tz": -330
    },
    "id": "45rxYapCU2eV",
    "outputId": "483e3dbd-adb7-44e7-81aa-23d592254796"
   },
   "outputs": [
    {
     "data": {
      "text/html": [
       "<div>\n",
       "<style scoped>\n",
       "    .dataframe tbody tr th:only-of-type {\n",
       "        vertical-align: middle;\n",
       "    }\n",
       "\n",
       "    .dataframe tbody tr th {\n",
       "        vertical-align: top;\n",
       "    }\n",
       "\n",
       "    .dataframe thead th {\n",
       "        text-align: right;\n",
       "    }\n",
       "</style>\n",
       "<table border=\"1\" class=\"dataframe\">\n",
       "  <thead>\n",
       "    <tr style=\"text-align: right;\">\n",
       "      <th></th>\n",
       "      <th>id</th>\n",
       "      <th>creationdate</th>\n",
       "      <th>score</th>\n",
       "      <th>viewcount</th>\n",
       "      <th>title</th>\n",
       "      <th>answercount</th>\n",
       "      <th>commentcount</th>\n",
       "      <th>favoritecount</th>\n",
       "      <th>quest_name</th>\n",
       "      <th>quest_rep</th>\n",
       "      <th>ans_name</th>\n",
       "      <th>ans_rep</th>\n",
       "    </tr>\n",
       "  </thead>\n",
       "  <tbody>\n",
       "    <tr>\n",
       "      <th>2</th>\n",
       "      <td>5558607</td>\n",
       "      <td>2011-04-05 21:13:50</td>\n",
       "      <td>2</td>\n",
       "      <td>7392</td>\n",
       "      <td>Sort a pandas DataMatrix in ascending order</td>\n",
       "      <td>2</td>\n",
       "      <td>0</td>\n",
       "      <td>1.0</td>\n",
       "      <td>Jason Strimpel</td>\n",
       "      <td>3301.0</td>\n",
       "      <td>Wes McKinney</td>\n",
       "      <td>43310.0</td>\n",
       "    </tr>\n",
       "    <tr>\n",
       "      <th>3</th>\n",
       "      <td>6467832</td>\n",
       "      <td>2011-06-24 12:31:45</td>\n",
       "      <td>9</td>\n",
       "      <td>13056</td>\n",
       "      <td>How to get the correlation between two timeser...</td>\n",
       "      <td>1</td>\n",
       "      <td>0</td>\n",
       "      <td>7.0</td>\n",
       "      <td>user814005</td>\n",
       "      <td>117.0</td>\n",
       "      <td>Wes McKinney</td>\n",
       "      <td>43310.0</td>\n",
       "    </tr>\n",
       "    <tr>\n",
       "      <th>4</th>\n",
       "      <td>7577546</td>\n",
       "      <td>2011-09-28 01:58:38</td>\n",
       "      <td>9</td>\n",
       "      <td>2488</td>\n",
       "      <td>Using pandas, how do I subsample a large DataF...</td>\n",
       "      <td>1</td>\n",
       "      <td>0</td>\n",
       "      <td>5.0</td>\n",
       "      <td>Uri Laserson</td>\n",
       "      <td>958.0</td>\n",
       "      <td>HYRY</td>\n",
       "      <td>54137.0</td>\n",
       "    </tr>\n",
       "  </tbody>\n",
       "</table>\n",
       "</div>"
      ],
      "text/plain": [
       "        id         creationdate  score  viewcount  \\\n",
       "2  5558607  2011-04-05 21:13:50      2       7392   \n",
       "3  6467832  2011-06-24 12:31:45      9      13056   \n",
       "4  7577546  2011-09-28 01:58:38      9       2488   \n",
       "\n",
       "                                               title  answercount  \\\n",
       "2        Sort a pandas DataMatrix in ascending order            2   \n",
       "3  How to get the correlation between two timeser...            1   \n",
       "4  Using pandas, how do I subsample a large DataF...            1   \n",
       "\n",
       "   commentcount  favoritecount      quest_name  quest_rep      ans_name  \\\n",
       "2             0            1.0  Jason Strimpel     3301.0  Wes McKinney   \n",
       "3             0            7.0      user814005      117.0  Wes McKinney   \n",
       "4             0            5.0    Uri Laserson      958.0          HYRY   \n",
       "\n",
       "   ans_rep  \n",
       "2  43310.0  \n",
       "3  43310.0  \n",
       "4  54137.0  "
      ]
     },
     "execution_count": 78,
     "metadata": {},
     "output_type": "execute_result"
    }
   ],
   "source": [
    "so_head[s]"
   ]
  },
  {
   "cell_type": "markdown",
   "metadata": {
    "colab_type": "text",
    "id": "cxvhkTbXU2eY"
   },
   "source": [
    "### Manual created series\n",
    "\n",
    "The above example only worked because the index of both the boolean Series and **so_head** were the exact same. Let's output them so you can clearly see this."
   ]
  },
  {
   "cell_type": "code",
   "execution_count": 79,
   "metadata": {
    "colab": {
     "base_uri": "https://localhost:8080/",
     "height": 34
    },
    "colab_type": "code",
    "executionInfo": {
     "elapsed": 1025,
     "status": "ok",
     "timestamp": 1566296146386,
     "user": {
      "displayName": "Ai Adventures",
      "photoUrl": "https://lh3.googleusercontent.com/-OQdAjp2vMZo/AAAAAAAAAAI/AAAAAAAAAA8/8FVq41kVT5s/s64/photo.jpg",
      "userId": "14635366068755244481"
     },
     "user_tz": -330
    },
    "id": "cHbz9AutU2eZ",
    "outputId": "92b20863-f73b-4b6a-9a91-df9ee7d64290"
   },
   "outputs": [
    {
     "data": {
      "text/plain": [
       "RangeIndex(start=0, stop=5, step=1)"
      ]
     },
     "execution_count": 79,
     "metadata": {},
     "output_type": "execute_result"
    }
   ],
   "source": [
    "s.index"
   ]
  },
  {
   "cell_type": "code",
   "execution_count": 80,
   "metadata": {
    "colab": {
     "base_uri": "https://localhost:8080/",
     "height": 34
    },
    "colab_type": "code",
    "executionInfo": {
     "elapsed": 1030,
     "status": "ok",
     "timestamp": 1566296146840,
     "user": {
      "displayName": "Ai Adventures",
      "photoUrl": "https://lh3.googleusercontent.com/-OQdAjp2vMZo/AAAAAAAAAAI/AAAAAAAAAA8/8FVq41kVT5s/s64/photo.jpg",
      "userId": "14635366068755244481"
     },
     "user_tz": -330
    },
    "id": "g5lGmV2IU2ec",
    "outputId": "0b1bd0f9-cacb-436a-d1c6-68e6e22deca0"
   },
   "outputs": [
    {
     "data": {
      "text/plain": [
       "RangeIndex(start=0, stop=5, step=1)"
      ]
     },
     "execution_count": 80,
     "metadata": {},
     "output_type": "execute_result"
    }
   ],
   "source": [
    "so_head.index"
   ]
  },
  {
   "cell_type": "markdown",
   "metadata": {
    "colab_type": "text",
    "id": "gQXUcKmNU2eg"
   },
   "source": [
    "### Case of index alignment\n",
    "\n",
    "Boolean selection fails when the index doesn't align. When you are using a boolean Series to do boolean selection, the index of both objects must be the exact same. Let's create a slightly different Series with a different index than the DataFrame it is indexing on."
   ]
  },
  {
   "cell_type": "code",
   "execution_count": 81,
   "metadata": {
    "colab": {
     "base_uri": "https://localhost:8080/",
     "height": 34
    },
    "colab_type": "code",
    "executionInfo": {
     "elapsed": 1274,
     "status": "ok",
     "timestamp": 1566296147957,
     "user": {
      "displayName": "Ai Adventures",
      "photoUrl": "https://lh3.googleusercontent.com/-OQdAjp2vMZo/AAAAAAAAAAI/AAAAAAAAAA8/8FVq41kVT5s/s64/photo.jpg",
      "userId": "14635366068755244481"
     },
     "user_tz": -330
    },
    "id": "43TGpANWU2eh",
    "outputId": "6027e0fa-3372-43c6-a29c-250e6733cd50"
   },
   "outputs": [
    {
     "data": {
      "text/plain": [
       "RangeIndex(start=0, stop=5, step=1)"
      ]
     },
     "execution_count": 81,
     "metadata": {},
     "output_type": "execute_result"
    }
   ],
   "source": [
    "s.index"
   ]
  },
  {
   "cell_type": "code",
   "execution_count": 82,
   "metadata": {
    "colab": {},
    "colab_type": "code",
    "id": "YrqjbQT3U2ek"
   },
   "outputs": [],
   "source": [
    "so_head.set_index('id', inplace=True)"
   ]
  },
  {
   "cell_type": "code",
   "execution_count": 83,
   "metadata": {
    "colab": {
     "base_uri": "https://localhost:8080/",
     "height": 341
    },
    "colab_type": "code",
    "executionInfo": {
     "elapsed": 951,
     "status": "error",
     "timestamp": 1566296149019,
     "user": {
      "displayName": "Ai Adventures",
      "photoUrl": "https://lh3.googleusercontent.com/-OQdAjp2vMZo/AAAAAAAAAAI/AAAAAAAAAA8/8FVq41kVT5s/s64/photo.jpg",
      "userId": "14635366068755244481"
     },
     "user_tz": -330
    },
    "id": "mrQeywz_U2es",
    "outputId": "c34feb27-caa8-4856-a70f-0fdd2560e0a4"
   },
   "outputs": [
    {
     "name": "stderr",
     "output_type": "stream",
     "text": [
      "/home/mojo/anaconda/lib/python3.6/site-packages/ipykernel_launcher.py:1: UserWarning: Boolean Series key will be reindexed to match DataFrame index.\n",
      "  \"\"\"Entry point for launching an IPython kernel.\n"
     ]
    },
    {
     "ename": "IndexingError",
     "evalue": "Unalignable boolean Series provided as indexer (index of the boolean Series and of the indexed object do not match",
     "output_type": "error",
     "traceback": [
      "\u001b[0;31m---------------------------------------------------------------------------\u001b[0m",
      "\u001b[0;31mIndexingError\u001b[0m                             Traceback (most recent call last)",
      "\u001b[0;32m<ipython-input-83-e3d854ac1cfb>\u001b[0m in \u001b[0;36m<module>\u001b[0;34m\u001b[0m\n\u001b[0;32m----> 1\u001b[0;31m \u001b[0mso_head\u001b[0m\u001b[0;34m[\u001b[0m\u001b[0ms\u001b[0m\u001b[0;34m]\u001b[0m\u001b[0;34m\u001b[0m\u001b[0;34m\u001b[0m\u001b[0m\n\u001b[0m",
      "\u001b[0;32m~/anaconda/lib/python3.6/site-packages/pandas/core/frame.py\u001b[0m in \u001b[0;36m__getitem__\u001b[0;34m(self, key)\u001b[0m\n\u001b[1;32m   2916\u001b[0m         \u001b[0;31m# Do we have a (boolean) 1d indexer?\u001b[0m\u001b[0;34m\u001b[0m\u001b[0;34m\u001b[0m\u001b[0;34m\u001b[0m\u001b[0m\n\u001b[1;32m   2917\u001b[0m         \u001b[0;32mif\u001b[0m \u001b[0mcom\u001b[0m\u001b[0;34m.\u001b[0m\u001b[0mis_bool_indexer\u001b[0m\u001b[0;34m(\u001b[0m\u001b[0mkey\u001b[0m\u001b[0;34m)\u001b[0m\u001b[0;34m:\u001b[0m\u001b[0;34m\u001b[0m\u001b[0;34m\u001b[0m\u001b[0m\n\u001b[0;32m-> 2918\u001b[0;31m             \u001b[0;32mreturn\u001b[0m \u001b[0mself\u001b[0m\u001b[0;34m.\u001b[0m\u001b[0m_getitem_bool_array\u001b[0m\u001b[0;34m(\u001b[0m\u001b[0mkey\u001b[0m\u001b[0;34m)\u001b[0m\u001b[0;34m\u001b[0m\u001b[0;34m\u001b[0m\u001b[0m\n\u001b[0m\u001b[1;32m   2919\u001b[0m \u001b[0;34m\u001b[0m\u001b[0m\n\u001b[1;32m   2920\u001b[0m         \u001b[0;31m# We are left with two options: a single key, and a collection of keys,\u001b[0m\u001b[0;34m\u001b[0m\u001b[0;34m\u001b[0m\u001b[0;34m\u001b[0m\u001b[0m\n",
      "\u001b[0;32m~/anaconda/lib/python3.6/site-packages/pandas/core/frame.py\u001b[0m in \u001b[0;36m_getitem_bool_array\u001b[0;34m(self, key)\u001b[0m\n\u001b[1;32m   2965\u001b[0m         \u001b[0;31m# check_bool_indexer will throw exception if Series key cannot\u001b[0m\u001b[0;34m\u001b[0m\u001b[0;34m\u001b[0m\u001b[0;34m\u001b[0m\u001b[0m\n\u001b[1;32m   2966\u001b[0m         \u001b[0;31m# be reindexed to match DataFrame rows\u001b[0m\u001b[0;34m\u001b[0m\u001b[0;34m\u001b[0m\u001b[0;34m\u001b[0m\u001b[0m\n\u001b[0;32m-> 2967\u001b[0;31m         \u001b[0mkey\u001b[0m \u001b[0;34m=\u001b[0m \u001b[0mcheck_bool_indexer\u001b[0m\u001b[0;34m(\u001b[0m\u001b[0mself\u001b[0m\u001b[0;34m.\u001b[0m\u001b[0mindex\u001b[0m\u001b[0;34m,\u001b[0m \u001b[0mkey\u001b[0m\u001b[0;34m)\u001b[0m\u001b[0;34m\u001b[0m\u001b[0;34m\u001b[0m\u001b[0m\n\u001b[0m\u001b[1;32m   2968\u001b[0m         \u001b[0mindexer\u001b[0m \u001b[0;34m=\u001b[0m \u001b[0mkey\u001b[0m\u001b[0;34m.\u001b[0m\u001b[0mnonzero\u001b[0m\u001b[0;34m(\u001b[0m\u001b[0;34m)\u001b[0m\u001b[0;34m[\u001b[0m\u001b[0;36m0\u001b[0m\u001b[0;34m]\u001b[0m\u001b[0;34m\u001b[0m\u001b[0;34m\u001b[0m\u001b[0m\n\u001b[1;32m   2969\u001b[0m         \u001b[0;32mreturn\u001b[0m \u001b[0mself\u001b[0m\u001b[0;34m.\u001b[0m\u001b[0m_take\u001b[0m\u001b[0;34m(\u001b[0m\u001b[0mindexer\u001b[0m\u001b[0;34m,\u001b[0m \u001b[0maxis\u001b[0m\u001b[0;34m=\u001b[0m\u001b[0;36m0\u001b[0m\u001b[0;34m)\u001b[0m\u001b[0;34m\u001b[0m\u001b[0;34m\u001b[0m\u001b[0m\n",
      "\u001b[0;32m~/anaconda/lib/python3.6/site-packages/pandas/core/indexing.py\u001b[0m in \u001b[0;36mcheck_bool_indexer\u001b[0;34m(ax, key)\u001b[0m\n\u001b[1;32m   2484\u001b[0m         \u001b[0mmask\u001b[0m \u001b[0;34m=\u001b[0m \u001b[0misna\u001b[0m\u001b[0;34m(\u001b[0m\u001b[0mresult\u001b[0m\u001b[0;34m.\u001b[0m\u001b[0m_values\u001b[0m\u001b[0;34m)\u001b[0m\u001b[0;34m\u001b[0m\u001b[0;34m\u001b[0m\u001b[0m\n\u001b[1;32m   2485\u001b[0m         \u001b[0;32mif\u001b[0m \u001b[0mmask\u001b[0m\u001b[0;34m.\u001b[0m\u001b[0many\u001b[0m\u001b[0;34m(\u001b[0m\u001b[0;34m)\u001b[0m\u001b[0;34m:\u001b[0m\u001b[0;34m\u001b[0m\u001b[0;34m\u001b[0m\u001b[0m\n\u001b[0;32m-> 2486\u001b[0;31m             raise IndexingError('Unalignable boolean Series provided as '\n\u001b[0m\u001b[1;32m   2487\u001b[0m                                 \u001b[0;34m'indexer (index of the boolean Series and of '\u001b[0m\u001b[0;34m\u001b[0m\u001b[0;34m\u001b[0m\u001b[0m\n\u001b[1;32m   2488\u001b[0m                                 'the indexed object do not match')\n",
      "\u001b[0;31mIndexingError\u001b[0m: Unalignable boolean Series provided as indexer (index of the boolean Series and of the indexed object do not match"
     ]
    }
   ],
   "source": [
    "so_head[s]"
   ]
  },
  {
   "cell_type": "markdown",
   "metadata": {
    "colab_type": "text",
    "id": "-b0fTuLKU2ev"
   },
   "source": [
    "***IndexingError*: Unalignable boolean Series!**\n",
    "\n",
    "If the index of both the boolean Series and the object you are doing boolean selection on don't match exactly, you will get the above error. This is one reason, as you will below, why you will almost never create boolean Series by hand like this."
   ]
  },
  {
   "cell_type": "markdown",
   "metadata": {
    "colab_type": "text",
    "id": "GLmgifuYU2ew"
   },
   "source": [
    "```{note} \n",
    "\n",
    "Never creating boolean Series by hand.\n",
    "You will likely never create a boolean Series by hand as was done above. Instead, you will produce them based on the values of your data.\n",
    "```"
   ]
  },
  {
   "cell_type": "markdown",
   "metadata": {
    "colab_type": "text",
    "id": "GLmgifuYU2ew"
   },
   "source": [
    "## Using comparison operators\n",
    "\n",
    "The primary method of creating a Series of booleans is to use one of the six comparison operators: \n",
    "- **`<`**\n",
    "- **`<=`**\n",
    "- **`>`**\n",
    "- **`>=`**\n",
    "- **`==`**\n",
    "- **`!=`** \n",
    "\n",
    "### With a single column\n",
    "\n",
    "You will almost always use the comparison operators on just a single column or Series of data. For instance, let's create a boolean Series from the **score** column. Let's determine if the score is at least 10.\n",
    "\n",
    "We select the score column and then test the condition that each value is greater than or equal to 10. Notice that this operations gets applied to each value in the Series. A boolean Series is returned."
   ]
  },
  {
   "cell_type": "code",
   "execution_count": 84,
   "metadata": {
    "colab": {
     "base_uri": "https://localhost:8080/",
     "height": 1000
    },
    "colab_type": "code",
    "executionInfo": {
     "elapsed": 1655,
     "status": "ok",
     "timestamp": 1566296152332,
     "user": {
      "displayName": "Ai Adventures",
      "photoUrl": "https://lh3.googleusercontent.com/-OQdAjp2vMZo/AAAAAAAAAAI/AAAAAAAAAA8/8FVq41kVT5s/s64/photo.jpg",
      "userId": "14635366068755244481"
     },
     "user_tz": -330
    },
    "id": "-_6EWEXKU2ex",
    "outputId": "b3989f9d-e1c7-4326-83b9-43c04e308d98"
   },
   "outputs": [
    {
     "data": {
      "text/plain": [
       "0        False\n",
       "1        False\n",
       "2        False\n",
       "3        False\n",
       "4        False\n",
       "5        False\n",
       "6         True\n",
       "7        False\n",
       "8         True\n",
       "9        False\n",
       "10       False\n",
       "11       False\n",
       "12       False\n",
       "13       False\n",
       "14        True\n",
       "15       False\n",
       "16       False\n",
       "17        True\n",
       "18       False\n",
       "19       False\n",
       "20       False\n",
       "21       False\n",
       "22       False\n",
       "23       False\n",
       "24        True\n",
       "25       False\n",
       "26        True\n",
       "27       False\n",
       "28       False\n",
       "29       False\n",
       "         ...  \n",
       "56368    False\n",
       "56369    False\n",
       "56370    False\n",
       "56371    False\n",
       "56372    False\n",
       "56373    False\n",
       "56374    False\n",
       "56375    False\n",
       "56376    False\n",
       "56377    False\n",
       "56378    False\n",
       "56379    False\n",
       "56380    False\n",
       "56381    False\n",
       "56382    False\n",
       "56383    False\n",
       "56384    False\n",
       "56385    False\n",
       "56386    False\n",
       "56387    False\n",
       "56388    False\n",
       "56389    False\n",
       "56390    False\n",
       "56391    False\n",
       "56392    False\n",
       "56393    False\n",
       "56394    False\n",
       "56395    False\n",
       "56396    False\n",
       "56397    False\n",
       "Name: score, Length: 56398, dtype: bool"
      ]
     },
     "execution_count": 84,
     "metadata": {},
     "output_type": "execute_result"
    }
   ],
   "source": [
    "so.loc[:, 'score'] > 10"
   ]
  },
  {
   "cell_type": "code",
   "execution_count": 85,
   "metadata": {
    "colab": {
     "base_uri": "https://localhost:8080/",
     "height": 204
    },
    "colab_type": "code",
    "executionInfo": {
     "elapsed": 1074,
     "status": "ok",
     "timestamp": 1566296152338,
     "user": {
      "displayName": "Ai Adventures",
      "photoUrl": "https://lh3.googleusercontent.com/-OQdAjp2vMZo/AAAAAAAAAAI/AAAAAAAAAA8/8FVq41kVT5s/s64/photo.jpg",
      "userId": "14635366068755244481"
     },
     "user_tz": -330
    },
    "id": "ifVGELlaU2e1",
    "outputId": "a1601842-59c5-4ca4-de62-2b7433ebf6f5"
   },
   "outputs": [
    {
     "data": {
      "text/plain": [
       "0    False\n",
       "1    False\n",
       "2    False\n",
       "3    False\n",
       "4    False\n",
       "5    False\n",
       "6     True\n",
       "7     True\n",
       "8     True\n",
       "9    False\n",
       "Name: score, dtype: bool"
      ]
     },
     "execution_count": 85,
     "metadata": {},
     "output_type": "execute_result"
    }
   ],
   "source": [
    "criteria = so['score'] >= 10\n",
    "criteria.head(10)"
   ]
  },
  {
   "cell_type": "markdown",
   "metadata": {
    "colab_type": "text",
    "id": "XIT0nryGU2e4"
   },
   "source": [
    "### Usage of boolean selection\n",
    "\n",
    "Now that we have our boolean Series stored in the variable **criteria**, we can pass this to `[ ]` to select only the rows that have a score of at least 10. \n",
    "\n",
    "We are going to use the entire **so** DataFrame for the rest of the tutorial."
   ]
  },
  {
   "cell_type": "code",
   "execution_count": 86,
   "metadata": {
    "colab": {
     "base_uri": "https://localhost:8080/",
     "height": 1000
    },
    "colab_type": "code",
    "executionInfo": {
     "elapsed": 793,
     "status": "ok",
     "timestamp": 1566296153002,
     "user": {
      "displayName": "Ai Adventures",
      "photoUrl": "https://lh3.googleusercontent.com/-OQdAjp2vMZo/AAAAAAAAAAI/AAAAAAAAAA8/8FVq41kVT5s/s64/photo.jpg",
      "userId": "14635366068755244481"
     },
     "user_tz": -330
    },
    "id": "g-JtoxHGU2e5",
    "outputId": "b855f6a6-e59a-4dc0-fb9e-2741e72cad55"
   },
   "outputs": [
    {
     "data": {
      "text/html": [
       "<div>\n",
       "<style scoped>\n",
       "    .dataframe tbody tr th:only-of-type {\n",
       "        vertical-align: middle;\n",
       "    }\n",
       "\n",
       "    .dataframe tbody tr th {\n",
       "        vertical-align: top;\n",
       "    }\n",
       "\n",
       "    .dataframe thead th {\n",
       "        text-align: right;\n",
       "    }\n",
       "</style>\n",
       "<table border=\"1\" class=\"dataframe\">\n",
       "  <thead>\n",
       "    <tr style=\"text-align: right;\">\n",
       "      <th></th>\n",
       "      <th>id</th>\n",
       "      <th>creationdate</th>\n",
       "      <th>score</th>\n",
       "      <th>viewcount</th>\n",
       "      <th>title</th>\n",
       "      <th>answercount</th>\n",
       "      <th>commentcount</th>\n",
       "      <th>favoritecount</th>\n",
       "      <th>quest_name</th>\n",
       "      <th>quest_rep</th>\n",
       "      <th>ans_name</th>\n",
       "      <th>ans_rep</th>\n",
       "    </tr>\n",
       "  </thead>\n",
       "  <tbody>\n",
       "    <tr>\n",
       "      <th>6</th>\n",
       "      <td>7776679</td>\n",
       "      <td>2011-10-15 08:21:17</td>\n",
       "      <td>25</td>\n",
       "      <td>28159</td>\n",
       "      <td>append two data frame with pandas</td>\n",
       "      <td>2</td>\n",
       "      <td>7</td>\n",
       "      <td>4.0</td>\n",
       "      <td>Jean-Pat</td>\n",
       "      <td>882.0</td>\n",
       "      <td>Wes McKinney</td>\n",
       "      <td>43310.0</td>\n",
       "    </tr>\n",
       "    <tr>\n",
       "      <th>7</th>\n",
       "      <td>7813132</td>\n",
       "      <td>2011-10-18 20:16:12</td>\n",
       "      <td>10</td>\n",
       "      <td>18917</td>\n",
       "      <td>Convert array of string (category) to array of...</td>\n",
       "      <td>3</td>\n",
       "      <td>0</td>\n",
       "      <td>6.0</td>\n",
       "      <td>Jean-Pat</td>\n",
       "      <td>882.0</td>\n",
       "      <td>Wes McKinney</td>\n",
       "      <td>43310.0</td>\n",
       "    </tr>\n",
       "    <tr>\n",
       "      <th>8</th>\n",
       "      <td>7837722</td>\n",
       "      <td>2011-10-20 14:46:14</td>\n",
       "      <td>201</td>\n",
       "      <td>223746</td>\n",
       "      <td>What is the most efficient way to loop through...</td>\n",
       "      <td>8</td>\n",
       "      <td>3</td>\n",
       "      <td>115.0</td>\n",
       "      <td>Muppet</td>\n",
       "      <td>1563.0</td>\n",
       "      <td>Nick Crawford</td>\n",
       "      <td>2779.0</td>\n",
       "    </tr>\n",
       "    <tr>\n",
       "      <th>14</th>\n",
       "      <td>8916302</td>\n",
       "      <td>2012-01-18 19:41:27</td>\n",
       "      <td>29</td>\n",
       "      <td>20614</td>\n",
       "      <td>selecting across multiple columns with python ...</td>\n",
       "      <td>3</td>\n",
       "      <td>0</td>\n",
       "      <td>14.0</td>\n",
       "      <td>user248237dfsf</td>\n",
       "      <td>19244.0</td>\n",
       "      <td>Wes McKinney</td>\n",
       "      <td>43310.0</td>\n",
       "    </tr>\n",
       "    <tr>\n",
       "      <th>17</th>\n",
       "      <td>8991709</td>\n",
       "      <td>2012-01-24 17:59:53</td>\n",
       "      <td>136</td>\n",
       "      <td>16783</td>\n",
       "      <td>Why are pandas merges in python faster than da...</td>\n",
       "      <td>3</td>\n",
       "      <td>16</td>\n",
       "      <td>60.0</td>\n",
       "      <td>Zach</td>\n",
       "      <td>12484.0</td>\n",
       "      <td>Matt Dowle</td>\n",
       "      <td>41275.0</td>\n",
       "    </tr>\n",
       "  </tbody>\n",
       "</table>\n",
       "</div>"
      ],
      "text/plain": [
       "         id         creationdate  score  viewcount  \\\n",
       "6   7776679  2011-10-15 08:21:17     25      28159   \n",
       "7   7813132  2011-10-18 20:16:12     10      18917   \n",
       "8   7837722  2011-10-20 14:46:14    201     223746   \n",
       "14  8916302  2012-01-18 19:41:27     29      20614   \n",
       "17  8991709  2012-01-24 17:59:53    136      16783   \n",
       "\n",
       "                                                title  answercount  \\\n",
       "6                   append two data frame with pandas            2   \n",
       "7   Convert array of string (category) to array of...            3   \n",
       "8   What is the most efficient way to loop through...            8   \n",
       "14  selecting across multiple columns with python ...            3   \n",
       "17  Why are pandas merges in python faster than da...            3   \n",
       "\n",
       "    commentcount  favoritecount      quest_name  quest_rep       ans_name  \\\n",
       "6              7            4.0        Jean-Pat      882.0   Wes McKinney   \n",
       "7              0            6.0        Jean-Pat      882.0   Wes McKinney   \n",
       "8              3          115.0          Muppet     1563.0  Nick Crawford   \n",
       "14             0           14.0  user248237dfsf    19244.0   Wes McKinney   \n",
       "17            16           60.0            Zach    12484.0     Matt Dowle   \n",
       "\n",
       "    ans_rep  \n",
       "6   43310.0  \n",
       "7   43310.0  \n",
       "8    2779.0  \n",
       "14  43310.0  \n",
       "17  41275.0  "
      ]
     },
     "execution_count": 86,
     "metadata": {},
     "output_type": "execute_result"
    }
   ],
   "source": [
    "so.loc[criteria].head()"
   ]
  },
  {
   "cell_type": "code",
   "execution_count": 87,
   "metadata": {
    "colab": {
     "base_uri": "https://localhost:8080/",
     "height": 289
    },
    "colab_type": "code",
    "executionInfo": {
     "elapsed": 828,
     "status": "ok",
     "timestamp": 1566296153484,
     "user": {
      "displayName": "Ai Adventures",
      "photoUrl": "https://lh3.googleusercontent.com/-OQdAjp2vMZo/AAAAAAAAAAI/AAAAAAAAAA8/8FVq41kVT5s/s64/photo.jpg",
      "userId": "14635366068755244481"
     },
     "user_tz": -330
    },
    "id": "f725Iuq5U2e_",
    "outputId": "4f906c7a-2f5e-4546-869d-11c1abed2c37"
   },
   "outputs": [
    {
     "data": {
      "text/html": [
       "<div>\n",
       "<style scoped>\n",
       "    .dataframe tbody tr th:only-of-type {\n",
       "        vertical-align: middle;\n",
       "    }\n",
       "\n",
       "    .dataframe tbody tr th {\n",
       "        vertical-align: top;\n",
       "    }\n",
       "\n",
       "    .dataframe thead th {\n",
       "        text-align: right;\n",
       "    }\n",
       "</style>\n",
       "<table border=\"1\" class=\"dataframe\">\n",
       "  <thead>\n",
       "    <tr style=\"text-align: right;\">\n",
       "      <th></th>\n",
       "      <th>id</th>\n",
       "      <th>creationdate</th>\n",
       "      <th>score</th>\n",
       "      <th>viewcount</th>\n",
       "      <th>title</th>\n",
       "      <th>answercount</th>\n",
       "      <th>commentcount</th>\n",
       "      <th>favoritecount</th>\n",
       "      <th>quest_name</th>\n",
       "      <th>quest_rep</th>\n",
       "      <th>ans_name</th>\n",
       "      <th>ans_rep</th>\n",
       "    </tr>\n",
       "  </thead>\n",
       "  <tbody>\n",
       "    <tr>\n",
       "      <th>6</th>\n",
       "      <td>7776679</td>\n",
       "      <td>2011-10-15 08:21:17</td>\n",
       "      <td>25</td>\n",
       "      <td>28159</td>\n",
       "      <td>append two data frame with pandas</td>\n",
       "      <td>2</td>\n",
       "      <td>7</td>\n",
       "      <td>4.0</td>\n",
       "      <td>Jean-Pat</td>\n",
       "      <td>882.0</td>\n",
       "      <td>Wes McKinney</td>\n",
       "      <td>43310.0</td>\n",
       "    </tr>\n",
       "    <tr>\n",
       "      <th>7</th>\n",
       "      <td>7813132</td>\n",
       "      <td>2011-10-18 20:16:12</td>\n",
       "      <td>10</td>\n",
       "      <td>18917</td>\n",
       "      <td>Convert array of string (category) to array of...</td>\n",
       "      <td>3</td>\n",
       "      <td>0</td>\n",
       "      <td>6.0</td>\n",
       "      <td>Jean-Pat</td>\n",
       "      <td>882.0</td>\n",
       "      <td>Wes McKinney</td>\n",
       "      <td>43310.0</td>\n",
       "    </tr>\n",
       "    <tr>\n",
       "      <th>8</th>\n",
       "      <td>7837722</td>\n",
       "      <td>2011-10-20 14:46:14</td>\n",
       "      <td>201</td>\n",
       "      <td>223746</td>\n",
       "      <td>What is the most efficient way to loop through...</td>\n",
       "      <td>8</td>\n",
       "      <td>3</td>\n",
       "      <td>115.0</td>\n",
       "      <td>Muppet</td>\n",
       "      <td>1563.0</td>\n",
       "      <td>Nick Crawford</td>\n",
       "      <td>2779.0</td>\n",
       "    </tr>\n",
       "    <tr>\n",
       "      <th>14</th>\n",
       "      <td>8916302</td>\n",
       "      <td>2012-01-18 19:41:27</td>\n",
       "      <td>29</td>\n",
       "      <td>20614</td>\n",
       "      <td>selecting across multiple columns with python ...</td>\n",
       "      <td>3</td>\n",
       "      <td>0</td>\n",
       "      <td>14.0</td>\n",
       "      <td>user248237dfsf</td>\n",
       "      <td>19244.0</td>\n",
       "      <td>Wes McKinney</td>\n",
       "      <td>43310.0</td>\n",
       "    </tr>\n",
       "    <tr>\n",
       "      <th>17</th>\n",
       "      <td>8991709</td>\n",
       "      <td>2012-01-24 17:59:53</td>\n",
       "      <td>136</td>\n",
       "      <td>16783</td>\n",
       "      <td>Why are pandas merges in python faster than da...</td>\n",
       "      <td>3</td>\n",
       "      <td>16</td>\n",
       "      <td>60.0</td>\n",
       "      <td>Zach</td>\n",
       "      <td>12484.0</td>\n",
       "      <td>Matt Dowle</td>\n",
       "      <td>41275.0</td>\n",
       "    </tr>\n",
       "  </tbody>\n",
       "</table>\n",
       "</div>"
      ],
      "text/plain": [
       "         id         creationdate  score  viewcount  \\\n",
       "6   7776679  2011-10-15 08:21:17     25      28159   \n",
       "7   7813132  2011-10-18 20:16:12     10      18917   \n",
       "8   7837722  2011-10-20 14:46:14    201     223746   \n",
       "14  8916302  2012-01-18 19:41:27     29      20614   \n",
       "17  8991709  2012-01-24 17:59:53    136      16783   \n",
       "\n",
       "                                                title  answercount  \\\n",
       "6                   append two data frame with pandas            2   \n",
       "7   Convert array of string (category) to array of...            3   \n",
       "8   What is the most efficient way to loop through...            8   \n",
       "14  selecting across multiple columns with python ...            3   \n",
       "17  Why are pandas merges in python faster than da...            3   \n",
       "\n",
       "    commentcount  favoritecount      quest_name  quest_rep       ans_name  \\\n",
       "6              7            4.0        Jean-Pat      882.0   Wes McKinney   \n",
       "7              0            6.0        Jean-Pat      882.0   Wes McKinney   \n",
       "8              3          115.0          Muppet     1563.0  Nick Crawford   \n",
       "14             0           14.0  user248237dfsf    19244.0   Wes McKinney   \n",
       "17            16           60.0            Zach    12484.0     Matt Dowle   \n",
       "\n",
       "    ans_rep  \n",
       "6   43310.0  \n",
       "7   43310.0  \n",
       "8    2779.0  \n",
       "14  43310.0  \n",
       "17  41275.0  "
      ]
     },
     "execution_count": 87,
     "metadata": {},
     "output_type": "execute_result"
    }
   ],
   "source": [
    "so_score_10_or_more = so.loc[criteria]\n",
    "so_score_10_or_more.head()"
   ]
  },
  {
   "cell_type": "markdown",
   "metadata": {
    "colab_type": "text",
    "id": "oGOsrtnAU2fD"
   },
   "source": [
    "### Boolean selection in one line\n",
    "\n",
    "It is possible to put the creation of the boolean Series inside of `[ ]` like this."
   ]
  },
  {
   "cell_type": "code",
   "execution_count": 88,
   "metadata": {
    "colab": {
     "base_uri": "https://localhost:8080/",
     "height": 289
    },
    "colab_type": "code",
    "executionInfo": {
     "elapsed": 1752,
     "status": "ok",
     "timestamp": 1566296155749,
     "user": {
      "displayName": "Ai Adventures",
      "photoUrl": "https://lh3.googleusercontent.com/-OQdAjp2vMZo/AAAAAAAAAAI/AAAAAAAAAA8/8FVq41kVT5s/s64/photo.jpg",
      "userId": "14635366068755244481"
     },
     "user_tz": -330
    },
    "id": "h-PqKe7JU2fD",
    "outputId": "3a715e85-444f-4490-9708-532c8f520a85"
   },
   "outputs": [
    {
     "data": {
      "text/html": [
       "<div>\n",
       "<style scoped>\n",
       "    .dataframe tbody tr th:only-of-type {\n",
       "        vertical-align: middle;\n",
       "    }\n",
       "\n",
       "    .dataframe tbody tr th {\n",
       "        vertical-align: top;\n",
       "    }\n",
       "\n",
       "    .dataframe thead th {\n",
       "        text-align: right;\n",
       "    }\n",
       "</style>\n",
       "<table border=\"1\" class=\"dataframe\">\n",
       "  <thead>\n",
       "    <tr style=\"text-align: right;\">\n",
       "      <th></th>\n",
       "      <th>id</th>\n",
       "      <th>creationdate</th>\n",
       "      <th>score</th>\n",
       "      <th>viewcount</th>\n",
       "      <th>title</th>\n",
       "      <th>answercount</th>\n",
       "      <th>commentcount</th>\n",
       "      <th>favoritecount</th>\n",
       "      <th>quest_name</th>\n",
       "      <th>quest_rep</th>\n",
       "      <th>ans_name</th>\n",
       "      <th>ans_rep</th>\n",
       "    </tr>\n",
       "  </thead>\n",
       "  <tbody>\n",
       "    <tr>\n",
       "      <th>6</th>\n",
       "      <td>7776679</td>\n",
       "      <td>2011-10-15 08:21:17</td>\n",
       "      <td>25</td>\n",
       "      <td>28159</td>\n",
       "      <td>append two data frame with pandas</td>\n",
       "      <td>2</td>\n",
       "      <td>7</td>\n",
       "      <td>4.0</td>\n",
       "      <td>Jean-Pat</td>\n",
       "      <td>882.0</td>\n",
       "      <td>Wes McKinney</td>\n",
       "      <td>43310.0</td>\n",
       "    </tr>\n",
       "    <tr>\n",
       "      <th>7</th>\n",
       "      <td>7813132</td>\n",
       "      <td>2011-10-18 20:16:12</td>\n",
       "      <td>10</td>\n",
       "      <td>18917</td>\n",
       "      <td>Convert array of string (category) to array of...</td>\n",
       "      <td>3</td>\n",
       "      <td>0</td>\n",
       "      <td>6.0</td>\n",
       "      <td>Jean-Pat</td>\n",
       "      <td>882.0</td>\n",
       "      <td>Wes McKinney</td>\n",
       "      <td>43310.0</td>\n",
       "    </tr>\n",
       "    <tr>\n",
       "      <th>8</th>\n",
       "      <td>7837722</td>\n",
       "      <td>2011-10-20 14:46:14</td>\n",
       "      <td>201</td>\n",
       "      <td>223746</td>\n",
       "      <td>What is the most efficient way to loop through...</td>\n",
       "      <td>8</td>\n",
       "      <td>3</td>\n",
       "      <td>115.0</td>\n",
       "      <td>Muppet</td>\n",
       "      <td>1563.0</td>\n",
       "      <td>Nick Crawford</td>\n",
       "      <td>2779.0</td>\n",
       "    </tr>\n",
       "    <tr>\n",
       "      <th>14</th>\n",
       "      <td>8916302</td>\n",
       "      <td>2012-01-18 19:41:27</td>\n",
       "      <td>29</td>\n",
       "      <td>20614</td>\n",
       "      <td>selecting across multiple columns with python ...</td>\n",
       "      <td>3</td>\n",
       "      <td>0</td>\n",
       "      <td>14.0</td>\n",
       "      <td>user248237dfsf</td>\n",
       "      <td>19244.0</td>\n",
       "      <td>Wes McKinney</td>\n",
       "      <td>43310.0</td>\n",
       "    </tr>\n",
       "    <tr>\n",
       "      <th>17</th>\n",
       "      <td>8991709</td>\n",
       "      <td>2012-01-24 17:59:53</td>\n",
       "      <td>136</td>\n",
       "      <td>16783</td>\n",
       "      <td>Why are pandas merges in python faster than da...</td>\n",
       "      <td>3</td>\n",
       "      <td>16</td>\n",
       "      <td>60.0</td>\n",
       "      <td>Zach</td>\n",
       "      <td>12484.0</td>\n",
       "      <td>Matt Dowle</td>\n",
       "      <td>41275.0</td>\n",
       "    </tr>\n",
       "  </tbody>\n",
       "</table>\n",
       "</div>"
      ],
      "text/plain": [
       "         id         creationdate  score  viewcount  \\\n",
       "6   7776679  2011-10-15 08:21:17     25      28159   \n",
       "7   7813132  2011-10-18 20:16:12     10      18917   \n",
       "8   7837722  2011-10-20 14:46:14    201     223746   \n",
       "14  8916302  2012-01-18 19:41:27     29      20614   \n",
       "17  8991709  2012-01-24 17:59:53    136      16783   \n",
       "\n",
       "                                                title  answercount  \\\n",
       "6                   append two data frame with pandas            2   \n",
       "7   Convert array of string (category) to array of...            3   \n",
       "8   What is the most efficient way to loop through...            8   \n",
       "14  selecting across multiple columns with python ...            3   \n",
       "17  Why are pandas merges in python faster than da...            3   \n",
       "\n",
       "    commentcount  favoritecount      quest_name  quest_rep       ans_name  \\\n",
       "6              7            4.0        Jean-Pat      882.0   Wes McKinney   \n",
       "7              0            6.0        Jean-Pat      882.0   Wes McKinney   \n",
       "8              3          115.0          Muppet     1563.0  Nick Crawford   \n",
       "14             0           14.0  user248237dfsf    19244.0   Wes McKinney   \n",
       "17            16           60.0            Zach    12484.0     Matt Dowle   \n",
       "\n",
       "    ans_rep  \n",
       "6   43310.0  \n",
       "7   43310.0  \n",
       "8    2779.0  \n",
       "14  43310.0  \n",
       "17  41275.0  "
      ]
     },
     "execution_count": 88,
     "metadata": {},
     "output_type": "execute_result"
    }
   ],
   "source": [
    "so[so['score'] >= 10].head()"
   ]
  },
  {
   "cell_type": "markdown",
   "metadata": {
    "colab_type": "text",
    "id": "sKuRIpiEU2fF"
   },
   "source": [
    "### Single condition expression"
   ]
  },
  {
   "cell_type": "code",
   "execution_count": 89,
   "metadata": {
    "colab": {
     "base_uri": "https://localhost:8080/",
     "height": 289
    },
    "colab_type": "code",
    "executionInfo": {
     "elapsed": 949,
     "status": "ok",
     "timestamp": 1566296158223,
     "user": {
      "displayName": "Ai Adventures",
      "photoUrl": "https://lh3.googleusercontent.com/-OQdAjp2vMZo/AAAAAAAAAAI/AAAAAAAAAA8/8FVq41kVT5s/s64/photo.jpg",
      "userId": "14635366068755244481"
     },
     "user_tz": -330
    },
    "id": "3j4Za1-PU2fG",
    "outputId": "38967ef3-9f57-4c77-94cc-f5c92fe95abd"
   },
   "outputs": [
    {
     "data": {
      "text/html": [
       "<div>\n",
       "<style scoped>\n",
       "    .dataframe tbody tr th:only-of-type {\n",
       "        vertical-align: middle;\n",
       "    }\n",
       "\n",
       "    .dataframe tbody tr th {\n",
       "        vertical-align: top;\n",
       "    }\n",
       "\n",
       "    .dataframe thead th {\n",
       "        text-align: right;\n",
       "    }\n",
       "</style>\n",
       "<table border=\"1\" class=\"dataframe\">\n",
       "  <thead>\n",
       "    <tr style=\"text-align: right;\">\n",
       "      <th></th>\n",
       "      <th>id</th>\n",
       "      <th>creationdate</th>\n",
       "      <th>score</th>\n",
       "      <th>viewcount</th>\n",
       "      <th>title</th>\n",
       "      <th>answercount</th>\n",
       "      <th>commentcount</th>\n",
       "      <th>favoritecount</th>\n",
       "      <th>quest_name</th>\n",
       "      <th>quest_rep</th>\n",
       "      <th>ans_name</th>\n",
       "      <th>ans_rep</th>\n",
       "    </tr>\n",
       "  </thead>\n",
       "  <tbody>\n",
       "    <tr>\n",
       "      <th>38161</th>\n",
       "      <td>43491342</td>\n",
       "      <td>2017-04-19 09:14:28</td>\n",
       "      <td>4</td>\n",
       "      <td>167</td>\n",
       "      <td>Merging pandas dataframes based on nearest val...</td>\n",
       "      <td>1</td>\n",
       "      <td>0</td>\n",
       "      <td>NaN</td>\n",
       "      <td>AkiRoss</td>\n",
       "      <td>3991.0</td>\n",
       "      <td>Scott Boston</td>\n",
       "      <td>23611.0</td>\n",
       "    </tr>\n",
       "    <tr>\n",
       "      <th>38178</th>\n",
       "      <td>43190850</td>\n",
       "      <td>2017-04-03 17:31:33</td>\n",
       "      <td>1</td>\n",
       "      <td>284</td>\n",
       "      <td>Python Seaborn Plot ValueError</td>\n",
       "      <td>2</td>\n",
       "      <td>3</td>\n",
       "      <td>NaN</td>\n",
       "      <td>Ryan</td>\n",
       "      <td>545.0</td>\n",
       "      <td>Scott Boston</td>\n",
       "      <td>23611.0</td>\n",
       "    </tr>\n",
       "    <tr>\n",
       "      <th>38237</th>\n",
       "      <td>43176052</td>\n",
       "      <td>2017-04-03 03:21:12</td>\n",
       "      <td>2</td>\n",
       "      <td>39</td>\n",
       "      <td>Convert an indexed pandas matrix to a flat dat...</td>\n",
       "      <td>2</td>\n",
       "      <td>0</td>\n",
       "      <td>NaN</td>\n",
       "      <td>alvas</td>\n",
       "      <td>31923.0</td>\n",
       "      <td>Scott Boston</td>\n",
       "      <td>23611.0</td>\n",
       "    </tr>\n",
       "    <tr>\n",
       "      <th>38246</th>\n",
       "      <td>43209525</td>\n",
       "      <td>2017-04-04 14:03:17</td>\n",
       "      <td>5</td>\n",
       "      <td>131</td>\n",
       "      <td>Pandas: Optimal way to MultiIndex columns</td>\n",
       "      <td>2</td>\n",
       "      <td>0</td>\n",
       "      <td>0.0</td>\n",
       "      <td>sparc_spread</td>\n",
       "      <td>5470.0</td>\n",
       "      <td>Scott Boston</td>\n",
       "      <td>23611.0</td>\n",
       "    </tr>\n",
       "    <tr>\n",
       "      <th>38275</th>\n",
       "      <td>43211893</td>\n",
       "      <td>2017-04-04 15:45:17</td>\n",
       "      <td>0</td>\n",
       "      <td>38</td>\n",
       "      <td>How to calculate a index series for a event wi...</td>\n",
       "      <td>1</td>\n",
       "      <td>3</td>\n",
       "      <td>NaN</td>\n",
       "      <td>zsljulius</td>\n",
       "      <td>1102.0</td>\n",
       "      <td>Scott Boston</td>\n",
       "      <td>23611.0</td>\n",
       "    </tr>\n",
       "  </tbody>\n",
       "</table>\n",
       "</div>"
      ],
      "text/plain": [
       "             id         creationdate  score  viewcount  \\\n",
       "38161  43491342  2017-04-19 09:14:28      4        167   \n",
       "38178  43190850  2017-04-03 17:31:33      1        284   \n",
       "38237  43176052  2017-04-03 03:21:12      2         39   \n",
       "38246  43209525  2017-04-04 14:03:17      5        131   \n",
       "38275  43211893  2017-04-04 15:45:17      0         38   \n",
       "\n",
       "                                                   title  answercount  \\\n",
       "38161  Merging pandas dataframes based on nearest val...            1   \n",
       "38178                     Python Seaborn Plot ValueError            2   \n",
       "38237  Convert an indexed pandas matrix to a flat dat...            2   \n",
       "38246          Pandas: Optimal way to MultiIndex columns            2   \n",
       "38275  How to calculate a index series for a event wi...            1   \n",
       "\n",
       "       commentcount  favoritecount    quest_name  quest_rep      ans_name  \\\n",
       "38161             0            NaN       AkiRoss     3991.0  Scott Boston   \n",
       "38178             3            NaN          Ryan      545.0  Scott Boston   \n",
       "38237             0            NaN         alvas    31923.0  Scott Boston   \n",
       "38246             0            0.0  sparc_spread     5470.0  Scott Boston   \n",
       "38275             3            NaN     zsljulius     1102.0  Scott Boston   \n",
       "\n",
       "       ans_rep  \n",
       "38161  23611.0  \n",
       "38178  23611.0  \n",
       "38237  23611.0  \n",
       "38246  23611.0  \n",
       "38275  23611.0  "
      ]
     },
     "execution_count": 89,
     "metadata": {},
     "output_type": "execute_result"
    }
   ],
   "source": [
    "# step 1 - create boolean Series\n",
    "criteria = so['ans_name'] == 'Scott Boston'\n",
    "# step 2 - do boolean selection\n",
    "so[criteria].head()"
   ]
  },
  {
   "cell_type": "markdown",
   "metadata": {
    "colab_type": "text",
    "id": "JabXLaIkU2fK"
   },
   "source": [
    "### Multiple condition expression\n",
    "\n",
    "**Use `&`, `|`, `~`**\n",
    "\n",
    "Although Python uses the syntax `and`, `or`, and `not`, these will not work when testing multiple conditions with pandas.\n",
    "\n",
    "You must use the following operators with pandas:\n",
    "- `&` for **and**\n",
    "- `|` for **or**\n",
    "- `~` for **not**"
   ]
  },
  {
   "cell_type": "code",
   "execution_count": 90,
   "metadata": {
    "colab": {
     "base_uri": "https://localhost:8080/",
     "height": 119
    },
    "colab_type": "code",
    "executionInfo": {
     "elapsed": 917,
     "status": "ok",
     "timestamp": 1566296160405,
     "user": {
      "displayName": "Ai Adventures",
      "photoUrl": "https://lh3.googleusercontent.com/-OQdAjp2vMZo/AAAAAAAAAAI/AAAAAAAAAA8/8FVq41kVT5s/s64/photo.jpg",
      "userId": "14635366068755244481"
     },
     "user_tz": -330
    },
    "id": "znBoTMn8U2fO",
    "outputId": "2dc66f4a-0c35-4770-944f-c62590dc245c"
   },
   "outputs": [
    {
     "data": {
      "text/plain": [
       "56393    False\n",
       "56394    False\n",
       "56395    False\n",
       "56396    False\n",
       "56397    False\n",
       "Name: score, dtype: bool"
      ]
     },
     "execution_count": 90,
     "metadata": {},
     "output_type": "execute_result"
    }
   ],
   "source": [
    "so.tail()['score'] > 5"
   ]
  },
  {
   "cell_type": "code",
   "execution_count": 91,
   "metadata": {
    "colab": {
     "base_uri": "https://localhost:8080/",
     "height": 119
    },
    "colab_type": "code",
    "executionInfo": {
     "elapsed": 675,
     "status": "ok",
     "timestamp": 1566296163826,
     "user": {
      "displayName": "Ai Adventures",
      "photoUrl": "https://lh3.googleusercontent.com/-OQdAjp2vMZo/AAAAAAAAAAI/AAAAAAAAAA8/8FVq41kVT5s/s64/photo.jpg",
      "userId": "14635366068755244481"
     },
     "user_tz": -330
    },
    "id": "0DJMqO6kU2fe",
    "outputId": "91715ee3-e3bf-40da-b792-4945c12dc28c"
   },
   "outputs": [
    {
     "data": {
      "text/plain": [
       "56393    False\n",
       "56394    False\n",
       "56395    False\n",
       "56396    False\n",
       "56397    False\n",
       "Name: score, dtype: bool"
      ]
     },
     "execution_count": 91,
     "metadata": {},
     "output_type": "execute_result"
    }
   ],
   "source": [
    "score_5 = so.tail()['score']>5 \n",
    "score_5"
   ]
  },
  {
   "cell_type": "code",
   "execution_count": 92,
   "metadata": {
    "colab": {
     "base_uri": "https://localhost:8080/",
     "height": 119
    },
    "colab_type": "code",
    "executionInfo": {
     "elapsed": 685,
     "status": "ok",
     "timestamp": 1566296165321,
     "user": {
      "displayName": "Ai Adventures",
      "photoUrl": "https://lh3.googleusercontent.com/-OQdAjp2vMZo/AAAAAAAAAAI/AAAAAAAAAA8/8FVq41kVT5s/s64/photo.jpg",
      "userId": "14635366068755244481"
     },
     "user_tz": -330
    },
    "id": "PQdw3DYRU2fi",
    "outputId": "72f60dde-7007-4f04-fb0f-52925bea6f9f"
   },
   "outputs": [
    {
     "data": {
      "text/plain": [
       "56393    False\n",
       "56394    False\n",
       "56395    False\n",
       "56396    False\n",
       "56397    False\n",
       "Name: score, dtype: bool"
      ]
     },
     "execution_count": 92,
     "metadata": {},
     "output_type": "execute_result"
    }
   ],
   "source": [
    "(so.tail()['score']>5)  & (so.tail()['score']<8)"
   ]
  },
  {
   "cell_type": "code",
   "execution_count": 93,
   "metadata": {
    "colab": {},
    "colab_type": "code",
    "id": "_eoKZnCRU2fl"
   },
   "outputs": [],
   "source": [
    "criteria_1 = so['score'] >= 5\n",
    "criteria_2 = so['ans_name'] == 'Scott Boston'"
   ]
  },
  {
   "cell_type": "markdown",
   "metadata": {
    "colab_type": "text",
    "id": "tSRoIJ8bU2fo"
   },
   "source": [
    "We will then use the **`and`** operator, the ampersand **`&`**, to combine them"
   ]
  },
  {
   "cell_type": "code",
   "execution_count": 94,
   "metadata": {
    "colab": {},
    "colab_type": "code",
    "id": "n3av7ybiU2fp"
   },
   "outputs": [],
   "source": [
    "criteria_all = criteria_1 & criteria_2"
   ]
  },
  {
   "cell_type": "markdown",
   "metadata": {
    "colab_type": "text",
    "id": "OoREEYfQU2fw"
   },
   "source": [
    "We can now pass this final criteria to [ ]"
   ]
  },
  {
   "cell_type": "code",
   "execution_count": 95,
   "metadata": {
    "colab": {
     "base_uri": "https://localhost:8080/",
     "height": 289
    },
    "colab_type": "code",
    "executionInfo": {
     "elapsed": 1002,
     "status": "ok",
     "timestamp": 1566296170493,
     "user": {
      "displayName": "Ai Adventures",
      "photoUrl": "https://lh3.googleusercontent.com/-OQdAjp2vMZo/AAAAAAAAAAI/AAAAAAAAAA8/8FVq41kVT5s/s64/photo.jpg",
      "userId": "14635366068755244481"
     },
     "user_tz": -330
    },
    "id": "ZimFQG9QU2fx",
    "outputId": "51cc9964-7207-43db-c592-74f58d4e829f"
   },
   "outputs": [
    {
     "data": {
      "text/html": [
       "<div>\n",
       "<style scoped>\n",
       "    .dataframe tbody tr th:only-of-type {\n",
       "        vertical-align: middle;\n",
       "    }\n",
       "\n",
       "    .dataframe tbody tr th {\n",
       "        vertical-align: top;\n",
       "    }\n",
       "\n",
       "    .dataframe thead th {\n",
       "        text-align: right;\n",
       "    }\n",
       "</style>\n",
       "<table border=\"1\" class=\"dataframe\">\n",
       "  <thead>\n",
       "    <tr style=\"text-align: right;\">\n",
       "      <th></th>\n",
       "      <th>id</th>\n",
       "      <th>creationdate</th>\n",
       "      <th>score</th>\n",
       "      <th>viewcount</th>\n",
       "      <th>title</th>\n",
       "      <th>answercount</th>\n",
       "      <th>commentcount</th>\n",
       "      <th>favoritecount</th>\n",
       "      <th>quest_name</th>\n",
       "      <th>quest_rep</th>\n",
       "      <th>ans_name</th>\n",
       "      <th>ans_rep</th>\n",
       "    </tr>\n",
       "  </thead>\n",
       "  <tbody>\n",
       "    <tr>\n",
       "      <th>38246</th>\n",
       "      <td>43209525</td>\n",
       "      <td>2017-04-04 14:03:17</td>\n",
       "      <td>5</td>\n",
       "      <td>131</td>\n",
       "      <td>Pandas: Optimal way to MultiIndex columns</td>\n",
       "      <td>2</td>\n",
       "      <td>0</td>\n",
       "      <td>0.0</td>\n",
       "      <td>sparc_spread</td>\n",
       "      <td>5470.0</td>\n",
       "      <td>Scott Boston</td>\n",
       "      <td>23611.0</td>\n",
       "    </tr>\n",
       "    <tr>\n",
       "      <th>38640</th>\n",
       "      <td>42870703</td>\n",
       "      <td>2017-03-18 05:06:22</td>\n",
       "      <td>5</td>\n",
       "      <td>125</td>\n",
       "      <td>Simultaneous operation of groupby and resample...</td>\n",
       "      <td>1</td>\n",
       "      <td>0</td>\n",
       "      <td>1.0</td>\n",
       "      <td>S. Naribole</td>\n",
       "      <td>43.0</td>\n",
       "      <td>Scott Boston</td>\n",
       "      <td>23611.0</td>\n",
       "    </tr>\n",
       "    <tr>\n",
       "      <th>44358</th>\n",
       "      <td>45064916</td>\n",
       "      <td>2017-07-12 18:16:49</td>\n",
       "      <td>5</td>\n",
       "      <td>428</td>\n",
       "      <td>How to find the correlation between a group of...</td>\n",
       "      <td>2</td>\n",
       "      <td>5</td>\n",
       "      <td>NaN</td>\n",
       "      <td>BKS</td>\n",
       "      <td>506.0</td>\n",
       "      <td>Scott Boston</td>\n",
       "      <td>23611.0</td>\n",
       "    </tr>\n",
       "    <tr>\n",
       "      <th>44814</th>\n",
       "      <td>44877663</td>\n",
       "      <td>2017-07-03 04:07:59</td>\n",
       "      <td>9</td>\n",
       "      <td>1267</td>\n",
       "      <td>Error: float object has no attribute notnull</td>\n",
       "      <td>3</td>\n",
       "      <td>2</td>\n",
       "      <td>1.0</td>\n",
       "      <td>Vivian  Tio</td>\n",
       "      <td>181.0</td>\n",
       "      <td>Scott Boston</td>\n",
       "      <td>23611.0</td>\n",
       "    </tr>\n",
       "    <tr>\n",
       "      <th>52013</th>\n",
       "      <td>47061564</td>\n",
       "      <td>2017-11-01 18:40:36</td>\n",
       "      <td>5</td>\n",
       "      <td>60</td>\n",
       "      <td>How to create strings from dataframe columns e...</td>\n",
       "      <td>5</td>\n",
       "      <td>0</td>\n",
       "      <td>NaN</td>\n",
       "      <td>hernanavella</td>\n",
       "      <td>1890.0</td>\n",
       "      <td>Scott Boston</td>\n",
       "      <td>23611.0</td>\n",
       "    </tr>\n",
       "  </tbody>\n",
       "</table>\n",
       "</div>"
      ],
      "text/plain": [
       "             id         creationdate  score  viewcount  \\\n",
       "38246  43209525  2017-04-04 14:03:17      5        131   \n",
       "38640  42870703  2017-03-18 05:06:22      5        125   \n",
       "44358  45064916  2017-07-12 18:16:49      5        428   \n",
       "44814  44877663  2017-07-03 04:07:59      9       1267   \n",
       "52013  47061564  2017-11-01 18:40:36      5         60   \n",
       "\n",
       "                                                   title  answercount  \\\n",
       "38246          Pandas: Optimal way to MultiIndex columns            2   \n",
       "38640  Simultaneous operation of groupby and resample...            1   \n",
       "44358  How to find the correlation between a group of...            2   \n",
       "44814       Error: float object has no attribute notnull            3   \n",
       "52013  How to create strings from dataframe columns e...            5   \n",
       "\n",
       "       commentcount  favoritecount    quest_name  quest_rep      ans_name  \\\n",
       "38246             0            0.0  sparc_spread     5470.0  Scott Boston   \n",
       "38640             0            1.0   S. Naribole       43.0  Scott Boston   \n",
       "44358             5            NaN           BKS      506.0  Scott Boston   \n",
       "44814             2            1.0   Vivian  Tio      181.0  Scott Boston   \n",
       "52013             0            NaN  hernanavella     1890.0  Scott Boston   \n",
       "\n",
       "       ans_rep  \n",
       "38246  23611.0  \n",
       "38640  23611.0  \n",
       "44358  23611.0  \n",
       "44814  23611.0  \n",
       "52013  23611.0  "
      ]
     },
     "execution_count": 95,
     "metadata": {},
     "output_type": "execute_result"
    }
   ],
   "source": [
    "so[criteria_all].head()"
   ]
  },
  {
   "cell_type": "markdown",
   "metadata": {
    "colab_type": "text",
    "id": "DOpy4ZGvU2f5"
   },
   "source": [
    "### Multiple conditions in one line\n",
    "\n",
    "**Use parentheses to separate conditions**\n",
    "\n",
    "Each condition will be separated like this:\n",
    "```{code-block}Python\n",
    "(so['score'] >= 5) & (so['ans_name'] == 'Scott Boston')\n",
    "```\n",
    "\n",
    "We can then drop this expression inside of `[ ]`"
   ]
  },
  {
   "cell_type": "code",
   "execution_count": 96,
   "metadata": {
    "colab": {
     "base_uri": "https://localhost:8080/",
     "height": 289
    },
    "colab_type": "code",
    "executionInfo": {
     "elapsed": 1014,
     "status": "ok",
     "timestamp": 1566296176606,
     "user": {
      "displayName": "Ai Adventures",
      "photoUrl": "https://lh3.googleusercontent.com/-OQdAjp2vMZo/AAAAAAAAAAI/AAAAAAAAAA8/8FVq41kVT5s/s64/photo.jpg",
      "userId": "14635366068755244481"
     },
     "user_tz": -330
    },
    "id": "Ze5Cwr_lU2f6",
    "outputId": "a299e577-1dbd-451f-c026-79d3b89bf9d8"
   },
   "outputs": [
    {
     "data": {
      "text/html": [
       "<div>\n",
       "<style scoped>\n",
       "    .dataframe tbody tr th:only-of-type {\n",
       "        vertical-align: middle;\n",
       "    }\n",
       "\n",
       "    .dataframe tbody tr th {\n",
       "        vertical-align: top;\n",
       "    }\n",
       "\n",
       "    .dataframe thead th {\n",
       "        text-align: right;\n",
       "    }\n",
       "</style>\n",
       "<table border=\"1\" class=\"dataframe\">\n",
       "  <thead>\n",
       "    <tr style=\"text-align: right;\">\n",
       "      <th></th>\n",
       "      <th>id</th>\n",
       "      <th>creationdate</th>\n",
       "      <th>score</th>\n",
       "      <th>viewcount</th>\n",
       "      <th>title</th>\n",
       "      <th>answercount</th>\n",
       "      <th>commentcount</th>\n",
       "      <th>favoritecount</th>\n",
       "      <th>quest_name</th>\n",
       "      <th>quest_rep</th>\n",
       "      <th>ans_name</th>\n",
       "      <th>ans_rep</th>\n",
       "    </tr>\n",
       "  </thead>\n",
       "  <tbody>\n",
       "    <tr>\n",
       "      <th>38246</th>\n",
       "      <td>43209525</td>\n",
       "      <td>2017-04-04 14:03:17</td>\n",
       "      <td>5</td>\n",
       "      <td>131</td>\n",
       "      <td>Pandas: Optimal way to MultiIndex columns</td>\n",
       "      <td>2</td>\n",
       "      <td>0</td>\n",
       "      <td>0.0</td>\n",
       "      <td>sparc_spread</td>\n",
       "      <td>5470.0</td>\n",
       "      <td>Scott Boston</td>\n",
       "      <td>23611.0</td>\n",
       "    </tr>\n",
       "    <tr>\n",
       "      <th>38640</th>\n",
       "      <td>42870703</td>\n",
       "      <td>2017-03-18 05:06:22</td>\n",
       "      <td>5</td>\n",
       "      <td>125</td>\n",
       "      <td>Simultaneous operation of groupby and resample...</td>\n",
       "      <td>1</td>\n",
       "      <td>0</td>\n",
       "      <td>1.0</td>\n",
       "      <td>S. Naribole</td>\n",
       "      <td>43.0</td>\n",
       "      <td>Scott Boston</td>\n",
       "      <td>23611.0</td>\n",
       "    </tr>\n",
       "    <tr>\n",
       "      <th>44358</th>\n",
       "      <td>45064916</td>\n",
       "      <td>2017-07-12 18:16:49</td>\n",
       "      <td>5</td>\n",
       "      <td>428</td>\n",
       "      <td>How to find the correlation between a group of...</td>\n",
       "      <td>2</td>\n",
       "      <td>5</td>\n",
       "      <td>NaN</td>\n",
       "      <td>BKS</td>\n",
       "      <td>506.0</td>\n",
       "      <td>Scott Boston</td>\n",
       "      <td>23611.0</td>\n",
       "    </tr>\n",
       "    <tr>\n",
       "      <th>44814</th>\n",
       "      <td>44877663</td>\n",
       "      <td>2017-07-03 04:07:59</td>\n",
       "      <td>9</td>\n",
       "      <td>1267</td>\n",
       "      <td>Error: float object has no attribute notnull</td>\n",
       "      <td>3</td>\n",
       "      <td>2</td>\n",
       "      <td>1.0</td>\n",
       "      <td>Vivian  Tio</td>\n",
       "      <td>181.0</td>\n",
       "      <td>Scott Boston</td>\n",
       "      <td>23611.0</td>\n",
       "    </tr>\n",
       "    <tr>\n",
       "      <th>52013</th>\n",
       "      <td>47061564</td>\n",
       "      <td>2017-11-01 18:40:36</td>\n",
       "      <td>5</td>\n",
       "      <td>60</td>\n",
       "      <td>How to create strings from dataframe columns e...</td>\n",
       "      <td>5</td>\n",
       "      <td>0</td>\n",
       "      <td>NaN</td>\n",
       "      <td>hernanavella</td>\n",
       "      <td>1890.0</td>\n",
       "      <td>Scott Boston</td>\n",
       "      <td>23611.0</td>\n",
       "    </tr>\n",
       "  </tbody>\n",
       "</table>\n",
       "</div>"
      ],
      "text/plain": [
       "             id         creationdate  score  viewcount  \\\n",
       "38246  43209525  2017-04-04 14:03:17      5        131   \n",
       "38640  42870703  2017-03-18 05:06:22      5        125   \n",
       "44358  45064916  2017-07-12 18:16:49      5        428   \n",
       "44814  44877663  2017-07-03 04:07:59      9       1267   \n",
       "52013  47061564  2017-11-01 18:40:36      5         60   \n",
       "\n",
       "                                                   title  answercount  \\\n",
       "38246          Pandas: Optimal way to MultiIndex columns            2   \n",
       "38640  Simultaneous operation of groupby and resample...            1   \n",
       "44358  How to find the correlation between a group of...            2   \n",
       "44814       Error: float object has no attribute notnull            3   \n",
       "52013  How to create strings from dataframe columns e...            5   \n",
       "\n",
       "       commentcount  favoritecount    quest_name  quest_rep      ans_name  \\\n",
       "38246             0            0.0  sparc_spread     5470.0  Scott Boston   \n",
       "38640             0            1.0   S. Naribole       43.0  Scott Boston   \n",
       "44358             5            NaN           BKS      506.0  Scott Boston   \n",
       "44814             2            1.0   Vivian  Tio      181.0  Scott Boston   \n",
       "52013             0            NaN  hernanavella     1890.0  Scott Boston   \n",
       "\n",
       "       ans_rep  \n",
       "38246  23611.0  \n",
       "38640  23611.0  \n",
       "44358  23611.0  \n",
       "44814  23611.0  \n",
       "52013  23611.0  "
      ]
     },
     "execution_count": 96,
     "metadata": {},
     "output_type": "execute_result"
    }
   ],
   "source": [
    "so[(so['score'] >= 5) & (so['ans_name'] == 'Scott Boston')].head()"
   ]
  },
  {
   "cell_type": "markdown",
   "metadata": {
    "colab_type": "text",
    "id": "elNj2nGLU2gA"
   },
   "source": [
    "For the `or` condition, we use the pipe `|`"
   ]
  },
  {
   "cell_type": "code",
   "execution_count": 97,
   "metadata": {
    "colab": {
     "base_uri": "https://localhost:8080/",
     "height": 289
    },
    "colab_type": "code",
    "executionInfo": {
     "elapsed": 658,
     "status": "ok",
     "timestamp": 1566296178633,
     "user": {
      "displayName": "Ai Adventures",
      "photoUrl": "https://lh3.googleusercontent.com/-OQdAjp2vMZo/AAAAAAAAAAI/AAAAAAAAAA8/8FVq41kVT5s/s64/photo.jpg",
      "userId": "14635366068755244481"
     },
     "user_tz": -330
    },
    "id": "_zLmV6SaU2gD",
    "outputId": "10cb392e-d371-4b65-8602-68c6ea77f94d"
   },
   "outputs": [
    {
     "data": {
      "text/html": [
       "<div>\n",
       "<style scoped>\n",
       "    .dataframe tbody tr th:only-of-type {\n",
       "        vertical-align: middle;\n",
       "    }\n",
       "\n",
       "    .dataframe tbody tr th {\n",
       "        vertical-align: top;\n",
       "    }\n",
       "\n",
       "    .dataframe thead th {\n",
       "        text-align: right;\n",
       "    }\n",
       "</style>\n",
       "<table border=\"1\" class=\"dataframe\">\n",
       "  <thead>\n",
       "    <tr style=\"text-align: right;\">\n",
       "      <th></th>\n",
       "      <th>id</th>\n",
       "      <th>creationdate</th>\n",
       "      <th>score</th>\n",
       "      <th>viewcount</th>\n",
       "      <th>title</th>\n",
       "      <th>answercount</th>\n",
       "      <th>commentcount</th>\n",
       "      <th>favoritecount</th>\n",
       "      <th>quest_name</th>\n",
       "      <th>quest_rep</th>\n",
       "      <th>ans_name</th>\n",
       "      <th>ans_rep</th>\n",
       "    </tr>\n",
       "  </thead>\n",
       "  <tbody>\n",
       "    <tr>\n",
       "      <th>8</th>\n",
       "      <td>7837722</td>\n",
       "      <td>2011-10-20 14:46:14</td>\n",
       "      <td>201</td>\n",
       "      <td>223746</td>\n",
       "      <td>What is the most efficient way to loop through...</td>\n",
       "      <td>8</td>\n",
       "      <td>3</td>\n",
       "      <td>115.0</td>\n",
       "      <td>Muppet</td>\n",
       "      <td>1563.0</td>\n",
       "      <td>Nick Crawford</td>\n",
       "      <td>2779.0</td>\n",
       "    </tr>\n",
       "    <tr>\n",
       "      <th>17</th>\n",
       "      <td>8991709</td>\n",
       "      <td>2012-01-24 17:59:53</td>\n",
       "      <td>136</td>\n",
       "      <td>16783</td>\n",
       "      <td>Why are pandas merges in python faster than da...</td>\n",
       "      <td>3</td>\n",
       "      <td>16</td>\n",
       "      <td>60.0</td>\n",
       "      <td>Zach</td>\n",
       "      <td>12484.0</td>\n",
       "      <td>Matt Dowle</td>\n",
       "      <td>41275.0</td>\n",
       "    </tr>\n",
       "    <tr>\n",
       "      <th>60</th>\n",
       "      <td>10065051</td>\n",
       "      <td>2012-04-08 18:01:13</td>\n",
       "      <td>83</td>\n",
       "      <td>77902</td>\n",
       "      <td>python-pandas and databases like mysql</td>\n",
       "      <td>11</td>\n",
       "      <td>4</td>\n",
       "      <td>65.0</td>\n",
       "      <td>user1320615</td>\n",
       "      <td>532.0</td>\n",
       "      <td>NaN</td>\n",
       "      <td>NaN</td>\n",
       "    </tr>\n",
       "    <tr>\n",
       "      <th>75</th>\n",
       "      <td>10373660</td>\n",
       "      <td>2012-04-29 16:10:35</td>\n",
       "      <td>199</td>\n",
       "      <td>207980</td>\n",
       "      <td>Converting a Pandas GroupBy object to DataFrame</td>\n",
       "      <td>5</td>\n",
       "      <td>0</td>\n",
       "      <td>90.0</td>\n",
       "      <td>saveenr</td>\n",
       "      <td>2421.0</td>\n",
       "      <td>Wes McKinney</td>\n",
       "      <td>43310.0</td>\n",
       "    </tr>\n",
       "    <tr>\n",
       "      <th>99</th>\n",
       "      <td>10636024</td>\n",
       "      <td>2012-05-17 12:48:00</td>\n",
       "      <td>36</td>\n",
       "      <td>30386</td>\n",
       "      <td>Python / Pandas - GUI for viewing a DataFrame ...</td>\n",
       "      <td>15</td>\n",
       "      <td>6</td>\n",
       "      <td>27.0</td>\n",
       "      <td>Ross R</td>\n",
       "      <td>1562.0</td>\n",
       "      <td>user1319128</td>\n",
       "      <td>555.0</td>\n",
       "    </tr>\n",
       "  </tbody>\n",
       "</table>\n",
       "</div>"
      ],
      "text/plain": [
       "          id         creationdate  score  viewcount  \\\n",
       "8    7837722  2011-10-20 14:46:14    201     223746   \n",
       "17   8991709  2012-01-24 17:59:53    136      16783   \n",
       "60  10065051  2012-04-08 18:01:13     83      77902   \n",
       "75  10373660  2012-04-29 16:10:35    199     207980   \n",
       "99  10636024  2012-05-17 12:48:00     36      30386   \n",
       "\n",
       "                                                title  answercount  \\\n",
       "8   What is the most efficient way to loop through...            8   \n",
       "17  Why are pandas merges in python faster than da...            3   \n",
       "60             python-pandas and databases like mysql           11   \n",
       "75    Converting a Pandas GroupBy object to DataFrame            5   \n",
       "99  Python / Pandas - GUI for viewing a DataFrame ...           15   \n",
       "\n",
       "    commentcount  favoritecount   quest_name  quest_rep       ans_name  \\\n",
       "8              3          115.0       Muppet     1563.0  Nick Crawford   \n",
       "17            16           60.0         Zach    12484.0     Matt Dowle   \n",
       "60             4           65.0  user1320615      532.0            NaN   \n",
       "75             0           90.0      saveenr     2421.0   Wes McKinney   \n",
       "99             6           27.0       Ross R     1562.0    user1319128   \n",
       "\n",
       "    ans_rep  \n",
       "8    2779.0  \n",
       "17  41275.0  \n",
       "60      NaN  \n",
       "75  43310.0  \n",
       "99    555.0  "
      ]
     },
     "execution_count": 97,
     "metadata": {},
     "output_type": "execute_result"
    }
   ],
   "source": [
    "so[(so['score'] >= 100) | (so['answercount'] >= 10)].head()"
   ]
  },
  {
   "cell_type": "markdown",
   "metadata": {
    "colab_type": "text",
    "id": "cIj4EMSWU2gJ"
   },
   "source": [
    "### Reversing a condition\n",
    "\n",
    "The tilde character `~` represents the `not` operator and reverses a condition. For instance, if we wanted all the questions with score greater than 100, we could do it like this:"
   ]
  },
  {
   "cell_type": "code",
   "execution_count": 98,
   "metadata": {
    "colab": {
     "base_uri": "https://localhost:8080/",
     "height": 289
    },
    "colab_type": "code",
    "executionInfo": {
     "elapsed": 1114,
     "status": "ok",
     "timestamp": 1566296181409,
     "user": {
      "displayName": "Ai Adventures",
      "photoUrl": "https://lh3.googleusercontent.com/-OQdAjp2vMZo/AAAAAAAAAAI/AAAAAAAAAA8/8FVq41kVT5s/s64/photo.jpg",
      "userId": "14635366068755244481"
     },
     "user_tz": -330
    },
    "id": "l-zwBz8IU2gK",
    "outputId": "21288278-ed6b-4bad-dcdc-3ed7be601d39"
   },
   "outputs": [
    {
     "data": {
      "text/html": [
       "<div>\n",
       "<style scoped>\n",
       "    .dataframe tbody tr th:only-of-type {\n",
       "        vertical-align: middle;\n",
       "    }\n",
       "\n",
       "    .dataframe tbody tr th {\n",
       "        vertical-align: top;\n",
       "    }\n",
       "\n",
       "    .dataframe thead th {\n",
       "        text-align: right;\n",
       "    }\n",
       "</style>\n",
       "<table border=\"1\" class=\"dataframe\">\n",
       "  <thead>\n",
       "    <tr style=\"text-align: right;\">\n",
       "      <th></th>\n",
       "      <th>id</th>\n",
       "      <th>creationdate</th>\n",
       "      <th>score</th>\n",
       "      <th>viewcount</th>\n",
       "      <th>title</th>\n",
       "      <th>answercount</th>\n",
       "      <th>commentcount</th>\n",
       "      <th>favoritecount</th>\n",
       "      <th>quest_name</th>\n",
       "      <th>quest_rep</th>\n",
       "      <th>ans_name</th>\n",
       "      <th>ans_rep</th>\n",
       "    </tr>\n",
       "  </thead>\n",
       "  <tbody>\n",
       "    <tr>\n",
       "      <th>8</th>\n",
       "      <td>7837722</td>\n",
       "      <td>2011-10-20 14:46:14</td>\n",
       "      <td>201</td>\n",
       "      <td>223746</td>\n",
       "      <td>What is the most efficient way to loop through...</td>\n",
       "      <td>8</td>\n",
       "      <td>3</td>\n",
       "      <td>115.0</td>\n",
       "      <td>Muppet</td>\n",
       "      <td>1563.0</td>\n",
       "      <td>Nick Crawford</td>\n",
       "      <td>2779.0</td>\n",
       "    </tr>\n",
       "    <tr>\n",
       "      <th>17</th>\n",
       "      <td>8991709</td>\n",
       "      <td>2012-01-24 17:59:53</td>\n",
       "      <td>136</td>\n",
       "      <td>16783</td>\n",
       "      <td>Why are pandas merges in python faster than da...</td>\n",
       "      <td>3</td>\n",
       "      <td>16</td>\n",
       "      <td>60.0</td>\n",
       "      <td>Zach</td>\n",
       "      <td>12484.0</td>\n",
       "      <td>Matt Dowle</td>\n",
       "      <td>41275.0</td>\n",
       "    </tr>\n",
       "    <tr>\n",
       "      <th>75</th>\n",
       "      <td>10373660</td>\n",
       "      <td>2012-04-29 16:10:35</td>\n",
       "      <td>199</td>\n",
       "      <td>207980</td>\n",
       "      <td>Converting a Pandas GroupBy object to DataFrame</td>\n",
       "      <td>5</td>\n",
       "      <td>0</td>\n",
       "      <td>90.0</td>\n",
       "      <td>saveenr</td>\n",
       "      <td>2421.0</td>\n",
       "      <td>Wes McKinney</td>\n",
       "      <td>43310.0</td>\n",
       "    </tr>\n",
       "    <tr>\n",
       "      <th>100</th>\n",
       "      <td>10665889</td>\n",
       "      <td>2012-05-19 14:11:42</td>\n",
       "      <td>144</td>\n",
       "      <td>179896</td>\n",
       "      <td>How to take column-slices of dataframe in pandas</td>\n",
       "      <td>7</td>\n",
       "      <td>3</td>\n",
       "      <td>65.0</td>\n",
       "      <td>cpa</td>\n",
       "      <td>988.0</td>\n",
       "      <td>Ted Petrou</td>\n",
       "      <td>10426.0</td>\n",
       "    </tr>\n",
       "    <tr>\n",
       "      <th>106</th>\n",
       "      <td>10715965</td>\n",
       "      <td>2012-05-23 08:12:31</td>\n",
       "      <td>340</td>\n",
       "      <td>408347</td>\n",
       "      <td>add one row in a pandas.DataFrame</td>\n",
       "      <td>15</td>\n",
       "      <td>3</td>\n",
       "      <td>89.0</td>\n",
       "      <td>PhE</td>\n",
       "      <td>1988.0</td>\n",
       "      <td>fred</td>\n",
       "      <td>2342.0</td>\n",
       "    </tr>\n",
       "  </tbody>\n",
       "</table>\n",
       "</div>"
      ],
      "text/plain": [
       "           id         creationdate  score  viewcount  \\\n",
       "8     7837722  2011-10-20 14:46:14    201     223746   \n",
       "17    8991709  2012-01-24 17:59:53    136      16783   \n",
       "75   10373660  2012-04-29 16:10:35    199     207980   \n",
       "100  10665889  2012-05-19 14:11:42    144     179896   \n",
       "106  10715965  2012-05-23 08:12:31    340     408347   \n",
       "\n",
       "                                                 title  answercount  \\\n",
       "8    What is the most efficient way to loop through...            8   \n",
       "17   Why are pandas merges in python faster than da...            3   \n",
       "75     Converting a Pandas GroupBy object to DataFrame            5   \n",
       "100   How to take column-slices of dataframe in pandas            7   \n",
       "106                  add one row in a pandas.DataFrame           15   \n",
       "\n",
       "     commentcount  favoritecount quest_name  quest_rep       ans_name  ans_rep  \n",
       "8               3          115.0     Muppet     1563.0  Nick Crawford   2779.0  \n",
       "17             16           60.0       Zach    12484.0     Matt Dowle  41275.0  \n",
       "75              0           90.0    saveenr     2421.0   Wes McKinney  43310.0  \n",
       "100             3           65.0        cpa      988.0     Ted Petrou  10426.0  \n",
       "106             3           89.0        PhE     1988.0           fred   2342.0  "
      ]
     },
     "execution_count": 98,
     "metadata": {},
     "output_type": "execute_result"
    }
   ],
   "source": [
    "so[~(so['score'] <= 100)].head()"
   ]
  },
  {
   "cell_type": "markdown",
   "metadata": {
    "colab_type": "text",
    "id": "-_e3QnJmU2gR"
   },
   "source": [
    "### Complex conditions\n",
    "It is possible to build extremely complex conditions to select rows of your DataFrame that meet a very specific criteria. For instance, we can select all questions answered by Scott Boston with **`score`** 5 or more OR questions answered by Ted Petrou with answer count 5 or more.\n",
    "\n",
    "With multiple conditions, its probably best to break out the logic into multiple steps:"
   ]
  },
  {
   "cell_type": "code",
   "execution_count": 99,
   "metadata": {
    "colab": {
     "base_uri": "https://localhost:8080/",
     "height": 337
    },
    "colab_type": "code",
    "executionInfo": {
     "elapsed": 1140,
     "status": "ok",
     "timestamp": 1566296183655,
     "user": {
      "displayName": "Ai Adventures",
      "photoUrl": "https://lh3.googleusercontent.com/-OQdAjp2vMZo/AAAAAAAAAAI/AAAAAAAAAA8/8FVq41kVT5s/s64/photo.jpg",
      "userId": "14635366068755244481"
     },
     "user_tz": -330
    },
    "id": "pPT7P9AeU2gR",
    "outputId": "eb284044-7040-4bbc-85c1-7b6aa325c408"
   },
   "outputs": [
    {
     "data": {
      "text/html": [
       "<div>\n",
       "<style scoped>\n",
       "    .dataframe tbody tr th:only-of-type {\n",
       "        vertical-align: middle;\n",
       "    }\n",
       "\n",
       "    .dataframe tbody tr th {\n",
       "        vertical-align: top;\n",
       "    }\n",
       "\n",
       "    .dataframe thead th {\n",
       "        text-align: right;\n",
       "    }\n",
       "</style>\n",
       "<table border=\"1\" class=\"dataframe\">\n",
       "  <thead>\n",
       "    <tr style=\"text-align: right;\">\n",
       "      <th></th>\n",
       "      <th>id</th>\n",
       "      <th>creationdate</th>\n",
       "      <th>score</th>\n",
       "      <th>viewcount</th>\n",
       "      <th>title</th>\n",
       "      <th>answercount</th>\n",
       "      <th>commentcount</th>\n",
       "      <th>favoritecount</th>\n",
       "      <th>quest_name</th>\n",
       "      <th>quest_rep</th>\n",
       "      <th>ans_name</th>\n",
       "      <th>ans_rep</th>\n",
       "    </tr>\n",
       "  </thead>\n",
       "  <tbody>\n",
       "    <tr>\n",
       "      <th>100</th>\n",
       "      <td>10665889</td>\n",
       "      <td>2012-05-19 14:11:42</td>\n",
       "      <td>144</td>\n",
       "      <td>179896</td>\n",
       "      <td>How to take column-slices of dataframe in pandas</td>\n",
       "      <td>7</td>\n",
       "      <td>3</td>\n",
       "      <td>65.0</td>\n",
       "      <td>cpa</td>\n",
       "      <td>988.0</td>\n",
       "      <td>Ted Petrou</td>\n",
       "      <td>10426.0</td>\n",
       "    </tr>\n",
       "    <tr>\n",
       "      <th>38246</th>\n",
       "      <td>43209525</td>\n",
       "      <td>2017-04-04 14:03:17</td>\n",
       "      <td>5</td>\n",
       "      <td>131</td>\n",
       "      <td>Pandas: Optimal way to MultiIndex columns</td>\n",
       "      <td>2</td>\n",
       "      <td>0</td>\n",
       "      <td>0.0</td>\n",
       "      <td>sparc_spread</td>\n",
       "      <td>5470.0</td>\n",
       "      <td>Scott Boston</td>\n",
       "      <td>23611.0</td>\n",
       "    </tr>\n",
       "    <tr>\n",
       "      <th>38640</th>\n",
       "      <td>42870703</td>\n",
       "      <td>2017-03-18 05:06:22</td>\n",
       "      <td>5</td>\n",
       "      <td>125</td>\n",
       "      <td>Simultaneous operation of groupby and resample...</td>\n",
       "      <td>1</td>\n",
       "      <td>0</td>\n",
       "      <td>1.0</td>\n",
       "      <td>S. Naribole</td>\n",
       "      <td>43.0</td>\n",
       "      <td>Scott Boston</td>\n",
       "      <td>23611.0</td>\n",
       "    </tr>\n",
       "    <tr>\n",
       "      <th>44358</th>\n",
       "      <td>45064916</td>\n",
       "      <td>2017-07-12 18:16:49</td>\n",
       "      <td>5</td>\n",
       "      <td>428</td>\n",
       "      <td>How to find the correlation between a group of...</td>\n",
       "      <td>2</td>\n",
       "      <td>5</td>\n",
       "      <td>NaN</td>\n",
       "      <td>BKS</td>\n",
       "      <td>506.0</td>\n",
       "      <td>Scott Boston</td>\n",
       "      <td>23611.0</td>\n",
       "    </tr>\n",
       "    <tr>\n",
       "      <th>44814</th>\n",
       "      <td>44877663</td>\n",
       "      <td>2017-07-03 04:07:59</td>\n",
       "      <td>9</td>\n",
       "      <td>1267</td>\n",
       "      <td>Error: float object has no attribute notnull</td>\n",
       "      <td>3</td>\n",
       "      <td>2</td>\n",
       "      <td>1.0</td>\n",
       "      <td>Vivian  Tio</td>\n",
       "      <td>181.0</td>\n",
       "      <td>Scott Boston</td>\n",
       "      <td>23611.0</td>\n",
       "    </tr>\n",
       "  </tbody>\n",
       "</table>\n",
       "</div>"
      ],
      "text/plain": [
       "             id         creationdate  score  viewcount  \\\n",
       "100    10665889  2012-05-19 14:11:42    144     179896   \n",
       "38246  43209525  2017-04-04 14:03:17      5        131   \n",
       "38640  42870703  2017-03-18 05:06:22      5        125   \n",
       "44358  45064916  2017-07-12 18:16:49      5        428   \n",
       "44814  44877663  2017-07-03 04:07:59      9       1267   \n",
       "\n",
       "                                                   title  answercount  \\\n",
       "100     How to take column-slices of dataframe in pandas            7   \n",
       "38246          Pandas: Optimal way to MultiIndex columns            2   \n",
       "38640  Simultaneous operation of groupby and resample...            1   \n",
       "44358  How to find the correlation between a group of...            2   \n",
       "44814       Error: float object has no attribute notnull            3   \n",
       "\n",
       "       commentcount  favoritecount    quest_name  quest_rep      ans_name  \\\n",
       "100               3           65.0           cpa      988.0    Ted Petrou   \n",
       "38246             0            0.0  sparc_spread     5470.0  Scott Boston   \n",
       "38640             0            1.0   S. Naribole       43.0  Scott Boston   \n",
       "44358             5            NaN           BKS      506.0  Scott Boston   \n",
       "44814             2            1.0   Vivian  Tio      181.0  Scott Boston   \n",
       "\n",
       "       ans_rep  \n",
       "100    10426.0  \n",
       "38246  23611.0  \n",
       "38640  23611.0  \n",
       "44358  23611.0  \n",
       "44814  23611.0  "
      ]
     },
     "execution_count": 99,
     "metadata": {},
     "output_type": "execute_result"
    }
   ],
   "source": [
    "criteria_1 = (so['score'] >= 5) & (so['ans_name'] == 'Scott Boston')\n",
    "criteria_2 = (so['answercount'] >= 5) & (so['ans_name'] == 'Ted Petrou')\n",
    "criteria_all = criteria_1 | criteria_2\n",
    "so[criteria_all].head()"
   ]
  },
  {
   "cell_type": "markdown",
   "metadata": {
    "colab_type": "text",
    "id": "xBduJH7vU2gZ"
   },
   "source": [
    "#### Usage of `isin()`method \n",
    "For instance, let's say we wanted to find all the questions answered by Scott Boston, Ted Petrou, MaxU, and unutbu.\n",
    "\n",
    "One way to do this would be with four `or` conditions.\n",
    "\n",
    "```Python\n",
    "criteria = ((so['ans_name'] == 'Scott Boston') | (so['ans_name'] == 'Ted Petrou') | \n",
    "            (so['ans_name'] == 'MaxU') | (so['ans_name'] == 'unutbu'))\n",
    "```\n",
    "\n",
    "An easier way is to use the Series method `isin`. Pass it a list of all the items you want to check for equality."
   ]
  },
  {
   "cell_type": "code",
   "execution_count": 100,
   "metadata": {
    "colab": {
     "base_uri": "https://localhost:8080/",
     "height": 119
    },
    "colab_type": "code",
    "executionInfo": {
     "elapsed": 1140,
     "status": "ok",
     "timestamp": 1566296184960,
     "user": {
      "displayName": "Ai Adventures",
      "photoUrl": "https://lh3.googleusercontent.com/-OQdAjp2vMZo/AAAAAAAAAAI/AAAAAAAAAA8/8FVq41kVT5s/s64/photo.jpg",
      "userId": "14635366068755244481"
     },
     "user_tz": -330
    },
    "id": "K8LrLszoU2ga",
    "outputId": "0d8d2d8b-db11-40f6-a352-45f97755bea2"
   },
   "outputs": [
    {
     "data": {
      "text/plain": [
       "0    False\n",
       "1    False\n",
       "2    False\n",
       "3    False\n",
       "4    False\n",
       "Name: ans_name, dtype: bool"
      ]
     },
     "execution_count": 100,
     "metadata": {},
     "output_type": "execute_result"
    }
   ],
   "source": [
    "criteria = so['ans_name'].isin(['Scott Boston', 'Ted Petrou', 'MaxU', 'unutbu'])\n",
    "criteria.head()"
   ]
  },
  {
   "cell_type": "code",
   "execution_count": 101,
   "metadata": {
    "colab": {
     "base_uri": "https://localhost:8080/",
     "height": 289
    },
    "colab_type": "code",
    "executionInfo": {
     "elapsed": 1014,
     "status": "ok",
     "timestamp": 1566296185895,
     "user": {
      "displayName": "Ai Adventures",
      "photoUrl": "https://lh3.googleusercontent.com/-OQdAjp2vMZo/AAAAAAAAAAI/AAAAAAAAAA8/8FVq41kVT5s/s64/photo.jpg",
      "userId": "14635366068755244481"
     },
     "user_tz": -330
    },
    "id": "3OIzu3H6U2gc",
    "outputId": "2e952d75-4d1e-4879-f313-8010f6e4cf24"
   },
   "outputs": [
    {
     "data": {
      "text/html": [
       "<div>\n",
       "<style scoped>\n",
       "    .dataframe tbody tr th:only-of-type {\n",
       "        vertical-align: middle;\n",
       "    }\n",
       "\n",
       "    .dataframe tbody tr th {\n",
       "        vertical-align: top;\n",
       "    }\n",
       "\n",
       "    .dataframe thead th {\n",
       "        text-align: right;\n",
       "    }\n",
       "</style>\n",
       "<table border=\"1\" class=\"dataframe\">\n",
       "  <thead>\n",
       "    <tr style=\"text-align: right;\">\n",
       "      <th></th>\n",
       "      <th>id</th>\n",
       "      <th>creationdate</th>\n",
       "      <th>score</th>\n",
       "      <th>viewcount</th>\n",
       "      <th>title</th>\n",
       "      <th>answercount</th>\n",
       "      <th>commentcount</th>\n",
       "      <th>favoritecount</th>\n",
       "      <th>quest_name</th>\n",
       "      <th>quest_rep</th>\n",
       "      <th>ans_name</th>\n",
       "      <th>ans_rep</th>\n",
       "    </tr>\n",
       "  </thead>\n",
       "  <tbody>\n",
       "    <tr>\n",
       "      <th>100</th>\n",
       "      <td>10665889</td>\n",
       "      <td>2012-05-19 14:11:42</td>\n",
       "      <td>144</td>\n",
       "      <td>179896</td>\n",
       "      <td>How to take column-slices of dataframe in pandas</td>\n",
       "      <td>7</td>\n",
       "      <td>3</td>\n",
       "      <td>65.0</td>\n",
       "      <td>cpa</td>\n",
       "      <td>988.0</td>\n",
       "      <td>Ted Petrou</td>\n",
       "      <td>10426.0</td>\n",
       "    </tr>\n",
       "    <tr>\n",
       "      <th>574</th>\n",
       "      <td>13385860</td>\n",
       "      <td>2012-11-14 19:25:28</td>\n",
       "      <td>29</td>\n",
       "      <td>31712</td>\n",
       "      <td>How can I remove extra whitespace from strings...</td>\n",
       "      <td>6</td>\n",
       "      <td>0</td>\n",
       "      <td>17.0</td>\n",
       "      <td>mpjan</td>\n",
       "      <td>530.0</td>\n",
       "      <td>unutbu</td>\n",
       "      <td>464745.0</td>\n",
       "    </tr>\n",
       "    <tr>\n",
       "      <th>593</th>\n",
       "      <td>13446480</td>\n",
       "      <td>2012-11-19 01:20:07</td>\n",
       "      <td>18</td>\n",
       "      <td>7969</td>\n",
       "      <td>Python Pandas: remove entries based on the num...</td>\n",
       "      <td>4</td>\n",
       "      <td>1</td>\n",
       "      <td>7.0</td>\n",
       "      <td>sashkello</td>\n",
       "      <td>8714.0</td>\n",
       "      <td>unutbu</td>\n",
       "      <td>464745.0</td>\n",
       "    </tr>\n",
       "    <tr>\n",
       "      <th>599</th>\n",
       "      <td>13460889</td>\n",
       "      <td>2012-11-19 19:39:06</td>\n",
       "      <td>8</td>\n",
       "      <td>3168</td>\n",
       "      <td>How to redirect all methods of a contained cla...</td>\n",
       "      <td>2</td>\n",
       "      <td>4</td>\n",
       "      <td>5.0</td>\n",
       "      <td>Yariv</td>\n",
       "      <td>5013.0</td>\n",
       "      <td>unutbu</td>\n",
       "      <td>464745.0</td>\n",
       "    </tr>\n",
       "    <tr>\n",
       "      <th>639</th>\n",
       "      <td>13653030</td>\n",
       "      <td>2012-11-30 20:54:35</td>\n",
       "      <td>6</td>\n",
       "      <td>11798</td>\n",
       "      <td>How do I Pass a List of Series to a Pandas Dat...</td>\n",
       "      <td>5</td>\n",
       "      <td>1</td>\n",
       "      <td>1.0</td>\n",
       "      <td>rhaskett</td>\n",
       "      <td>323.0</td>\n",
       "      <td>unutbu</td>\n",
       "      <td>464745.0</td>\n",
       "    </tr>\n",
       "  </tbody>\n",
       "</table>\n",
       "</div>"
      ],
      "text/plain": [
       "           id         creationdate  score  viewcount  \\\n",
       "100  10665889  2012-05-19 14:11:42    144     179896   \n",
       "574  13385860  2012-11-14 19:25:28     29      31712   \n",
       "593  13446480  2012-11-19 01:20:07     18       7969   \n",
       "599  13460889  2012-11-19 19:39:06      8       3168   \n",
       "639  13653030  2012-11-30 20:54:35      6      11798   \n",
       "\n",
       "                                                 title  answercount  \\\n",
       "100   How to take column-slices of dataframe in pandas            7   \n",
       "574  How can I remove extra whitespace from strings...            6   \n",
       "593  Python Pandas: remove entries based on the num...            4   \n",
       "599  How to redirect all methods of a contained cla...            2   \n",
       "639  How do I Pass a List of Series to a Pandas Dat...            5   \n",
       "\n",
       "     commentcount  favoritecount quest_name  quest_rep    ans_name   ans_rep  \n",
       "100             3           65.0        cpa      988.0  Ted Petrou   10426.0  \n",
       "574             0           17.0      mpjan      530.0      unutbu  464745.0  \n",
       "593             1            7.0  sashkello     8714.0      unutbu  464745.0  \n",
       "599             4            5.0      Yariv     5013.0      unutbu  464745.0  \n",
       "639             1            1.0   rhaskett      323.0      unutbu  464745.0  "
      ]
     },
     "execution_count": 101,
     "metadata": {},
     "output_type": "execute_result"
    }
   ],
   "source": [
    "so[criteria].head()"
   ]
  },
  {
   "cell_type": "markdown",
   "metadata": {
    "colab_type": "text",
    "id": "eVRq_gOuU2gh"
   },
   "source": [
    "#### Combining `isin()` methods \n",
    "\n",
    "You can use the resulting boolean Series from the `isin` method in the same way you would from the logical operators. For instance, If we wanted to find all the questions answered by the people above and had score greater than 30 we would do the following:"
   ]
  },
  {
   "cell_type": "code",
   "execution_count": 102,
   "metadata": {
    "colab": {
     "base_uri": "https://localhost:8080/",
     "height": 289
    },
    "colab_type": "code",
    "executionInfo": {
     "elapsed": 1499,
     "status": "ok",
     "timestamp": 1566296188806,
     "user": {
      "displayName": "Ai Adventures",
      "photoUrl": "https://lh3.googleusercontent.com/-OQdAjp2vMZo/AAAAAAAAAAI/AAAAAAAAAA8/8FVq41kVT5s/s64/photo.jpg",
      "userId": "14635366068755244481"
     },
     "user_tz": -330
    },
    "id": "vYdi52NjU2gi",
    "outputId": "4ff03c13-d763-4e59-fb67-4eeadd5c9a5b"
   },
   "outputs": [
    {
     "data": {
      "text/html": [
       "<div>\n",
       "<style scoped>\n",
       "    .dataframe tbody tr th:only-of-type {\n",
       "        vertical-align: middle;\n",
       "    }\n",
       "\n",
       "    .dataframe tbody tr th {\n",
       "        vertical-align: top;\n",
       "    }\n",
       "\n",
       "    .dataframe thead th {\n",
       "        text-align: right;\n",
       "    }\n",
       "</style>\n",
       "<table border=\"1\" class=\"dataframe\">\n",
       "  <thead>\n",
       "    <tr style=\"text-align: right;\">\n",
       "      <th></th>\n",
       "      <th>id</th>\n",
       "      <th>creationdate</th>\n",
       "      <th>score</th>\n",
       "      <th>viewcount</th>\n",
       "      <th>title</th>\n",
       "      <th>answercount</th>\n",
       "      <th>commentcount</th>\n",
       "      <th>favoritecount</th>\n",
       "      <th>quest_name</th>\n",
       "      <th>quest_rep</th>\n",
       "      <th>ans_name</th>\n",
       "      <th>ans_rep</th>\n",
       "    </tr>\n",
       "  </thead>\n",
       "  <tbody>\n",
       "    <tr>\n",
       "      <th>4389</th>\n",
       "      <td>21800169</td>\n",
       "      <td>2014-02-15 16:18:11</td>\n",
       "      <td>81</td>\n",
       "      <td>183564</td>\n",
       "      <td>Python Pandas: Get index of rows which column ...</td>\n",
       "      <td>2</td>\n",
       "      <td>0</td>\n",
       "      <td>40.0</td>\n",
       "      <td>I want badges</td>\n",
       "      <td>708.0</td>\n",
       "      <td>unutbu</td>\n",
       "      <td>464745.0</td>\n",
       "    </tr>\n",
       "    <tr>\n",
       "      <th>5179</th>\n",
       "      <td>21415661</td>\n",
       "      <td>2014-01-28 20:04:04</td>\n",
       "      <td>38</td>\n",
       "      <td>46056</td>\n",
       "      <td>Logic operator for boolean indexing in Pandas</td>\n",
       "      <td>1</td>\n",
       "      <td>3</td>\n",
       "      <td>16.0</td>\n",
       "      <td>user2988577</td>\n",
       "      <td>647.0</td>\n",
       "      <td>unutbu</td>\n",
       "      <td>464745.0</td>\n",
       "    </tr>\n",
       "    <tr>\n",
       "      <th>7411</th>\n",
       "      <td>25254016</td>\n",
       "      <td>2014-08-11 23:30:16</td>\n",
       "      <td>73</td>\n",
       "      <td>113632</td>\n",
       "      <td>Pandas - Get first row value of a given column</td>\n",
       "      <td>4</td>\n",
       "      <td>1</td>\n",
       "      <td>10.0</td>\n",
       "      <td>Ahmed Haque</td>\n",
       "      <td>1363.0</td>\n",
       "      <td>unutbu</td>\n",
       "      <td>464745.0</td>\n",
       "    </tr>\n",
       "    <tr>\n",
       "      <th>11136</th>\n",
       "      <td>29370057</td>\n",
       "      <td>2015-03-31 13:38:06</td>\n",
       "      <td>51</td>\n",
       "      <td>72821</td>\n",
       "      <td>Select dataframe rows between two dates</td>\n",
       "      <td>4</td>\n",
       "      <td>0</td>\n",
       "      <td>26.0</td>\n",
       "      <td>darkpool</td>\n",
       "      <td>1502.0</td>\n",
       "      <td>unutbu</td>\n",
       "      <td>464745.0</td>\n",
       "    </tr>\n",
       "    <tr>\n",
       "      <th>25710</th>\n",
       "      <td>38250710</td>\n",
       "      <td>2016-07-07 16:26:26</td>\n",
       "      <td>47</td>\n",
       "      <td>20477</td>\n",
       "      <td>How to split data into 3 sets (train, validati...</td>\n",
       "      <td>3</td>\n",
       "      <td>7</td>\n",
       "      <td>15.0</td>\n",
       "      <td>CentAu</td>\n",
       "      <td>1923.0</td>\n",
       "      <td>MaxU</td>\n",
       "      <td>83732.0</td>\n",
       "    </tr>\n",
       "  </tbody>\n",
       "</table>\n",
       "</div>"
      ],
      "text/plain": [
       "             id         creationdate  score  viewcount  \\\n",
       "4389   21800169  2014-02-15 16:18:11     81     183564   \n",
       "5179   21415661  2014-01-28 20:04:04     38      46056   \n",
       "7411   25254016  2014-08-11 23:30:16     73     113632   \n",
       "11136  29370057  2015-03-31 13:38:06     51      72821   \n",
       "25710  38250710  2016-07-07 16:26:26     47      20477   \n",
       "\n",
       "                                                   title  answercount  \\\n",
       "4389   Python Pandas: Get index of rows which column ...            2   \n",
       "5179       Logic operator for boolean indexing in Pandas            1   \n",
       "7411      Pandas - Get first row value of a given column            4   \n",
       "11136            Select dataframe rows between two dates            4   \n",
       "25710  How to split data into 3 sets (train, validati...            3   \n",
       "\n",
       "       commentcount  favoritecount     quest_name  quest_rep ans_name  \\\n",
       "4389              0           40.0  I want badges      708.0   unutbu   \n",
       "5179              3           16.0    user2988577      647.0   unutbu   \n",
       "7411              1           10.0    Ahmed Haque     1363.0   unutbu   \n",
       "11136             0           26.0       darkpool     1502.0   unutbu   \n",
       "25710             7           15.0         CentAu     1923.0     MaxU   \n",
       "\n",
       "        ans_rep  \n",
       "4389   464745.0  \n",
       "5179   464745.0  \n",
       "7411   464745.0  \n",
       "11136  464745.0  \n",
       "25710   83732.0  "
      ]
     },
     "execution_count": 102,
     "metadata": {},
     "output_type": "execute_result"
    }
   ],
   "source": [
    "criteria_1 = so['ans_name'].isin(['Scott Boston', 'Ted Petrou', 'MaxU', 'unutbu'])\n",
    "criteria_2 = so['score'] > 30\n",
    "criteria_all = criteria_1 & criteria_2\n",
    "so[criteria_all].tail()"
   ]
  },
  {
   "cell_type": "markdown",
   "metadata": {
    "colab_type": "text",
    "id": "OzL1SkzhU2gm"
   },
   "source": [
    "#### Usage of `isnull()` method\n",
    "\n",
    "The **`isnull`** method returns a boolean Series where True indicates where a missing value is. For instance, questions that do not have an **accepted answer** have missing values for **ans_name**. Let's call `isnull()` on this column."
   ]
  },
  {
   "cell_type": "code",
   "execution_count": 103,
   "metadata": {
    "colab": {
     "base_uri": "https://localhost:8080/",
     "height": 136
    },
    "colab_type": "code",
    "executionInfo": {
     "elapsed": 757,
     "status": "ok",
     "timestamp": 1566296190232,
     "user": {
      "displayName": "Ai Adventures",
      "photoUrl": "https://lh3.googleusercontent.com/-OQdAjp2vMZo/AAAAAAAAAAI/AAAAAAAAAA8/8FVq41kVT5s/s64/photo.jpg",
      "userId": "14635366068755244481"
     },
     "user_tz": -330
    },
    "id": "7ZparbPuU2go",
    "outputId": "559304f7-f6ea-44f6-e9aa-3259a69c0d46"
   },
   "outputs": [
    {
     "data": {
      "text/plain": [
       "0    False\n",
       "1    False\n",
       "2    False\n",
       "3    False\n",
       "4    False\n",
       "5     True\n",
       "Name: ans_name, dtype: bool"
      ]
     },
     "execution_count": 103,
     "metadata": {},
     "output_type": "execute_result"
    }
   ],
   "source": [
    "no_answer = so['ans_name'].isnull()\n",
    "no_answer.head(6)"
   ]
  },
  {
   "cell_type": "markdown",
   "metadata": {
    "colab_type": "text",
    "id": "HXpZr4pQU2gr"
   },
   "source": [
    "This is just another boolean Series which we can pass to `[ ]`"
   ]
  },
  {
   "cell_type": "code",
   "execution_count": 104,
   "metadata": {
    "colab": {
     "base_uri": "https://localhost:8080/",
     "height": 289
    },
    "colab_type": "code",
    "executionInfo": {
     "elapsed": 982,
     "status": "ok",
     "timestamp": 1566296191990,
     "user": {
      "displayName": "Ai Adventures",
      "photoUrl": "https://lh3.googleusercontent.com/-OQdAjp2vMZo/AAAAAAAAAAI/AAAAAAAAAA8/8FVq41kVT5s/s64/photo.jpg",
      "userId": "14635366068755244481"
     },
     "user_tz": -330
    },
    "id": "7Hi5QJOlU2gr",
    "outputId": "cd8cda5d-4fef-4387-8589-f6ae61026cd0"
   },
   "outputs": [
    {
     "data": {
      "text/html": [
       "<div>\n",
       "<style scoped>\n",
       "    .dataframe tbody tr th:only-of-type {\n",
       "        vertical-align: middle;\n",
       "    }\n",
       "\n",
       "    .dataframe tbody tr th {\n",
       "        vertical-align: top;\n",
       "    }\n",
       "\n",
       "    .dataframe thead th {\n",
       "        text-align: right;\n",
       "    }\n",
       "</style>\n",
       "<table border=\"1\" class=\"dataframe\">\n",
       "  <thead>\n",
       "    <tr style=\"text-align: right;\">\n",
       "      <th></th>\n",
       "      <th>id</th>\n",
       "      <th>creationdate</th>\n",
       "      <th>score</th>\n",
       "      <th>viewcount</th>\n",
       "      <th>title</th>\n",
       "      <th>answercount</th>\n",
       "      <th>commentcount</th>\n",
       "      <th>favoritecount</th>\n",
       "      <th>quest_name</th>\n",
       "      <th>quest_rep</th>\n",
       "      <th>ans_name</th>\n",
       "      <th>ans_rep</th>\n",
       "    </tr>\n",
       "  </thead>\n",
       "  <tbody>\n",
       "    <tr>\n",
       "      <th>5</th>\n",
       "      <td>7766400</td>\n",
       "      <td>2011-10-14 10:33:54</td>\n",
       "      <td>2</td>\n",
       "      <td>977</td>\n",
       "      <td>Pandas + Django + mod_wsgi + virtualenv</td>\n",
       "      <td>1</td>\n",
       "      <td>2</td>\n",
       "      <td>1.0</td>\n",
       "      <td>Evan Davey</td>\n",
       "      <td>100.0</td>\n",
       "      <td>NaN</td>\n",
       "      <td>NaN</td>\n",
       "    </tr>\n",
       "    <tr>\n",
       "      <th>11</th>\n",
       "      <td>8451327</td>\n",
       "      <td>2011-12-09 20:27:24</td>\n",
       "      <td>1</td>\n",
       "      <td>2435</td>\n",
       "      <td>Python map() function output into Pandas DataF...</td>\n",
       "      <td>1</td>\n",
       "      <td>0</td>\n",
       "      <td>1.0</td>\n",
       "      <td>briant57</td>\n",
       "      <td>6.0</td>\n",
       "      <td>NaN</td>\n",
       "      <td>NaN</td>\n",
       "    </tr>\n",
       "    <tr>\n",
       "      <th>16</th>\n",
       "      <td>8966871</td>\n",
       "      <td>2012-01-23 03:21:00</td>\n",
       "      <td>0</td>\n",
       "      <td>287</td>\n",
       "      <td>Running Python/Numpy/Pandas on older secure co...</td>\n",
       "      <td>0</td>\n",
       "      <td>3</td>\n",
       "      <td>NaN</td>\n",
       "      <td>Casey</td>\n",
       "      <td>16.0</td>\n",
       "      <td>NaN</td>\n",
       "      <td>NaN</td>\n",
       "    </tr>\n",
       "    <tr>\n",
       "      <th>29</th>\n",
       "      <td>9641916</td>\n",
       "      <td>2012-03-09 22:36:52</td>\n",
       "      <td>7</td>\n",
       "      <td>5519</td>\n",
       "      <td>Python Pandas: can't find numpy.core.multiarra...</td>\n",
       "      <td>4</td>\n",
       "      <td>2</td>\n",
       "      <td>NaN</td>\n",
       "      <td>Dylan Cutler</td>\n",
       "      <td>41.0</td>\n",
       "      <td>NaN</td>\n",
       "      <td>NaN</td>\n",
       "    </tr>\n",
       "    <tr>\n",
       "      <th>30</th>\n",
       "      <td>9647656</td>\n",
       "      <td>2012-03-10 15:35:26</td>\n",
       "      <td>3</td>\n",
       "      <td>986</td>\n",
       "      <td>Pandas dataframe in mixed mode can't serialize...</td>\n",
       "      <td>1</td>\n",
       "      <td>0</td>\n",
       "      <td>NaN</td>\n",
       "      <td>David van Coevorden</td>\n",
       "      <td>45.0</td>\n",
       "      <td>NaN</td>\n",
       "      <td>NaN</td>\n",
       "    </tr>\n",
       "  </tbody>\n",
       "</table>\n",
       "</div>"
      ],
      "text/plain": [
       "         id         creationdate  score  viewcount  \\\n",
       "5   7766400  2011-10-14 10:33:54      2        977   \n",
       "11  8451327  2011-12-09 20:27:24      1       2435   \n",
       "16  8966871  2012-01-23 03:21:00      0        287   \n",
       "29  9641916  2012-03-09 22:36:52      7       5519   \n",
       "30  9647656  2012-03-10 15:35:26      3        986   \n",
       "\n",
       "                                                title  answercount  \\\n",
       "5             Pandas + Django + mod_wsgi + virtualenv            1   \n",
       "11  Python map() function output into Pandas DataF...            1   \n",
       "16  Running Python/Numpy/Pandas on older secure co...            0   \n",
       "29  Python Pandas: can't find numpy.core.multiarra...            4   \n",
       "30  Pandas dataframe in mixed mode can't serialize...            1   \n",
       "\n",
       "    commentcount  favoritecount           quest_name  quest_rep ans_name  \\\n",
       "5              2            1.0           Evan Davey      100.0      NaN   \n",
       "11             0            1.0             briant57        6.0      NaN   \n",
       "16             3            NaN                Casey       16.0      NaN   \n",
       "29             2            NaN         Dylan Cutler       41.0      NaN   \n",
       "30             0            NaN  David van Coevorden       45.0      NaN   \n",
       "\n",
       "    ans_rep  \n",
       "5       NaN  \n",
       "11      NaN  \n",
       "16      NaN  \n",
       "29      NaN  \n",
       "30      NaN  "
      ]
     },
     "execution_count": 104,
     "metadata": {},
     "output_type": "execute_result"
    }
   ],
   "source": [
    "so[no_answer].head()"
   ]
  },
  {
   "cell_type": "markdown",
   "metadata": {
    "colab_type": "text",
    "id": "wwoHsR9tU2gu"
   },
   "source": [
    "An alias of **`isnull()`** is the **`isna()`** method. **Alias** means it is the same exact method with a different name."
   ]
  },
  {
   "cell_type": "markdown",
   "metadata": {
    "colab_type": "text",
    "id": "FUx7luSHU2gv"
   },
   "source": [
    "### Boolean Selection on a Series\n",
    "All the examples thus far have taken place on the **so** DataFrame. Boolean selection on a Series happens almost identically. Since there is only one dimension of data, the queries you ask are usually going to be simpler.\n",
    "\n",
    "First, let's select a single column of data as a Series such as the **commentcount** column."
   ]
  },
  {
   "cell_type": "code",
   "execution_count": 105,
   "metadata": {
    "colab": {
     "base_uri": "https://localhost:8080/",
     "height": 119
    },
    "colab_type": "code",
    "executionInfo": {
     "elapsed": 1073,
     "status": "ok",
     "timestamp": 1566296196347,
     "user": {
      "displayName": "Ai Adventures",
      "photoUrl": "https://lh3.googleusercontent.com/-OQdAjp2vMZo/AAAAAAAAAAI/AAAAAAAAAA8/8FVq41kVT5s/s64/photo.jpg",
      "userId": "14635366068755244481"
     },
     "user_tz": -330
    },
    "id": "8keovTNxU2gv",
    "outputId": "d088df2e-2b12-4724-a6fc-264ea3ec1b5e"
   },
   "outputs": [
    {
     "data": {
      "text/plain": [
       "0    4\n",
       "1    6\n",
       "2    0\n",
       "3    0\n",
       "4    0\n",
       "Name: commentcount, dtype: int64"
      ]
     },
     "execution_count": 105,
     "metadata": {},
     "output_type": "execute_result"
    }
   ],
   "source": [
    "s = so['commentcount']\n",
    "s.head()"
   ]
  },
  {
   "cell_type": "markdown",
   "metadata": {
    "colab_type": "text",
    "id": "OsWFJuveU2gy"
   },
   "source": [
    "Let's test for number of comments greater than 10"
   ]
  },
  {
   "cell_type": "code",
   "execution_count": 106,
   "metadata": {
    "colab": {
     "base_uri": "https://localhost:8080/",
     "height": 119
    },
    "colab_type": "code",
    "executionInfo": {
     "elapsed": 679,
     "status": "ok",
     "timestamp": 1566296197976,
     "user": {
      "displayName": "Ai Adventures",
      "photoUrl": "https://lh3.googleusercontent.com/-OQdAjp2vMZo/AAAAAAAAAAI/AAAAAAAAAA8/8FVq41kVT5s/s64/photo.jpg",
      "userId": "14635366068755244481"
     },
     "user_tz": -330
    },
    "id": "P-lN0IOYU2gz",
    "outputId": "934a8677-63cd-45d0-ef12-b06b52cd13c7"
   },
   "outputs": [
    {
     "data": {
      "text/plain": [
       "0    False\n",
       "1    False\n",
       "2    False\n",
       "3    False\n",
       "4    False\n",
       "Name: commentcount, dtype: bool"
      ]
     },
     "execution_count": 106,
     "metadata": {},
     "output_type": "execute_result"
    }
   ],
   "source": [
    "criteria = s > 10\n",
    "criteria.head()"
   ]
  },
  {
   "cell_type": "markdown",
   "metadata": {
    "colab_type": "text",
    "id": "__cCWbJFU2g0"
   },
   "source": [
    "Notice that there is no column selection here as we are already down to a single column. Let's pass this criteria to *[ ]* to select just the values greater than 10."
   ]
  },
  {
   "cell_type": "code",
   "execution_count": 107,
   "metadata": {
    "colab": {
     "base_uri": "https://localhost:8080/",
     "height": 119
    },
    "colab_type": "code",
    "executionInfo": {
     "elapsed": 667,
     "status": "ok",
     "timestamp": 1566296199544,
     "user": {
      "displayName": "Ai Adventures",
      "photoUrl": "https://lh3.googleusercontent.com/-OQdAjp2vMZo/AAAAAAAAAAI/AAAAAAAAAA8/8FVq41kVT5s/s64/photo.jpg",
      "userId": "14635366068755244481"
     },
     "user_tz": -330
    },
    "id": "sKi3hQxKU2g1",
    "outputId": "51247769-d241-49a3-9111-6f3417d88d50"
   },
   "outputs": [
    {
     "data": {
      "text/plain": [
       "17     16\n",
       "76     14\n",
       "566    11\n",
       "763    12\n",
       "781    19\n",
       "Name: commentcount, dtype: int64"
      ]
     },
     "execution_count": 107,
     "metadata": {},
     "output_type": "execute_result"
    }
   ],
   "source": [
    "s[criteria].head()"
   ]
  },
  {
   "cell_type": "markdown",
   "metadata": {
    "colab_type": "text",
    "id": "tEkav8HRU2g2"
   },
   "source": [
    "We could have done this in one step like this"
   ]
  },
  {
   "cell_type": "code",
   "execution_count": 108,
   "metadata": {
    "colab": {
     "base_uri": "https://localhost:8080/",
     "height": 119
    },
    "colab_type": "code",
    "executionInfo": {
     "elapsed": 1162,
     "status": "ok",
     "timestamp": 1566296202293,
     "user": {
      "displayName": "Ai Adventures",
      "photoUrl": "https://lh3.googleusercontent.com/-OQdAjp2vMZo/AAAAAAAAAAI/AAAAAAAAAA8/8FVq41kVT5s/s64/photo.jpg",
      "userId": "14635366068755244481"
     },
     "user_tz": -330
    },
    "id": "7ZMGgfnhU2g3",
    "outputId": "121e9e33-200e-4a62-aeaf-fe8b484fe0e5"
   },
   "outputs": [
    {
     "data": {
      "text/plain": [
       "17     16\n",
       "76     14\n",
       "566    11\n",
       "763    12\n",
       "781    19\n",
       "Name: commentcount, dtype: int64"
      ]
     },
     "execution_count": 108,
     "metadata": {},
     "output_type": "execute_result"
    }
   ],
   "source": [
    "s[s > 10].head()"
   ]
  },
  {
   "cell_type": "markdown",
   "metadata": {
    "colab_type": "text",
    "id": "zKKVvEGPU2g5"
   },
   "source": [
    "If we wanted to find those comments greater than 10 but less than 15 we could have used an **and** condition like this:"
   ]
  },
  {
   "cell_type": "code",
   "execution_count": 109,
   "metadata": {
    "colab": {
     "base_uri": "https://localhost:8080/",
     "height": 119
    },
    "colab_type": "code",
    "executionInfo": {
     "elapsed": 649,
     "status": "ok",
     "timestamp": 1566296203960,
     "user": {
      "displayName": "Ai Adventures",
      "photoUrl": "https://lh3.googleusercontent.com/-OQdAjp2vMZo/AAAAAAAAAAI/AAAAAAAAAA8/8FVq41kVT5s/s64/photo.jpg",
      "userId": "14635366068755244481"
     },
     "user_tz": -330
    },
    "id": "9ua6GKLiU2g5",
    "outputId": "20ad008b-e007-41c1-d73a-0f68d4c32329"
   },
   "outputs": [
    {
     "data": {
      "text/plain": [
       "76     14\n",
       "566    11\n",
       "763    12\n",
       "787    12\n",
       "837    13\n",
       "Name: commentcount, dtype: int64"
      ]
     },
     "execution_count": 109,
     "metadata": {},
     "output_type": "execute_result"
    }
   ],
   "source": [
    "s[(s > 10) & (s < 15)].head()"
   ]
  },
  {
   "cell_type": "markdown",
   "metadata": {
    "colab_type": "text",
    "id": "_Pa8Y5FaU2g8"
   },
   "source": [
    "#### Usage of `between()` method\n",
    "\n",
    "Pandas has lots of duplicate functionality built in to it. Instead of writing two boolean conditions to select all values inside of a range as was done above, you can use the `between()` method to create a boolean Series. To use, pass it the left and right end points of the range. These endpoints are inclusive.\n",
    "\n",
    "So, to replicate the previous example, you could have done this:"
   ]
  },
  {
   "cell_type": "code",
   "execution_count": 110,
   "metadata": {
    "colab": {
     "base_uri": "https://localhost:8080/",
     "height": 119
    },
    "colab_type": "code",
    "executionInfo": {
     "elapsed": 710,
     "status": "ok",
     "timestamp": 1566296205904,
     "user": {
      "displayName": "Ai Adventures",
      "photoUrl": "https://lh3.googleusercontent.com/-OQdAjp2vMZo/AAAAAAAAAAI/AAAAAAAAAA8/8FVq41kVT5s/s64/photo.jpg",
      "userId": "14635366068755244481"
     },
     "user_tz": -330
    },
    "id": "mQuTZLl3U2g9",
    "outputId": "ef0a3d26-619d-4a10-91c4-7ef52f08e832"
   },
   "outputs": [
    {
     "data": {
      "text/plain": [
       "76     14\n",
       "566    11\n",
       "763    12\n",
       "787    12\n",
       "837    13\n",
       "Name: commentcount, dtype: int64"
      ]
     },
     "execution_count": 110,
     "metadata": {},
     "output_type": "execute_result"
    }
   ],
   "source": [
    "# instead of 's[(s>= 11) & (s<=14)]' you can use 'between()'\n",
    "s[s.between(11, 14)].head()"
   ]
  },
  {
   "cell_type": "markdown",
   "metadata": {
    "colab_type": "text",
    "id": "th8vX-qOU2hB"
   },
   "source": [
    "## Boolean selection with `.loc`\n",
    "\n",
    "Remember that `.loc` takes both a row selection and a column selection separated by a comma. Since the row selection comes first, you can pass it the same exact inputs that you do for `[ ]` and get the same results.\n",
    "\n",
    "Let's take a look at a couple examples from above:"
   ]
  },
  {
   "cell_type": "code",
   "execution_count": 111,
   "metadata": {
    "colab": {
     "base_uri": "https://localhost:8080/",
     "height": 289
    },
    "colab_type": "code",
    "executionInfo": {
     "elapsed": 1457,
     "status": "ok",
     "timestamp": 1566296208633,
     "user": {
      "displayName": "Ai Adventures",
      "photoUrl": "https://lh3.googleusercontent.com/-OQdAjp2vMZo/AAAAAAAAAAI/AAAAAAAAAA8/8FVq41kVT5s/s64/photo.jpg",
      "userId": "14635366068755244481"
     },
     "user_tz": -330
    },
    "id": "1t_5WDCCU2hC",
    "outputId": "ffc9f30c-afd3-4619-c1b2-a39c924c0c35"
   },
   "outputs": [
    {
     "data": {
      "text/html": [
       "<div>\n",
       "<style scoped>\n",
       "    .dataframe tbody tr th:only-of-type {\n",
       "        vertical-align: middle;\n",
       "    }\n",
       "\n",
       "    .dataframe tbody tr th {\n",
       "        vertical-align: top;\n",
       "    }\n",
       "\n",
       "    .dataframe thead th {\n",
       "        text-align: right;\n",
       "    }\n",
       "</style>\n",
       "<table border=\"1\" class=\"dataframe\">\n",
       "  <thead>\n",
       "    <tr style=\"text-align: right;\">\n",
       "      <th></th>\n",
       "      <th>id</th>\n",
       "      <th>creationdate</th>\n",
       "      <th>score</th>\n",
       "      <th>viewcount</th>\n",
       "      <th>title</th>\n",
       "      <th>answercount</th>\n",
       "      <th>commentcount</th>\n",
       "      <th>favoritecount</th>\n",
       "      <th>quest_name</th>\n",
       "      <th>quest_rep</th>\n",
       "      <th>ans_name</th>\n",
       "      <th>ans_rep</th>\n",
       "    </tr>\n",
       "  </thead>\n",
       "  <tbody>\n",
       "    <tr>\n",
       "      <th>38246</th>\n",
       "      <td>43209525</td>\n",
       "      <td>2017-04-04 14:03:17</td>\n",
       "      <td>5</td>\n",
       "      <td>131</td>\n",
       "      <td>Pandas: Optimal way to MultiIndex columns</td>\n",
       "      <td>2</td>\n",
       "      <td>0</td>\n",
       "      <td>0.0</td>\n",
       "      <td>sparc_spread</td>\n",
       "      <td>5470.0</td>\n",
       "      <td>Scott Boston</td>\n",
       "      <td>23611.0</td>\n",
       "    </tr>\n",
       "    <tr>\n",
       "      <th>38640</th>\n",
       "      <td>42870703</td>\n",
       "      <td>2017-03-18 05:06:22</td>\n",
       "      <td>5</td>\n",
       "      <td>125</td>\n",
       "      <td>Simultaneous operation of groupby and resample...</td>\n",
       "      <td>1</td>\n",
       "      <td>0</td>\n",
       "      <td>1.0</td>\n",
       "      <td>S. Naribole</td>\n",
       "      <td>43.0</td>\n",
       "      <td>Scott Boston</td>\n",
       "      <td>23611.0</td>\n",
       "    </tr>\n",
       "    <tr>\n",
       "      <th>44358</th>\n",
       "      <td>45064916</td>\n",
       "      <td>2017-07-12 18:16:49</td>\n",
       "      <td>5</td>\n",
       "      <td>428</td>\n",
       "      <td>How to find the correlation between a group of...</td>\n",
       "      <td>2</td>\n",
       "      <td>5</td>\n",
       "      <td>NaN</td>\n",
       "      <td>BKS</td>\n",
       "      <td>506.0</td>\n",
       "      <td>Scott Boston</td>\n",
       "      <td>23611.0</td>\n",
       "    </tr>\n",
       "    <tr>\n",
       "      <th>44814</th>\n",
       "      <td>44877663</td>\n",
       "      <td>2017-07-03 04:07:59</td>\n",
       "      <td>9</td>\n",
       "      <td>1267</td>\n",
       "      <td>Error: float object has no attribute notnull</td>\n",
       "      <td>3</td>\n",
       "      <td>2</td>\n",
       "      <td>1.0</td>\n",
       "      <td>Vivian  Tio</td>\n",
       "      <td>181.0</td>\n",
       "      <td>Scott Boston</td>\n",
       "      <td>23611.0</td>\n",
       "    </tr>\n",
       "    <tr>\n",
       "      <th>52013</th>\n",
       "      <td>47061564</td>\n",
       "      <td>2017-11-01 18:40:36</td>\n",
       "      <td>5</td>\n",
       "      <td>60</td>\n",
       "      <td>How to create strings from dataframe columns e...</td>\n",
       "      <td>5</td>\n",
       "      <td>0</td>\n",
       "      <td>NaN</td>\n",
       "      <td>hernanavella</td>\n",
       "      <td>1890.0</td>\n",
       "      <td>Scott Boston</td>\n",
       "      <td>23611.0</td>\n",
       "    </tr>\n",
       "  </tbody>\n",
       "</table>\n",
       "</div>"
      ],
      "text/plain": [
       "             id         creationdate  score  viewcount  \\\n",
       "38246  43209525  2017-04-04 14:03:17      5        131   \n",
       "38640  42870703  2017-03-18 05:06:22      5        125   \n",
       "44358  45064916  2017-07-12 18:16:49      5        428   \n",
       "44814  44877663  2017-07-03 04:07:59      9       1267   \n",
       "52013  47061564  2017-11-01 18:40:36      5         60   \n",
       "\n",
       "                                                   title  answercount  \\\n",
       "38246          Pandas: Optimal way to MultiIndex columns            2   \n",
       "38640  Simultaneous operation of groupby and resample...            1   \n",
       "44358  How to find the correlation between a group of...            2   \n",
       "44814       Error: float object has no attribute notnull            3   \n",
       "52013  How to create strings from dataframe columns e...            5   \n",
       "\n",
       "       commentcount  favoritecount    quest_name  quest_rep      ans_name  \\\n",
       "38246             0            0.0  sparc_spread     5470.0  Scott Boston   \n",
       "38640             0            1.0   S. Naribole       43.0  Scott Boston   \n",
       "44358             5            NaN           BKS      506.0  Scott Boston   \n",
       "44814             2            1.0   Vivian  Tio      181.0  Scott Boston   \n",
       "52013             0            NaN  hernanavella     1890.0  Scott Boston   \n",
       "\n",
       "       ans_rep  \n",
       "38246  23611.0  \n",
       "38640  23611.0  \n",
       "44358  23611.0  \n",
       "44814  23611.0  \n",
       "52013  23611.0  "
      ]
     },
     "execution_count": 111,
     "metadata": {},
     "output_type": "execute_result"
    }
   ],
   "source": [
    "# same as above\n",
    "so.loc[(so['score'] >= 5) & (so['ans_name'] == 'Scott Boston')].head()"
   ]
  },
  {
   "cell_type": "code",
   "execution_count": 112,
   "metadata": {
    "colab": {
     "base_uri": "https://localhost:8080/",
     "height": 289
    },
    "colab_type": "code",
    "executionInfo": {
     "elapsed": 913,
     "status": "ok",
     "timestamp": 1566296210161,
     "user": {
      "displayName": "Ai Adventures",
      "photoUrl": "https://lh3.googleusercontent.com/-OQdAjp2vMZo/AAAAAAAAAAI/AAAAAAAAAA8/8FVq41kVT5s/s64/photo.jpg",
      "userId": "14635366068755244481"
     },
     "user_tz": -330
    },
    "id": "nac-5DweU2hG",
    "outputId": "51736cf9-a56e-411c-c717-c6b768b9113a"
   },
   "outputs": [
    {
     "data": {
      "text/html": [
       "<div>\n",
       "<style scoped>\n",
       "    .dataframe tbody tr th:only-of-type {\n",
       "        vertical-align: middle;\n",
       "    }\n",
       "\n",
       "    .dataframe tbody tr th {\n",
       "        vertical-align: top;\n",
       "    }\n",
       "\n",
       "    .dataframe thead th {\n",
       "        text-align: right;\n",
       "    }\n",
       "</style>\n",
       "<table border=\"1\" class=\"dataframe\">\n",
       "  <thead>\n",
       "    <tr style=\"text-align: right;\">\n",
       "      <th></th>\n",
       "      <th>id</th>\n",
       "      <th>creationdate</th>\n",
       "      <th>score</th>\n",
       "      <th>viewcount</th>\n",
       "      <th>title</th>\n",
       "      <th>answercount</th>\n",
       "      <th>commentcount</th>\n",
       "      <th>favoritecount</th>\n",
       "      <th>quest_name</th>\n",
       "      <th>quest_rep</th>\n",
       "      <th>ans_name</th>\n",
       "      <th>ans_rep</th>\n",
       "    </tr>\n",
       "  </thead>\n",
       "  <tbody>\n",
       "    <tr>\n",
       "      <th>100</th>\n",
       "      <td>10665889</td>\n",
       "      <td>2012-05-19 14:11:42</td>\n",
       "      <td>144</td>\n",
       "      <td>179896</td>\n",
       "      <td>How to take column-slices of dataframe in pandas</td>\n",
       "      <td>7</td>\n",
       "      <td>3</td>\n",
       "      <td>65.0</td>\n",
       "      <td>cpa</td>\n",
       "      <td>988.0</td>\n",
       "      <td>Ted Petrou</td>\n",
       "      <td>10426.0</td>\n",
       "    </tr>\n",
       "    <tr>\n",
       "      <th>574</th>\n",
       "      <td>13385860</td>\n",
       "      <td>2012-11-14 19:25:28</td>\n",
       "      <td>29</td>\n",
       "      <td>31712</td>\n",
       "      <td>How can I remove extra whitespace from strings...</td>\n",
       "      <td>6</td>\n",
       "      <td>0</td>\n",
       "      <td>17.0</td>\n",
       "      <td>mpjan</td>\n",
       "      <td>530.0</td>\n",
       "      <td>unutbu</td>\n",
       "      <td>464745.0</td>\n",
       "    </tr>\n",
       "    <tr>\n",
       "      <th>593</th>\n",
       "      <td>13446480</td>\n",
       "      <td>2012-11-19 01:20:07</td>\n",
       "      <td>18</td>\n",
       "      <td>7969</td>\n",
       "      <td>Python Pandas: remove entries based on the num...</td>\n",
       "      <td>4</td>\n",
       "      <td>1</td>\n",
       "      <td>7.0</td>\n",
       "      <td>sashkello</td>\n",
       "      <td>8714.0</td>\n",
       "      <td>unutbu</td>\n",
       "      <td>464745.0</td>\n",
       "    </tr>\n",
       "    <tr>\n",
       "      <th>599</th>\n",
       "      <td>13460889</td>\n",
       "      <td>2012-11-19 19:39:06</td>\n",
       "      <td>8</td>\n",
       "      <td>3168</td>\n",
       "      <td>How to redirect all methods of a contained cla...</td>\n",
       "      <td>2</td>\n",
       "      <td>4</td>\n",
       "      <td>5.0</td>\n",
       "      <td>Yariv</td>\n",
       "      <td>5013.0</td>\n",
       "      <td>unutbu</td>\n",
       "      <td>464745.0</td>\n",
       "    </tr>\n",
       "    <tr>\n",
       "      <th>639</th>\n",
       "      <td>13653030</td>\n",
       "      <td>2012-11-30 20:54:35</td>\n",
       "      <td>6</td>\n",
       "      <td>11798</td>\n",
       "      <td>How do I Pass a List of Series to a Pandas Dat...</td>\n",
       "      <td>5</td>\n",
       "      <td>1</td>\n",
       "      <td>1.0</td>\n",
       "      <td>rhaskett</td>\n",
       "      <td>323.0</td>\n",
       "      <td>unutbu</td>\n",
       "      <td>464745.0</td>\n",
       "    </tr>\n",
       "  </tbody>\n",
       "</table>\n",
       "</div>"
      ],
      "text/plain": [
       "           id         creationdate  score  viewcount  \\\n",
       "100  10665889  2012-05-19 14:11:42    144     179896   \n",
       "574  13385860  2012-11-14 19:25:28     29      31712   \n",
       "593  13446480  2012-11-19 01:20:07     18       7969   \n",
       "599  13460889  2012-11-19 19:39:06      8       3168   \n",
       "639  13653030  2012-11-30 20:54:35      6      11798   \n",
       "\n",
       "                                                 title  answercount  \\\n",
       "100   How to take column-slices of dataframe in pandas            7   \n",
       "574  How can I remove extra whitespace from strings...            6   \n",
       "593  Python Pandas: remove entries based on the num...            4   \n",
       "599  How to redirect all methods of a contained cla...            2   \n",
       "639  How do I Pass a List of Series to a Pandas Dat...            5   \n",
       "\n",
       "     commentcount  favoritecount quest_name  quest_rep    ans_name   ans_rep  \n",
       "100             3           65.0        cpa      988.0  Ted Petrou   10426.0  \n",
       "574             0           17.0      mpjan      530.0      unutbu  464745.0  \n",
       "593             1            7.0  sashkello     8714.0      unutbu  464745.0  \n",
       "599             4            5.0      Yariv     5013.0      unutbu  464745.0  \n",
       "639             1            1.0   rhaskett      323.0      unutbu  464745.0  "
      ]
     },
     "execution_count": 112,
     "metadata": {},
     "output_type": "execute_result"
    }
   ],
   "source": [
    "# same as above\n",
    "criteria = so['ans_name'].isin(['Scott Boston', 'Ted Petrou', 'MaxU', 'unutbu'])\n",
    "so.loc[criteria].head()"
   ]
  },
  {
   "cell_type": "markdown",
   "metadata": {
    "colab_type": "text",
    "id": "9Eh8I04ZU2hM"
   },
   "source": [
    "#### Separate row & column selection \n",
    "\n",
    "The great benefit of `.loc` is that it allows you to simultaneously do boolean selection along the rows and make column selections by label.\n",
    "\n",
    "For instance, let's say we wanted to find all the questions with more than 20k views but only return the **creationdate**, **viewcount**, and **ans_name** columns. You would do the following."
   ]
  },
  {
   "cell_type": "code",
   "execution_count": 113,
   "metadata": {
    "colab": {
     "base_uri": "https://localhost:8080/",
     "height": 359
    },
    "colab_type": "code",
    "executionInfo": {
     "elapsed": 951,
     "status": "ok",
     "timestamp": 1566296211501,
     "user": {
      "displayName": "Ai Adventures",
      "photoUrl": "https://lh3.googleusercontent.com/-OQdAjp2vMZo/AAAAAAAAAAI/AAAAAAAAAA8/8FVq41kVT5s/s64/photo.jpg",
      "userId": "14635366068755244481"
     },
     "user_tz": -330
    },
    "id": "3-5n-QzBU2hN",
    "outputId": "34b4ef2d-9732-4ce9-b776-19089f806afa"
   },
   "outputs": [
    {
     "data": {
      "text/html": [
       "<div>\n",
       "<style scoped>\n",
       "    .dataframe tbody tr th:only-of-type {\n",
       "        vertical-align: middle;\n",
       "    }\n",
       "\n",
       "    .dataframe tbody tr th {\n",
       "        vertical-align: top;\n",
       "    }\n",
       "\n",
       "    .dataframe thead th {\n",
       "        text-align: right;\n",
       "    }\n",
       "</style>\n",
       "<table border=\"1\" class=\"dataframe\">\n",
       "  <thead>\n",
       "    <tr style=\"text-align: right;\">\n",
       "      <th></th>\n",
       "      <th>creationdate</th>\n",
       "      <th>viewcount</th>\n",
       "      <th>ans_name</th>\n",
       "    </tr>\n",
       "  </thead>\n",
       "  <tbody>\n",
       "    <tr>\n",
       "      <th>6</th>\n",
       "      <td>2011-10-15 08:21:17</td>\n",
       "      <td>28159</td>\n",
       "      <td>Wes McKinney</td>\n",
       "    </tr>\n",
       "    <tr>\n",
       "      <th>8</th>\n",
       "      <td>2011-10-20 14:46:14</td>\n",
       "      <td>223746</td>\n",
       "      <td>Nick Crawford</td>\n",
       "    </tr>\n",
       "    <tr>\n",
       "      <th>14</th>\n",
       "      <td>2012-01-18 19:41:27</td>\n",
       "      <td>20614</td>\n",
       "      <td>Wes McKinney</td>\n",
       "    </tr>\n",
       "    <tr>\n",
       "      <th>31</th>\n",
       "      <td>2012-03-11 06:00:56</td>\n",
       "      <td>39323</td>\n",
       "      <td>huon</td>\n",
       "    </tr>\n",
       "    <tr>\n",
       "      <th>35</th>\n",
       "      <td>2012-03-18 12:53:06</td>\n",
       "      <td>43262</td>\n",
       "      <td>Wes McKinney</td>\n",
       "    </tr>\n",
       "    <tr>\n",
       "      <th>58</th>\n",
       "      <td>2012-04-04 23:17:23</td>\n",
       "      <td>20171</td>\n",
       "      <td>bmu</td>\n",
       "    </tr>\n",
       "    <tr>\n",
       "      <th>60</th>\n",
       "      <td>2012-04-08 18:01:13</td>\n",
       "      <td>77902</td>\n",
       "      <td>NaN</td>\n",
       "    </tr>\n",
       "    <tr>\n",
       "      <th>71</th>\n",
       "      <td>2012-04-18 03:59:55</td>\n",
       "      <td>88115</td>\n",
       "      <td>ely</td>\n",
       "    </tr>\n",
       "    <tr>\n",
       "      <th>75</th>\n",
       "      <td>2012-04-29 16:10:35</td>\n",
       "      <td>207980</td>\n",
       "      <td>Wes McKinney</td>\n",
       "    </tr>\n",
       "    <tr>\n",
       "      <th>76</th>\n",
       "      <td>2012-04-29 22:41:28</td>\n",
       "      <td>26110</td>\n",
       "      <td>andrew cooke</td>\n",
       "    </tr>\n",
       "  </tbody>\n",
       "</table>\n",
       "</div>"
      ],
      "text/plain": [
       "           creationdate  viewcount       ans_name\n",
       "6   2011-10-15 08:21:17      28159   Wes McKinney\n",
       "8   2011-10-20 14:46:14     223746  Nick Crawford\n",
       "14  2012-01-18 19:41:27      20614   Wes McKinney\n",
       "31  2012-03-11 06:00:56      39323           huon\n",
       "35  2012-03-18 12:53:06      43262   Wes McKinney\n",
       "58  2012-04-04 23:17:23      20171            bmu\n",
       "60  2012-04-08 18:01:13      77902            NaN\n",
       "71  2012-04-18 03:59:55      88115            ely\n",
       "75  2012-04-29 16:10:35     207980   Wes McKinney\n",
       "76  2012-04-29 22:41:28      26110   andrew cooke"
      ]
     },
     "execution_count": 113,
     "metadata": {},
     "output_type": "execute_result"
    }
   ],
   "source": [
    "so.loc[so['viewcount'] > 20000, ['creationdate', 'viewcount','ans_name']].head(10)"
   ]
  },
  {
   "cell_type": "markdown",
   "metadata": {
    "colab_type": "text",
    "id": "DZaBKSZ3U2hP"
   },
   "source": [
    "You could have broken each selection into pieces like this:\n",
    "\n",
    "```{code-block}python\n",
    "\n",
    "row_selection = so['viewcount'] > 20000\n",
    "col_selection = ['creationdate', 'viewcount', 'ans_name']\n",
    "so.loc[row_selection, col_selection]\n",
    "```"
   ]
  },
  {
   "cell_type": "markdown",
   "metadata": {
    "colab_type": "text",
    "id": "Cfw1mukgU2hP"
   },
   "source": [
    "#### Combinations with `.loc`\n",
    "\n",
    "Remember that **`.loc`** can take a string, a list of strings or a slice. You can use all three possible ways to select your data. You can also make very complex boolean selections for your rows.\n",
    "\n",
    "Let's select rows with **favoritecount** between 30 and 40 and every third column beginning from **title** to the end."
   ]
  },
  {
   "cell_type": "code",
   "execution_count": 114,
   "metadata": {
    "colab": {
     "base_uri": "https://localhost:8080/",
     "height": 204
    },
    "colab_type": "code",
    "executionInfo": {
     "elapsed": 1035,
     "status": "ok",
     "timestamp": 1566296215528,
     "user": {
      "displayName": "Ai Adventures",
      "photoUrl": "https://lh3.googleusercontent.com/-OQdAjp2vMZo/AAAAAAAAAAI/AAAAAAAAAA8/8FVq41kVT5s/s64/photo.jpg",
      "userId": "14635366068755244481"
     },
     "user_tz": -330
    },
    "id": "cLPLvgvBU2hQ",
    "outputId": "f7b280a7-1196-4b71-bd5f-0443ce068e55"
   },
   "outputs": [
    {
     "data": {
      "text/html": [
       "<div>\n",
       "<style scoped>\n",
       "    .dataframe tbody tr th:only-of-type {\n",
       "        vertical-align: middle;\n",
       "    }\n",
       "\n",
       "    .dataframe tbody tr th {\n",
       "        vertical-align: top;\n",
       "    }\n",
       "\n",
       "    .dataframe thead th {\n",
       "        text-align: right;\n",
       "    }\n",
       "</style>\n",
       "<table border=\"1\" class=\"dataframe\">\n",
       "  <thead>\n",
       "    <tr style=\"text-align: right;\">\n",
       "      <th></th>\n",
       "      <th>title</th>\n",
       "      <th>favoritecount</th>\n",
       "      <th>ans_name</th>\n",
       "    </tr>\n",
       "  </thead>\n",
       "  <tbody>\n",
       "    <tr>\n",
       "      <th>348</th>\n",
       "      <td>Pandas: create two new columns in a dataframe ...</td>\n",
       "      <td>39.0</td>\n",
       "      <td>DSM</td>\n",
       "    </tr>\n",
       "    <tr>\n",
       "      <th>555</th>\n",
       "      <td>How can I replace all the NaN values with Zero...</td>\n",
       "      <td>39.0</td>\n",
       "      <td>Aman</td>\n",
       "    </tr>\n",
       "    <tr>\n",
       "      <th>643</th>\n",
       "      <td>Pandas DataFrame: remove unwanted parts from s...</td>\n",
       "      <td>31.0</td>\n",
       "      <td>eumiro</td>\n",
       "    </tr>\n",
       "    <tr>\n",
       "      <th>667</th>\n",
       "      <td>Creating an empty Pandas DataFrame, then filli...</td>\n",
       "      <td>40.0</td>\n",
       "      <td>Andy Hayden</td>\n",
       "    </tr>\n",
       "    <tr>\n",
       "      <th>892</th>\n",
       "      <td>Apply multiple functions to multiple groupby c...</td>\n",
       "      <td>35.0</td>\n",
       "      <td>Zelazny7</td>\n",
       "    </tr>\n",
       "  </tbody>\n",
       "</table>\n",
       "</div>"
      ],
      "text/plain": [
       "                                                 title  favoritecount  \\\n",
       "348  Pandas: create two new columns in a dataframe ...           39.0   \n",
       "555  How can I replace all the NaN values with Zero...           39.0   \n",
       "643  Pandas DataFrame: remove unwanted parts from s...           31.0   \n",
       "667  Creating an empty Pandas DataFrame, then filli...           40.0   \n",
       "892  Apply multiple functions to multiple groupby c...           35.0   \n",
       "\n",
       "        ans_name  \n",
       "348          DSM  \n",
       "555         Aman  \n",
       "643       eumiro  \n",
       "667  Andy Hayden  \n",
       "892     Zelazny7  "
      ]
     },
     "execution_count": 114,
     "metadata": {},
     "output_type": "execute_result"
    }
   ],
   "source": [
    "# weird but possible\n",
    "so.loc[so.loc[:, 'favoritecount'].between(30, 40),'title'::3].head()"
   ]
  },
  {
   "cell_type": "markdown",
   "metadata": {
    "colab_type": "text",
    "id": "Rt__mcsdU2hR"
   },
   "source": [
    "#### Boolean selection on columns?\n",
    "\n",
    "It is actually possible to use a sequence of booleans to select columns. You pass a list, Series, or array of booleans the same length as the number of columns to `.loc`.\n",
    "\n",
    "Let's do a simple manual example where we create a list of booleans by hand. First, let's find out how many columns are in our dataset"
   ]
  },
  {
   "cell_type": "code",
   "execution_count": 115,
   "metadata": {
    "colab": {
     "base_uri": "https://localhost:8080/",
     "height": 34
    },
    "colab_type": "code",
    "executionInfo": {
     "elapsed": 1277,
     "status": "ok",
     "timestamp": 1566296218439,
     "user": {
      "displayName": "Ai Adventures",
      "photoUrl": "https://lh3.googleusercontent.com/-OQdAjp2vMZo/AAAAAAAAAAI/AAAAAAAAAA8/8FVq41kVT5s/s64/photo.jpg",
      "userId": "14635366068755244481"
     },
     "user_tz": -330
    },
    "id": "_cu-L4JPU2hT",
    "outputId": "af7549b1-e34a-41eb-9605-99bd85e37c6f"
   },
   "outputs": [
    {
     "data": {
      "text/plain": [
       "(56398, 12)"
      ]
     },
     "execution_count": 115,
     "metadata": {},
     "output_type": "execute_result"
    }
   ],
   "source": [
    "so.shape"
   ]
  },
  {
   "cell_type": "markdown",
   "metadata": {
    "colab_type": "text",
    "id": "i1xUbYYPU2hV"
   },
   "source": [
    "Let's create a list of 12 booleans"
   ]
  },
  {
   "cell_type": "code",
   "execution_count": 116,
   "metadata": {
    "colab": {
     "base_uri": "https://localhost:8080/",
     "height": 221
    },
    "colab_type": "code",
    "executionInfo": {
     "elapsed": 1309,
     "status": "ok",
     "timestamp": 1566296221948,
     "user": {
      "displayName": "Ai Adventures",
      "photoUrl": "https://lh3.googleusercontent.com/-OQdAjp2vMZo/AAAAAAAAAAI/AAAAAAAAAA8/8FVq41kVT5s/s64/photo.jpg",
      "userId": "14635366068755244481"
     },
     "user_tz": -330
    },
    "id": "CiJWE1edU2hV",
    "outputId": "d010727c-d798-40df-9e73-64fe097a0874"
   },
   "outputs": [
    {
     "data": {
      "text/plain": [
       "[True,\n",
       " False,\n",
       " False,\n",
       " True,\n",
       " False,\n",
       " False,\n",
       " True,\n",
       " False,\n",
       " False,\n",
       " True,\n",
       " False,\n",
       " False]"
      ]
     },
     "execution_count": 116,
     "metadata": {},
     "output_type": "execute_result"
    }
   ],
   "source": [
    "col_bools = [True, False, False] * 4\n",
    "col_bools"
   ]
  },
  {
   "cell_type": "markdown",
   "metadata": {
    "colab_type": "text",
    "id": "AS4P8stiU2hX"
   },
   "source": [
    "Use **`.loc`** to select all rows with just the *True* columns from **col_bools**."
   ]
  },
  {
   "cell_type": "code",
   "execution_count": 117,
   "metadata": {
    "colab": {
     "base_uri": "https://localhost:8080/",
     "height": 204
    },
    "colab_type": "code",
    "executionInfo": {
     "elapsed": 1124,
     "status": "ok",
     "timestamp": 1566296279187,
     "user": {
      "displayName": "Ai Adventures",
      "photoUrl": "https://lh3.googleusercontent.com/-OQdAjp2vMZo/AAAAAAAAAAI/AAAAAAAAAA8/8FVq41kVT5s/s64/photo.jpg",
      "userId": "14635366068755244481"
     },
     "user_tz": -330
    },
    "id": "r8k-SUJtU2hY",
    "outputId": "51a8b08f-528e-4164-f6b1-2fe29e854668"
   },
   "outputs": [
    {
     "data": {
      "text/html": [
       "<div>\n",
       "<style scoped>\n",
       "    .dataframe tbody tr th:only-of-type {\n",
       "        vertical-align: middle;\n",
       "    }\n",
       "\n",
       "    .dataframe tbody tr th {\n",
       "        vertical-align: top;\n",
       "    }\n",
       "\n",
       "    .dataframe thead th {\n",
       "        text-align: right;\n",
       "    }\n",
       "</style>\n",
       "<table border=\"1\" class=\"dataframe\">\n",
       "  <thead>\n",
       "    <tr style=\"text-align: right;\">\n",
       "      <th></th>\n",
       "      <th>id</th>\n",
       "      <th>viewcount</th>\n",
       "      <th>commentcount</th>\n",
       "      <th>quest_rep</th>\n",
       "    </tr>\n",
       "  </thead>\n",
       "  <tbody>\n",
       "    <tr>\n",
       "      <th>0</th>\n",
       "      <td>5486226</td>\n",
       "      <td>2113</td>\n",
       "      <td>4</td>\n",
       "      <td>125.0</td>\n",
       "    </tr>\n",
       "    <tr>\n",
       "      <th>1</th>\n",
       "      <td>5515021</td>\n",
       "      <td>7015</td>\n",
       "      <td>6</td>\n",
       "      <td>3301.0</td>\n",
       "    </tr>\n",
       "    <tr>\n",
       "      <th>2</th>\n",
       "      <td>5558607</td>\n",
       "      <td>7392</td>\n",
       "      <td>0</td>\n",
       "      <td>3301.0</td>\n",
       "    </tr>\n",
       "    <tr>\n",
       "      <th>3</th>\n",
       "      <td>6467832</td>\n",
       "      <td>13056</td>\n",
       "      <td>0</td>\n",
       "      <td>117.0</td>\n",
       "    </tr>\n",
       "    <tr>\n",
       "      <th>4</th>\n",
       "      <td>7577546</td>\n",
       "      <td>2488</td>\n",
       "      <td>0</td>\n",
       "      <td>958.0</td>\n",
       "    </tr>\n",
       "  </tbody>\n",
       "</table>\n",
       "</div>"
      ],
      "text/plain": [
       "        id  viewcount  commentcount  quest_rep\n",
       "0  5486226       2113             4      125.0\n",
       "1  5515021       7015             6     3301.0\n",
       "2  5558607       7392             0     3301.0\n",
       "3  6467832      13056             0      117.0\n",
       "4  7577546       2488             0      958.0"
      ]
     },
     "execution_count": 117,
     "metadata": {},
     "output_type": "execute_result"
    }
   ],
   "source": [
    "so.loc[:, col_bools].head()"
   ]
  },
  {
   "cell_type": "markdown",
   "metadata": {
    "colab_type": "text",
    "id": "QSrALVWCU2hZ"
   },
   "source": [
    "You can simultaneously select rows and columns too. Let's select the same columns but for rows that have over *500,000* views."
   ]
  },
  {
   "cell_type": "code",
   "execution_count": 118,
   "metadata": {
    "colab": {
     "base_uri": "https://localhost:8080/",
     "height": 235
    },
    "colab_type": "code",
    "executionInfo": {
     "elapsed": 1310,
     "status": "ok",
     "timestamp": 1566296288568,
     "user": {
      "displayName": "Ai Adventures",
      "photoUrl": "https://lh3.googleusercontent.com/-OQdAjp2vMZo/AAAAAAAAAAI/AAAAAAAAAA8/8FVq41kVT5s/s64/photo.jpg",
      "userId": "14635366068755244481"
     },
     "user_tz": -330
    },
    "id": "Ij6Cz_I9U2ha",
    "outputId": "1089a3ad-1404-42e9-d08e-f7659e4ec5ff"
   },
   "outputs": [
    {
     "data": {
      "text/html": [
       "<div>\n",
       "<style scoped>\n",
       "    .dataframe tbody tr th:only-of-type {\n",
       "        vertical-align: middle;\n",
       "    }\n",
       "\n",
       "    .dataframe tbody tr th {\n",
       "        vertical-align: top;\n",
       "    }\n",
       "\n",
       "    .dataframe thead th {\n",
       "        text-align: right;\n",
       "    }\n",
       "</style>\n",
       "<table border=\"1\" class=\"dataframe\">\n",
       "  <thead>\n",
       "    <tr style=\"text-align: right;\">\n",
       "      <th></th>\n",
       "      <th>id</th>\n",
       "      <th>viewcount</th>\n",
       "      <th>commentcount</th>\n",
       "      <th>quest_rep</th>\n",
       "    </tr>\n",
       "  </thead>\n",
       "  <tbody>\n",
       "    <tr>\n",
       "      <th>171</th>\n",
       "      <td>11285613</td>\n",
       "      <td>526432</td>\n",
       "      <td>4</td>\n",
       "      <td>3369.0</td>\n",
       "    </tr>\n",
       "    <tr>\n",
       "      <th>181</th>\n",
       "      <td>11346283</td>\n",
       "      <td>931604</td>\n",
       "      <td>1</td>\n",
       "      <td>4206.0</td>\n",
       "    </tr>\n",
       "    <tr>\n",
       "      <th>397</th>\n",
       "      <td>12555323</td>\n",
       "      <td>698537</td>\n",
       "      <td>0</td>\n",
       "      <td>2920.0</td>\n",
       "    </tr>\n",
       "    <tr>\n",
       "      <th>581</th>\n",
       "      <td>13411544</td>\n",
       "      <td>802655</td>\n",
       "      <td>0</td>\n",
       "      <td>8807.0</td>\n",
       "    </tr>\n",
       "    <tr>\n",
       "      <th>1253</th>\n",
       "      <td>17071871</td>\n",
       "      <td>549481</td>\n",
       "      <td>0</td>\n",
       "      <td>3374.0</td>\n",
       "    </tr>\n",
       "    <tr>\n",
       "      <th>4587</th>\n",
       "      <td>19482970</td>\n",
       "      <td>541299</td>\n",
       "      <td>1</td>\n",
       "      <td>3483.0</td>\n",
       "    </tr>\n",
       "  </tbody>\n",
       "</table>\n",
       "</div>"
      ],
      "text/plain": [
       "            id  viewcount  commentcount  quest_rep\n",
       "171   11285613     526432             4     3369.0\n",
       "181   11346283     931604             1     4206.0\n",
       "397   12555323     698537             0     2920.0\n",
       "581   13411544     802655             0     8807.0\n",
       "1253  17071871     549481             0     3374.0\n",
       "4587  19482970     541299             1     3483.0"
      ]
     },
     "execution_count": 118,
     "metadata": {},
     "output_type": "execute_result"
    }
   ],
   "source": [
    "so.loc[so['viewcount'] > 500000, col_bools]"
   ]
  },
  {
   "cell_type": "markdown",
   "metadata": {
    "colab_type": "text",
    "id": "QGthIJsDU2he"
   },
   "source": [
    "#### Column to column comparisons\n",
    "All of the previous chapter comparisons happened against a single scalar value. It is possible to create a boolean Series by comparing one column to another. For instance, we can find all the questions where there are more answers than **score**."
   ]
  },
  {
   "cell_type": "code",
   "execution_count": 119,
   "metadata": {
    "colab": {
     "base_uri": "https://localhost:8080/",
     "height": 306
    },
    "colab_type": "code",
    "executionInfo": {
     "elapsed": 1209,
     "status": "ok",
     "timestamp": 1566296296051,
     "user": {
      "displayName": "Ai Adventures",
      "photoUrl": "https://lh3.googleusercontent.com/-OQdAjp2vMZo/AAAAAAAAAAI/AAAAAAAAAA8/8FVq41kVT5s/s64/photo.jpg",
      "userId": "14635366068755244481"
     },
     "user_tz": -330
    },
    "id": "wiKO9HjzU2he",
    "outputId": "dc3f77c4-0cc4-4fe1-a844-17d1987fb29a"
   },
   "outputs": [
    {
     "data": {
      "text/html": [
       "<div>\n",
       "<style scoped>\n",
       "    .dataframe tbody tr th:only-of-type {\n",
       "        vertical-align: middle;\n",
       "    }\n",
       "\n",
       "    .dataframe tbody tr th {\n",
       "        vertical-align: top;\n",
       "    }\n",
       "\n",
       "    .dataframe thead th {\n",
       "        text-align: right;\n",
       "    }\n",
       "</style>\n",
       "<table border=\"1\" class=\"dataframe\">\n",
       "  <thead>\n",
       "    <tr style=\"text-align: right;\">\n",
       "      <th></th>\n",
       "      <th>id</th>\n",
       "      <th>creationdate</th>\n",
       "      <th>score</th>\n",
       "      <th>viewcount</th>\n",
       "      <th>title</th>\n",
       "      <th>answercount</th>\n",
       "      <th>commentcount</th>\n",
       "      <th>favoritecount</th>\n",
       "      <th>quest_name</th>\n",
       "      <th>quest_rep</th>\n",
       "      <th>ans_name</th>\n",
       "      <th>ans_rep</th>\n",
       "    </tr>\n",
       "  </thead>\n",
       "  <tbody>\n",
       "    <tr>\n",
       "      <th>10</th>\n",
       "      <td>8273092</td>\n",
       "      <td>2011-11-25 18:39:02</td>\n",
       "      <td>1</td>\n",
       "      <td>2333</td>\n",
       "      <td>python: pandas install errors</td>\n",
       "      <td>2</td>\n",
       "      <td>0</td>\n",
       "      <td>NaN</td>\n",
       "      <td>codingknob</td>\n",
       "      <td>2279.0</td>\n",
       "      <td>codingknob</td>\n",
       "      <td>2279.0</td>\n",
       "    </tr>\n",
       "    <tr>\n",
       "      <th>46</th>\n",
       "      <td>9927711</td>\n",
       "      <td>2012-03-29 14:42:42</td>\n",
       "      <td>1</td>\n",
       "      <td>1659</td>\n",
       "      <td>Reading csv in python pandas and handling bad ...</td>\n",
       "      <td>3</td>\n",
       "      <td>0</td>\n",
       "      <td>2.0</td>\n",
       "      <td>Dave31415</td>\n",
       "      <td>914.0</td>\n",
       "      <td>eumiro</td>\n",
       "      <td>104313.0</td>\n",
       "    </tr>\n",
       "    <tr>\n",
       "      <th>54</th>\n",
       "      <td>10003171</td>\n",
       "      <td>2012-04-03 23:59:41</td>\n",
       "      <td>1</td>\n",
       "      <td>404</td>\n",
       "      <td>What is an efficient way in pandas to do summa...</td>\n",
       "      <td>2</td>\n",
       "      <td>1</td>\n",
       "      <td>NaN</td>\n",
       "      <td>LmW.</td>\n",
       "      <td>486.0</td>\n",
       "      <td>Wes McKinney</td>\n",
       "      <td>43310.0</td>\n",
       "    </tr>\n",
       "    <tr>\n",
       "      <th>59</th>\n",
       "      <td>10027719</td>\n",
       "      <td>2012-04-05 11:28:00</td>\n",
       "      <td>0</td>\n",
       "      <td>500</td>\n",
       "      <td>Installing Pandas with Python 2.5 on Windows</td>\n",
       "      <td>1</td>\n",
       "      <td>0</td>\n",
       "      <td>NaN</td>\n",
       "      <td>JamesS</td>\n",
       "      <td>191.0</td>\n",
       "      <td>Wes McKinney</td>\n",
       "      <td>43310.0</td>\n",
       "    </tr>\n",
       "    <tr>\n",
       "      <th>77</th>\n",
       "      <td>10393447</td>\n",
       "      <td>2012-05-01 04:12:13</td>\n",
       "      <td>0</td>\n",
       "      <td>130</td>\n",
       "      <td>Scope gotcha when dynamically adding methods i...</td>\n",
       "      <td>2</td>\n",
       "      <td>0</td>\n",
       "      <td>NaN</td>\n",
       "      <td>Chris Billington</td>\n",
       "      <td>424.0</td>\n",
       "      <td>Ignacio Vazquez-Abrams</td>\n",
       "      <td>513959.0</td>\n",
       "    </tr>\n",
       "  </tbody>\n",
       "</table>\n",
       "</div>"
      ],
      "text/plain": [
       "          id         creationdate  score  viewcount  \\\n",
       "10   8273092  2011-11-25 18:39:02      1       2333   \n",
       "46   9927711  2012-03-29 14:42:42      1       1659   \n",
       "54  10003171  2012-04-03 23:59:41      1        404   \n",
       "59  10027719  2012-04-05 11:28:00      0        500   \n",
       "77  10393447  2012-05-01 04:12:13      0        130   \n",
       "\n",
       "                                                title  answercount  \\\n",
       "10                      python: pandas install errors            2   \n",
       "46  Reading csv in python pandas and handling bad ...            3   \n",
       "54  What is an efficient way in pandas to do summa...            2   \n",
       "59       Installing Pandas with Python 2.5 on Windows            1   \n",
       "77  Scope gotcha when dynamically adding methods i...            2   \n",
       "\n",
       "    commentcount  favoritecount        quest_name  quest_rep  \\\n",
       "10             0            NaN        codingknob     2279.0   \n",
       "46             0            2.0         Dave31415      914.0   \n",
       "54             1            NaN              LmW.      486.0   \n",
       "59             0            NaN            JamesS      191.0   \n",
       "77             0            NaN  Chris Billington      424.0   \n",
       "\n",
       "                  ans_name   ans_rep  \n",
       "10              codingknob    2279.0  \n",
       "46                  eumiro  104313.0  \n",
       "54            Wes McKinney   43310.0  \n",
       "59            Wes McKinney   43310.0  \n",
       "77  Ignacio Vazquez-Abrams  513959.0  "
      ]
     },
     "execution_count": 119,
     "metadata": {},
     "output_type": "execute_result"
    }
   ],
   "source": [
    "criteria = so['answercount'] > so['score']\n",
    "so[criteria].head()"
   ]
  },
  {
   "cell_type": "markdown",
   "metadata": {
    "colab_type": "text",
    "id": "udk8fpe8U2hg"
   },
   "source": [
    "In one line, the above would have looked like this:\n",
    "\n",
    "```{code-block}python\n",
    "so[so['answercount'] > so['score']]\n",
    "```"
   ]
  },
  {
   "cell_type": "markdown",
   "metadata": {
    "colab_type": "text",
    "id": "d1u0eHoiU2hh"
   },
   "source": [
    "### Boolean selection with `.iloc`\n",
    "\n",
    "First, remember that `.iloc` uses INTEGER location to make its selections. \n",
    "\n",
    "You will rarely use `.iloc` to do boolean selection and almost always use `[ ]` or `.loc` To see why, let's try and run a simple boolean selection to find all the rows that have more than *100,000* views."
   ]
  },
  {
   "cell_type": "code",
   "execution_count": 120,
   "metadata": {
    "colab": {
     "base_uri": "https://localhost:8080/",
     "height": 307
    },
    "colab_type": "code",
    "executionInfo": {
     "elapsed": 1269,
     "status": "error",
     "timestamp": 1566296304141,
     "user": {
      "displayName": "Ai Adventures",
      "photoUrl": "https://lh3.googleusercontent.com/-OQdAjp2vMZo/AAAAAAAAAAI/AAAAAAAAAA8/8FVq41kVT5s/s64/photo.jpg",
      "userId": "14635366068755244481"
     },
     "user_tz": -330
    },
    "id": "DpXiPOBUU2hh",
    "outputId": "7138ee63-417c-41b1-eaf6-8232d91e30c5"
   },
   "outputs": [
    {
     "ename": "NotImplementedError",
     "evalue": "iLocation based boolean indexing on an integer type is not available",
     "output_type": "error",
     "traceback": [
      "\u001b[0;31m---------------------------------------------------------------------------\u001b[0m",
      "\u001b[0;31mNotImplementedError\u001b[0m                       Traceback (most recent call last)",
      "\u001b[0;32m<ipython-input-120-87e495d37c8d>\u001b[0m in \u001b[0;36m<module>\u001b[0;34m\u001b[0m\n\u001b[0;32m----> 1\u001b[0;31m \u001b[0mso\u001b[0m\u001b[0;34m.\u001b[0m\u001b[0miloc\u001b[0m\u001b[0;34m[\u001b[0m\u001b[0mso\u001b[0m\u001b[0;34m[\u001b[0m\u001b[0;34m'viewcount'\u001b[0m\u001b[0;34m]\u001b[0m \u001b[0;34m>\u001b[0m \u001b[0;36m100000\u001b[0m\u001b[0;34m]\u001b[0m\u001b[0;34m\u001b[0m\u001b[0;34m\u001b[0m\u001b[0m\n\u001b[0m",
      "\u001b[0;32m~/anaconda/lib/python3.6/site-packages/pandas/core/indexing.py\u001b[0m in \u001b[0;36m__getitem__\u001b[0;34m(self, key)\u001b[0m\n\u001b[1;32m   1498\u001b[0m \u001b[0;34m\u001b[0m\u001b[0m\n\u001b[1;32m   1499\u001b[0m             \u001b[0mmaybe_callable\u001b[0m \u001b[0;34m=\u001b[0m \u001b[0mcom\u001b[0m\u001b[0;34m.\u001b[0m\u001b[0mapply_if_callable\u001b[0m\u001b[0;34m(\u001b[0m\u001b[0mkey\u001b[0m\u001b[0;34m,\u001b[0m \u001b[0mself\u001b[0m\u001b[0;34m.\u001b[0m\u001b[0mobj\u001b[0m\u001b[0;34m)\u001b[0m\u001b[0;34m\u001b[0m\u001b[0;34m\u001b[0m\u001b[0m\n\u001b[0;32m-> 1500\u001b[0;31m             \u001b[0;32mreturn\u001b[0m \u001b[0mself\u001b[0m\u001b[0;34m.\u001b[0m\u001b[0m_getitem_axis\u001b[0m\u001b[0;34m(\u001b[0m\u001b[0mmaybe_callable\u001b[0m\u001b[0;34m,\u001b[0m \u001b[0maxis\u001b[0m\u001b[0;34m=\u001b[0m\u001b[0maxis\u001b[0m\u001b[0;34m)\u001b[0m\u001b[0;34m\u001b[0m\u001b[0;34m\u001b[0m\u001b[0m\n\u001b[0m\u001b[1;32m   1501\u001b[0m \u001b[0;34m\u001b[0m\u001b[0m\n\u001b[1;32m   1502\u001b[0m     \u001b[0;32mdef\u001b[0m \u001b[0m_is_scalar_access\u001b[0m\u001b[0;34m(\u001b[0m\u001b[0mself\u001b[0m\u001b[0;34m,\u001b[0m \u001b[0mkey\u001b[0m\u001b[0;34m)\u001b[0m\u001b[0;34m:\u001b[0m\u001b[0;34m\u001b[0m\u001b[0;34m\u001b[0m\u001b[0m\n",
      "\u001b[0;32m~/anaconda/lib/python3.6/site-packages/pandas/core/indexing.py\u001b[0m in \u001b[0;36m_getitem_axis\u001b[0;34m(self, key, axis)\u001b[0m\n\u001b[1;32m   2214\u001b[0m \u001b[0;34m\u001b[0m\u001b[0m\n\u001b[1;32m   2215\u001b[0m         \u001b[0;32mif\u001b[0m \u001b[0mcom\u001b[0m\u001b[0;34m.\u001b[0m\u001b[0mis_bool_indexer\u001b[0m\u001b[0;34m(\u001b[0m\u001b[0mkey\u001b[0m\u001b[0;34m)\u001b[0m\u001b[0;34m:\u001b[0m\u001b[0;34m\u001b[0m\u001b[0;34m\u001b[0m\u001b[0m\n\u001b[0;32m-> 2216\u001b[0;31m             \u001b[0mself\u001b[0m\u001b[0;34m.\u001b[0m\u001b[0m_validate_key\u001b[0m\u001b[0;34m(\u001b[0m\u001b[0mkey\u001b[0m\u001b[0;34m,\u001b[0m \u001b[0maxis\u001b[0m\u001b[0;34m)\u001b[0m\u001b[0;34m\u001b[0m\u001b[0;34m\u001b[0m\u001b[0m\n\u001b[0m\u001b[1;32m   2217\u001b[0m             \u001b[0;32mreturn\u001b[0m \u001b[0mself\u001b[0m\u001b[0;34m.\u001b[0m\u001b[0m_getbool_axis\u001b[0m\u001b[0;34m(\u001b[0m\u001b[0mkey\u001b[0m\u001b[0;34m,\u001b[0m \u001b[0maxis\u001b[0m\u001b[0;34m=\u001b[0m\u001b[0maxis\u001b[0m\u001b[0;34m)\u001b[0m\u001b[0;34m\u001b[0m\u001b[0;34m\u001b[0m\u001b[0m\n\u001b[1;32m   2218\u001b[0m \u001b[0;34m\u001b[0m\u001b[0m\n",
      "\u001b[0;32m~/anaconda/lib/python3.6/site-packages/pandas/core/indexing.py\u001b[0m in \u001b[0;36m_validate_key\u001b[0;34m(self, key, axis)\u001b[0m\n\u001b[1;32m   2058\u001b[0m             \u001b[0;32mif\u001b[0m \u001b[0mhasattr\u001b[0m\u001b[0;34m(\u001b[0m\u001b[0mkey\u001b[0m\u001b[0;34m,\u001b[0m \u001b[0;34m'index'\u001b[0m\u001b[0;34m)\u001b[0m \u001b[0;32mand\u001b[0m \u001b[0misinstance\u001b[0m\u001b[0;34m(\u001b[0m\u001b[0mkey\u001b[0m\u001b[0;34m.\u001b[0m\u001b[0mindex\u001b[0m\u001b[0;34m,\u001b[0m \u001b[0mIndex\u001b[0m\u001b[0;34m)\u001b[0m\u001b[0;34m:\u001b[0m\u001b[0;34m\u001b[0m\u001b[0;34m\u001b[0m\u001b[0m\n\u001b[1;32m   2059\u001b[0m                 \u001b[0;32mif\u001b[0m \u001b[0mkey\u001b[0m\u001b[0;34m.\u001b[0m\u001b[0mindex\u001b[0m\u001b[0;34m.\u001b[0m\u001b[0minferred_type\u001b[0m \u001b[0;34m==\u001b[0m \u001b[0;34m'integer'\u001b[0m\u001b[0;34m:\u001b[0m\u001b[0;34m\u001b[0m\u001b[0;34m\u001b[0m\u001b[0m\n\u001b[0;32m-> 2060\u001b[0;31m                     raise NotImplementedError(\"iLocation based boolean \"\n\u001b[0m\u001b[1;32m   2061\u001b[0m                                               \u001b[0;34m\"indexing on an integer type \"\u001b[0m\u001b[0;34m\u001b[0m\u001b[0;34m\u001b[0m\u001b[0m\n\u001b[1;32m   2062\u001b[0m                                               \"is not available\")\n",
      "\u001b[0;31mNotImplementedError\u001b[0m: iLocation based boolean indexing on an integer type is not available"
     ]
    }
   ],
   "source": [
    "so.iloc[so['viewcount'] > 100000]"
   ]
  },
  {
   "cell_type": "markdown",
   "metadata": {
    "colab_type": "text",
    "id": "6Mzugpa_U2ho"
   },
   "source": [
    "***NotImplementedError***\n",
    "\n",
    "The pandas developers have not decided to boolean selection (with a Series) for `.iloc` so it does not work. You can however convert the Series to a list or a NumPy array as a workaround. We don't think we ever have to used `.iloc` for boolean selection as its not implemented for Series."
   ]
  },
  {
   "cell_type": "markdown",
   "metadata": {
    "colab_type": "text",
    "id": "iga8KRdDU2iF"
   },
   "source": [
    "### Similarity in `[]` & `.loc`\n",
    "\n",
    "Boolean selection will work identically for `.loc` as it does with `[ ]` on a Series. Both the indexers do row selection when passed a boolean Series. Since Series don't have columns, the two indexers are identical in this situation."
   ]
  },
  {
   "cell_type": "code",
   "execution_count": 122,
   "metadata": {
    "colab": {},
    "colab_type": "code",
    "id": "oGM9NDWaU2iG"
   },
   "outputs": [],
   "source": [
    "s = so['score']"
   ]
  },
  {
   "cell_type": "code",
   "execution_count": 123,
   "metadata": {
    "colab": {
     "base_uri": "https://localhost:8080/",
     "height": 119
    },
    "colab_type": "code",
    "executionInfo": {
     "elapsed": 1317,
     "status": "ok",
     "timestamp": 1566296453064,
     "user": {
      "displayName": "Ai Adventures",
      "photoUrl": "https://lh3.googleusercontent.com/-OQdAjp2vMZo/AAAAAAAAAAI/AAAAAAAAAA8/8FVq41kVT5s/s64/photo.jpg",
      "userId": "14635366068755244481"
     },
     "user_tz": -330
    },
    "id": "koHfZuifU2iJ",
    "outputId": "05c3d704-ff4c-4d30-805d-0e0b432f4bbe"
   },
   "outputs": [
    {
     "data": {
      "text/plain": [
       "8      201\n",
       "17     136\n",
       "75     199\n",
       "100    144\n",
       "106    340\n",
       "Name: score, dtype: int64"
      ]
     },
     "execution_count": 123,
     "metadata": {},
     "output_type": "execute_result"
    }
   ],
   "source": [
    "s[s > 100].head()"
   ]
  },
  {
   "cell_type": "code",
   "execution_count": 124,
   "metadata": {
    "colab": {
     "base_uri": "https://localhost:8080/",
     "height": 119
    },
    "colab_type": "code",
    "executionInfo": {
     "elapsed": 789,
     "status": "ok",
     "timestamp": 1566296453482,
     "user": {
      "displayName": "Ai Adventures",
      "photoUrl": "https://lh3.googleusercontent.com/-OQdAjp2vMZo/AAAAAAAAAAI/AAAAAAAAAA8/8FVq41kVT5s/s64/photo.jpg",
      "userId": "14635366068755244481"
     },
     "user_tz": -330
    },
    "id": "wfc3t1HFU2iL",
    "outputId": "e2aa9414-3a12-42ed-9b4d-adb327fefd2e"
   },
   "outputs": [
    {
     "data": {
      "text/plain": [
       "8      201\n",
       "17     136\n",
       "75     199\n",
       "100    144\n",
       "106    340\n",
       "Name: score, dtype: int64"
      ]
     },
     "execution_count": 124,
     "metadata": {},
     "output_type": "execute_result"
    }
   ],
   "source": [
    "s.loc[s > 100].head()"
   ]
  },
  {
   "cell_type": "markdown",
   "metadata": {
    "colab_type": "text",
    "id": "S_UCmOG5U2iM"
   },
   "source": [
    "## Conclusion\n",
    "### Exercise\n",
    "Boolean selection is difficult at first and the syntax is somewhat clunky. It will take some time to master. [This exercise](../nbs/Pandas_Exercise.html#boolean-indexing-exercise) will start easy and progressively become more difficult.\n",
    "\n",
    "### Further Reading\n",
    "\n",
    "We will always recommend reading the official documentation in addition to this.\n",
    "\n",
    "The documentation use the term **boolean indexing** but you will also see **boolean selection**.\n",
    "\n",
    "[Boolean Indexing from pandas documentation](http://pandas.pydata.org/pandas-docs/stable/indexing.html#boolean-indexing)"
   ]
  }
 ],
 "metadata": {
  "colab": {
   "collapsed_sections": [
    "qfSIvMpqU2eA",
    "oVseiki7U2eB",
    "1HJgQ6z2U2eI",
    "cxvhkTbXU2eY",
    "gQXUcKmNU2eg",
    "-b0fTuLKU2ev",
    "GLmgifuYU2ew",
    "XIT0nryGU2e4",
    "oGOsrtnAU2fD",
    "sKuRIpiEU2fF",
    "JabXLaIkU2fK",
    "tsTaUmDYU2fN",
    "DOpy4ZGvU2f5",
    "elNj2nGLU2gA",
    "cIj4EMSWU2gJ",
    "-_e3QnJmU2gR",
    "xBduJH7vU2gZ",
    "eVRq_gOuU2gh",
    "OzL1SkzhU2gm",
    "FUx7luSHU2gv",
    "_Pa8Y5FaU2g8",
    "th8vX-qOU2hB",
    "9Eh8I04ZU2hM",
    "Cfw1mukgU2hP",
    "Rt__mcsdU2hR",
    "QGthIJsDU2he",
    "d1u0eHoiU2hh",
    "6Mzugpa_U2ho",
    "iga8KRdDU2iF",
    "lYfPpZJrU2iM",
    "S_UCmOG5U2iM",
    "egcMZtGzU2iN",
    "sCFUJ7DCU2iS",
    "_m-5d0UFU2iT",
    "AbBUOAuTU2iU",
    "5X5MNOzrU2iW",
    "kO3Pr6bUU2iY",
    "ky3Ivz9LU2ia",
    "HM8KRUNCU2ic",
    "cyj1n41dU2ie",
    "ammLA5GlU2ih",
    "gGZqgTkxU2ih",
    "P0iVULJfU2ik",
    "aRBWWclpU2in",
    "KMOu2EVlU2iq",
    "PdKnVWoAU2is",
    "9ir7IYGFU2iv"
   ],
   "name": "5. Boolean Indexing.ipynb",
   "provenance": []
  },
  "kernelspec": {
   "display_name": "Python 3 (ipykernel)",
   "language": "python",
   "name": "python3"
  },
  "language_info": {
   "codemirror_mode": {
    "name": "ipython",
    "version": 3
   },
   "file_extension": ".py",
   "mimetype": "text/x-python",
   "name": "python",
   "nbconvert_exporter": "python",
   "pygments_lexer": "ipython3",
   "version": "3.11.0"
  }
 },
 "nbformat": 4,
 "nbformat_minor": 4
}
