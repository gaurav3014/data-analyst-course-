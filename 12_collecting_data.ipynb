{
 "cells": [
  {
   "cell_type": "markdown",
   "metadata": {},
   "source": [
    "# Collecting Data\n",
    "\n",
    "So far, we have been using pandas to work with data. But have you thought, how (or from where) did we get the data in the first place. In this chapter, we will be discuss all about collecting / gathering data. Lets get started . . .\n",
    "\n",
    "There are 3 major ways of getting data. We will discuss them one by one."
   ]
  },
  {
   "cell_type": "markdown",
   "metadata": {},
   "source": [
    "## 1. Downloading data\n",
    "\n",
    "The first and the most obvious way is to download it. There are many websites which allows you to download data for free. \n",
    "- There are many online dataset repositories. You can download datasets for free.\n",
    "    - [Kaggle](https://www.kaggle.com)\n",
    "    - [UCI Machine Learning Repository](https://archive.ics.uci.edu/ml/datasets.php)\n",
    "    - [Google datasets](https://datasetsearch.research.google.com/)\n",
    "    - [Amazon Dataset](https://registry.opendata.aws/)\n",
    "    \n",
    "    \n",
    "- Many organizations/sites offers data in processed form. For example, IMDB. You can download a subset of IMDB database from [here](https://www.imdb.com/interfaces/).\n",
    "- Many colleges and universites publish the data that they used for research. Anyone can download the data for education purpose.\n",
    "- And finally, you can also download your personal data from sites like netflix, google, etc. You can perform analysis on your personal data. How cool is that!\n",
    "\n",
    "Most of the datasets are in **CSV** or **TSV format**. You can download them by following the instructions mentioned in the respective sites. And then, you can read them using pandas. \n",
    "\n",
    "Long story short, there are many resources for downloading datasets. You don't have to worry about building your own dataset. Finally, here is a great repository to find a lot more datasets. Its called [Awesome Public Datasets](https://github.com/awesomedata/awesome-public-datasets)."
   ]
  },
  {
   "cell_type": "markdown",
   "metadata": {},
   "source": [
    "## 2. Application Programming Interface (APIs)\n",
    "Some website providers offer Application Programming Interfaces (APIs) allowing you to access data in a predefined manner. With APIs, you can access the data using formats like JSON and XML. APIs are great way for accessing and downloading data. Almost all social media sites provide APIs for accessing data. Twitter, facebook, Instagram, spotify, etc.\n",
    "\n",
    "Here is a very simple API that would help you understand APIs better. Its called **The Rick and Morty API** and its based on the famous \"Rick and Morty\" show. \n",
    "\n",
    "Some of our mentors at **aiadventures** love this show. If you are also a fan, then make sure to get in touch😁"
   ]
  },
  {
   "cell_type": "markdown",
   "metadata": {},
   "source": [
    "## Rick & Morty API\n",
    "\n",
    "First step would be to read the [documentation](https://rickandmortyapi.com/documentation) to understand \"how to use the APIs\", and \"what all data is present in the response\".\n",
    "\n",
    "Try copy pasting this `https://rickandmortyapi.com/api` URL in your browser. What do you see?\n",
    "\n",
    "What you see in your browser is called the **response**. In fact, every page that you see in your browser is a response from the server. \n",
    "\n",
    "Coming back, our response contains information about all available API's resources. All requests (in this API) are *GET* requests and go over *HTTPS*. All responses will return data in *JSON*.\n",
    "\n",
    "```{note} \n",
    "If you are hearing http request, response, json, etc. for the first time, then we would recommend you to google them, and spend some time reading about them.\n",
    "```\n",
    "Now let's use `requests` library to get the response programmatically. `requests` is only library which is used while working with webpages, it can do many things like it can tell if the webpage of the given URL exists in the server or not, also if the webpage exists it can gives the content of the webpage."
   ]
  },
  {
   "cell_type": "code",
   "execution_count": 1,
   "metadata": {},
   "outputs": [],
   "source": [
    "import requests\n",
    "\n",
    "response = requests.get('https://rickandmortyapi.com/api')"
   ]
  },
  {
   "cell_type": "markdown",
   "metadata": {},
   "source": [
    "The response from the server is saved in `response` variable. The `response` object has many attributes. "
   ]
  },
  {
   "cell_type": "markdown",
   "metadata": {
    "id": "atxzeRI7cpY6",
    "papermill": {
     "duration": 0.04586,
     "end_time": "2020-12-20T06:48:19.629037",
     "exception": false,
     "start_time": "2020-12-20T06:48:19.583177",
     "status": "completed"
    },
    "tags": []
   },
   "source": [
    "To check the response status, you can say . . ."
   ]
  },
  {
   "cell_type": "code",
   "execution_count": 2,
   "metadata": {
    "id": "wwJTYW6naZnz",
    "outputId": "af36cb34-a7a9-4c6c-c60a-2f00cdc3c1a4",
    "papermill": {
     "duration": 0.053665,
     "end_time": "2020-12-20T06:48:19.728860",
     "exception": false,
     "start_time": "2020-12-20T06:48:19.675195",
     "status": "completed"
    },
    "tags": []
   },
   "outputs": [
    {
     "data": {
      "text/plain": [
       "200"
      ]
     },
     "execution_count": 2,
     "metadata": {},
     "output_type": "execute_result"
    }
   ],
   "source": [
    "response.status_code"
   ]
  },
  {
   "cell_type": "markdown",
   "metadata": {
    "id": "J1Bx6mOYa1pV",
    "papermill": {
     "duration": 0.046305,
     "end_time": "2020-12-20T06:48:19.821461",
     "exception": false,
     "start_time": "2020-12-20T06:48:19.775156",
     "status": "completed"
    },
    "tags": []
   },
   "source": [
    "*200* means the request was successfully served. These are called **HTTP response status codes**. You can read more about them, [here](https://developer.mozilla.org/en-US/docs/Web/HTTP/Status).\n",
    "\n",
    "Lets look at the response text . . . "
   ]
  },
  {
   "cell_type": "code",
   "execution_count": 3,
   "metadata": {},
   "outputs": [
    {
     "data": {
      "text/plain": [
       "'{\"characters\":\"https://rickandmortyapi.com/api/character\",\"locations\":\"https://rickandmortyapi.com/api/location\",\"episodes\":\"https://rickandmortyapi.com/api/episode\"}'"
      ]
     },
     "execution_count": 3,
     "metadata": {},
     "output_type": "execute_result"
    }
   ],
   "source": [
    "response.text"
   ]
  },
  {
   "cell_type": "markdown",
   "metadata": {},
   "source": [
    "This is exactly the same thing you saw in your browser. \n",
    "\n",
    "Note, this looks like a dictionary but its actuall a string (the complete thing is present inside single qoutes, `''` ). To get the JSON version (equivalent to python dictionaries), we can use `.json()` method."
   ]
  },
  {
   "cell_type": "code",
   "execution_count": 4,
   "metadata": {},
   "outputs": [
    {
     "data": {
      "text/plain": [
       "{'characters': 'https://rickandmortyapi.com/api/character',\n",
       " 'locations': 'https://rickandmortyapi.com/api/location',\n",
       " 'episodes': 'https://rickandmortyapi.com/api/episode'}"
      ]
     },
     "execution_count": 4,
     "metadata": {},
     "output_type": "execute_result"
    }
   ],
   "source": [
    "data = response.json()\n",
    "data"
   ]
  },
  {
   "cell_type": "markdown",
   "metadata": {},
   "source": [
    "If you check the type of `data` variable, its a python dictionary. "
   ]
  },
  {
   "cell_type": "code",
   "execution_count": 5,
   "metadata": {},
   "outputs": [
    {
     "data": {
      "text/plain": [
       "dict"
      ]
     },
     "execution_count": 5,
     "metadata": {},
     "output_type": "execute_result"
    }
   ],
   "source": [
    "type(data)"
   ]
  },
  {
   "cell_type": "markdown",
   "metadata": {},
   "source": [
    "Now we can access different values, using dict keys. Just like we normally do."
   ]
  },
  {
   "cell_type": "code",
   "execution_count": 6,
   "metadata": {},
   "outputs": [
    {
     "data": {
      "text/plain": [
       "'https://rickandmortyapi.com/api/character'"
      ]
     },
     "execution_count": 6,
     "metadata": {},
     "output_type": "execute_result"
    }
   ],
   "source": [
    "data['characters']"
   ]
  },
  {
   "cell_type": "markdown",
   "metadata": {},
   "source": [
    "Lets download all the characters data. Since we are requesting to server to collect the `characters` from the `API`, so again we are using `requests.get()` function. "
   ]
  },
  {
   "cell_type": "code",
   "execution_count": 7,
   "metadata": {},
   "outputs": [
    {
     "data": {
      "text/plain": [
       "200"
      ]
     },
     "execution_count": 7,
     "metadata": {},
     "output_type": "execute_result"
    }
   ],
   "source": [
    "character_resp = requests.get(data['characters'])\n",
    "character_resp.status_code"
   ]
  },
  {
   "cell_type": "markdown",
   "metadata": {},
   "source": [
    "```{tip}\n",
    "Check the response status code whenever you make a request to the server.\n",
    "```"
   ]
  },
  {
   "cell_type": "code",
   "execution_count": 8,
   "metadata": {},
   "outputs": [],
   "source": [
    "character_data = character_resp.json()"
   ]
  },
  {
   "cell_type": "markdown",
   "metadata": {},
   "source": [
    "As we have already seen, `.json()` returns a python dictionary. So, we can call `.keys()` methods to look at all the dict keys."
   ]
  },
  {
   "cell_type": "code",
   "execution_count": 9,
   "metadata": {},
   "outputs": [
    {
     "data": {
      "text/plain": [
       "dict_keys(['info', 'results'])"
      ]
     },
     "execution_count": 9,
     "metadata": {},
     "output_type": "execute_result"
    }
   ],
   "source": [
    "character_data.keys()"
   ]
  },
  {
   "cell_type": "markdown",
   "metadata": {},
   "source": [
    "We have two keys. Lets look at them one by one . . ."
   ]
  },
  {
   "cell_type": "code",
   "execution_count": 10,
   "metadata": {},
   "outputs": [
    {
     "data": {
      "text/plain": [
       "{'count': 671,\n",
       " 'pages': 34,\n",
       " 'next': 'https://rickandmortyapi.com/api/character?page=2',\n",
       " 'prev': None}"
      ]
     },
     "execution_count": 10,
     "metadata": {},
     "output_type": "execute_result"
    }
   ],
   "source": [
    "character_data['info']"
   ]
  },
  {
   "cell_type": "code",
   "execution_count": 11,
   "metadata": {},
   "outputs": [
    {
     "data": {
      "text/plain": [
       "[{'id': 1,\n",
       "  'name': 'Rick Sanchez',\n",
       "  'status': 'Alive',\n",
       "  'species': 'Human',\n",
       "  'type': '',\n",
       "  'gender': 'Male',\n",
       "  'origin': {'name': 'Earth (C-137)',\n",
       "   'url': 'https://rickandmortyapi.com/api/location/1'},\n",
       "  'location': {'name': 'Earth (Replacement Dimension)',\n",
       "   'url': 'https://rickandmortyapi.com/api/location/20'},\n",
       "  'image': 'https://rickandmortyapi.com/api/character/avatar/1.jpeg',\n",
       "  'episode': ['https://rickandmortyapi.com/api/episode/1',\n",
       "   'https://rickandmortyapi.com/api/episode/2',\n",
       "   'https://rickandmortyapi.com/api/episode/3',\n",
       "   'https://rickandmortyapi.com/api/episode/4',\n",
       "   'https://rickandmortyapi.com/api/episode/5',\n",
       "   'https://rickandmortyapi.com/api/episode/6',\n",
       "   'https://rickandmortyapi.com/api/episode/7',\n",
       "   'https://rickandmortyapi.com/api/episode/8',\n",
       "   'https://rickandmortyapi.com/api/episode/9',\n",
       "   'https://rickandmortyapi.com/api/episode/10',\n",
       "   'https://rickandmortyapi.com/api/episode/11',\n",
       "   'https://rickandmortyapi.com/api/episode/12',\n",
       "   'https://rickandmortyapi.com/api/episode/13',\n",
       "   'https://rickandmortyapi.com/api/episode/14',\n",
       "   'https://rickandmortyapi.com/api/episode/15',\n",
       "   'https://rickandmortyapi.com/api/episode/16',\n",
       "   'https://rickandmortyapi.com/api/episode/17',\n",
       "   'https://rickandmortyapi.com/api/episode/18',\n",
       "   'https://rickandmortyapi.com/api/episode/19',\n",
       "   'https://rickandmortyapi.com/api/episode/20',\n",
       "   'https://rickandmortyapi.com/api/episode/21',\n",
       "   'https://rickandmortyapi.com/api/episode/22',\n",
       "   'https://rickandmortyapi.com/api/episode/23',\n",
       "   'https://rickandmortyapi.com/api/episode/24',\n",
       "   'https://rickandmortyapi.com/api/episode/25',\n",
       "   'https://rickandmortyapi.com/api/episode/26',\n",
       "   'https://rickandmortyapi.com/api/episode/27',\n",
       "   'https://rickandmortyapi.com/api/episode/28',\n",
       "   'https://rickandmortyapi.com/api/episode/29',\n",
       "   'https://rickandmortyapi.com/api/episode/30',\n",
       "   'https://rickandmortyapi.com/api/episode/31',\n",
       "   'https://rickandmortyapi.com/api/episode/32',\n",
       "   'https://rickandmortyapi.com/api/episode/33',\n",
       "   'https://rickandmortyapi.com/api/episode/34',\n",
       "   'https://rickandmortyapi.com/api/episode/35',\n",
       "   'https://rickandmortyapi.com/api/episode/36',\n",
       "   'https://rickandmortyapi.com/api/episode/37',\n",
       "   'https://rickandmortyapi.com/api/episode/38',\n",
       "   'https://rickandmortyapi.com/api/episode/39',\n",
       "   'https://rickandmortyapi.com/api/episode/40',\n",
       "   'https://rickandmortyapi.com/api/episode/41'],\n",
       "  'url': 'https://rickandmortyapi.com/api/character/1',\n",
       "  'created': '2017-11-04T18:48:46.250Z'},\n",
       " {'id': 2,\n",
       "  'name': 'Morty Smith',\n",
       "  'status': 'Alive',\n",
       "  'species': 'Human',\n",
       "  'type': '',\n",
       "  'gender': 'Male',\n",
       "  'origin': {'name': 'Earth (C-137)',\n",
       "   'url': 'https://rickandmortyapi.com/api/location/1'},\n",
       "  'location': {'name': 'Earth (Replacement Dimension)',\n",
       "   'url': 'https://rickandmortyapi.com/api/location/20'},\n",
       "  'image': 'https://rickandmortyapi.com/api/character/avatar/2.jpeg',\n",
       "  'episode': ['https://rickandmortyapi.com/api/episode/1',\n",
       "   'https://rickandmortyapi.com/api/episode/2',\n",
       "   'https://rickandmortyapi.com/api/episode/3',\n",
       "   'https://rickandmortyapi.com/api/episode/4',\n",
       "   'https://rickandmortyapi.com/api/episode/5',\n",
       "   'https://rickandmortyapi.com/api/episode/6',\n",
       "   'https://rickandmortyapi.com/api/episode/7',\n",
       "   'https://rickandmortyapi.com/api/episode/8',\n",
       "   'https://rickandmortyapi.com/api/episode/9',\n",
       "   'https://rickandmortyapi.com/api/episode/10',\n",
       "   'https://rickandmortyapi.com/api/episode/11',\n",
       "   'https://rickandmortyapi.com/api/episode/12',\n",
       "   'https://rickandmortyapi.com/api/episode/13',\n",
       "   'https://rickandmortyapi.com/api/episode/14',\n",
       "   'https://rickandmortyapi.com/api/episode/15',\n",
       "   'https://rickandmortyapi.com/api/episode/16',\n",
       "   'https://rickandmortyapi.com/api/episode/17',\n",
       "   'https://rickandmortyapi.com/api/episode/18',\n",
       "   'https://rickandmortyapi.com/api/episode/19',\n",
       "   'https://rickandmortyapi.com/api/episode/20',\n",
       "   'https://rickandmortyapi.com/api/episode/21',\n",
       "   'https://rickandmortyapi.com/api/episode/22',\n",
       "   'https://rickandmortyapi.com/api/episode/23',\n",
       "   'https://rickandmortyapi.com/api/episode/24',\n",
       "   'https://rickandmortyapi.com/api/episode/25',\n",
       "   'https://rickandmortyapi.com/api/episode/26',\n",
       "   'https://rickandmortyapi.com/api/episode/27',\n",
       "   'https://rickandmortyapi.com/api/episode/28',\n",
       "   'https://rickandmortyapi.com/api/episode/29',\n",
       "   'https://rickandmortyapi.com/api/episode/30',\n",
       "   'https://rickandmortyapi.com/api/episode/31',\n",
       "   'https://rickandmortyapi.com/api/episode/32',\n",
       "   'https://rickandmortyapi.com/api/episode/33',\n",
       "   'https://rickandmortyapi.com/api/episode/34',\n",
       "   'https://rickandmortyapi.com/api/episode/35',\n",
       "   'https://rickandmortyapi.com/api/episode/36',\n",
       "   'https://rickandmortyapi.com/api/episode/37',\n",
       "   'https://rickandmortyapi.com/api/episode/38',\n",
       "   'https://rickandmortyapi.com/api/episode/39',\n",
       "   'https://rickandmortyapi.com/api/episode/40',\n",
       "   'https://rickandmortyapi.com/api/episode/41'],\n",
       "  'url': 'https://rickandmortyapi.com/api/character/2',\n",
       "  'created': '2017-11-04T18:50:21.651Z'}]"
      ]
     },
     "execution_count": 11,
     "metadata": {},
     "output_type": "execute_result"
    }
   ],
   "source": [
    "character_data['results'][:2]"
   ]
  },
  {
   "cell_type": "markdown",
   "metadata": {},
   "source": [
    "Let's convert this data into a pandas dataframe."
   ]
  },
  {
   "cell_type": "code",
   "execution_count": 12,
   "metadata": {},
   "outputs": [
    {
     "data": {
      "text/html": [
       "<div>\n",
       "<style scoped>\n",
       "    .dataframe tbody tr th:only-of-type {\n",
       "        vertical-align: middle;\n",
       "    }\n",
       "\n",
       "    .dataframe tbody tr th {\n",
       "        vertical-align: top;\n",
       "    }\n",
       "\n",
       "    .dataframe thead th {\n",
       "        text-align: right;\n",
       "    }\n",
       "</style>\n",
       "<table border=\"1\" class=\"dataframe\">\n",
       "  <thead>\n",
       "    <tr style=\"text-align: right;\">\n",
       "      <th></th>\n",
       "      <th>created</th>\n",
       "      <th>episode</th>\n",
       "      <th>gender</th>\n",
       "      <th>id</th>\n",
       "      <th>image</th>\n",
       "      <th>location</th>\n",
       "      <th>name</th>\n",
       "      <th>origin</th>\n",
       "      <th>species</th>\n",
       "      <th>status</th>\n",
       "      <th>type</th>\n",
       "      <th>url</th>\n",
       "    </tr>\n",
       "  </thead>\n",
       "  <tbody>\n",
       "    <tr>\n",
       "      <th>0</th>\n",
       "      <td>2017-11-04T18:48:46.250Z</td>\n",
       "      <td>[https://rickandmortyapi.com/api/episode/1, ht...</td>\n",
       "      <td>Male</td>\n",
       "      <td>1</td>\n",
       "      <td>https://rickandmortyapi.com/api/character/avat...</td>\n",
       "      <td>{'name': 'Earth (Replacement Dimension)', 'url...</td>\n",
       "      <td>Rick Sanchez</td>\n",
       "      <td>{'name': 'Earth (C-137)', 'url': 'https://rick...</td>\n",
       "      <td>Human</td>\n",
       "      <td>Alive</td>\n",
       "      <td></td>\n",
       "      <td>https://rickandmortyapi.com/api/character/1</td>\n",
       "    </tr>\n",
       "    <tr>\n",
       "      <th>1</th>\n",
       "      <td>2017-11-04T18:50:21.651Z</td>\n",
       "      <td>[https://rickandmortyapi.com/api/episode/1, ht...</td>\n",
       "      <td>Male</td>\n",
       "      <td>2</td>\n",
       "      <td>https://rickandmortyapi.com/api/character/avat...</td>\n",
       "      <td>{'name': 'Earth (Replacement Dimension)', 'url...</td>\n",
       "      <td>Morty Smith</td>\n",
       "      <td>{'name': 'Earth (C-137)', 'url': 'https://rick...</td>\n",
       "      <td>Human</td>\n",
       "      <td>Alive</td>\n",
       "      <td></td>\n",
       "      <td>https://rickandmortyapi.com/api/character/2</td>\n",
       "    </tr>\n",
       "    <tr>\n",
       "      <th>2</th>\n",
       "      <td>2017-11-04T19:09:56.428Z</td>\n",
       "      <td>[https://rickandmortyapi.com/api/episode/6, ht...</td>\n",
       "      <td>Female</td>\n",
       "      <td>3</td>\n",
       "      <td>https://rickandmortyapi.com/api/character/avat...</td>\n",
       "      <td>{'name': 'Earth (Replacement Dimension)', 'url...</td>\n",
       "      <td>Summer Smith</td>\n",
       "      <td>{'name': 'Earth (Replacement Dimension)', 'url...</td>\n",
       "      <td>Human</td>\n",
       "      <td>Alive</td>\n",
       "      <td></td>\n",
       "      <td>https://rickandmortyapi.com/api/character/3</td>\n",
       "    </tr>\n",
       "    <tr>\n",
       "      <th>3</th>\n",
       "      <td>2017-11-04T19:22:43.665Z</td>\n",
       "      <td>[https://rickandmortyapi.com/api/episode/6, ht...</td>\n",
       "      <td>Female</td>\n",
       "      <td>4</td>\n",
       "      <td>https://rickandmortyapi.com/api/character/avat...</td>\n",
       "      <td>{'name': 'Earth (Replacement Dimension)', 'url...</td>\n",
       "      <td>Beth Smith</td>\n",
       "      <td>{'name': 'Earth (Replacement Dimension)', 'url...</td>\n",
       "      <td>Human</td>\n",
       "      <td>Alive</td>\n",
       "      <td></td>\n",
       "      <td>https://rickandmortyapi.com/api/character/4</td>\n",
       "    </tr>\n",
       "    <tr>\n",
       "      <th>4</th>\n",
       "      <td>2017-11-04T19:26:56.301Z</td>\n",
       "      <td>[https://rickandmortyapi.com/api/episode/6, ht...</td>\n",
       "      <td>Male</td>\n",
       "      <td>5</td>\n",
       "      <td>https://rickandmortyapi.com/api/character/avat...</td>\n",
       "      <td>{'name': 'Earth (Replacement Dimension)', 'url...</td>\n",
       "      <td>Jerry Smith</td>\n",
       "      <td>{'name': 'Earth (Replacement Dimension)', 'url...</td>\n",
       "      <td>Human</td>\n",
       "      <td>Alive</td>\n",
       "      <td></td>\n",
       "      <td>https://rickandmortyapi.com/api/character/5</td>\n",
       "    </tr>\n",
       "  </tbody>\n",
       "</table>\n",
       "</div>"
      ],
      "text/plain": [
       "                    created  \\\n",
       "0  2017-11-04T18:48:46.250Z   \n",
       "1  2017-11-04T18:50:21.651Z   \n",
       "2  2017-11-04T19:09:56.428Z   \n",
       "3  2017-11-04T19:22:43.665Z   \n",
       "4  2017-11-04T19:26:56.301Z   \n",
       "\n",
       "                                             episode  gender  id  \\\n",
       "0  [https://rickandmortyapi.com/api/episode/1, ht...    Male   1   \n",
       "1  [https://rickandmortyapi.com/api/episode/1, ht...    Male   2   \n",
       "2  [https://rickandmortyapi.com/api/episode/6, ht...  Female   3   \n",
       "3  [https://rickandmortyapi.com/api/episode/6, ht...  Female   4   \n",
       "4  [https://rickandmortyapi.com/api/episode/6, ht...    Male   5   \n",
       "\n",
       "                                               image  \\\n",
       "0  https://rickandmortyapi.com/api/character/avat...   \n",
       "1  https://rickandmortyapi.com/api/character/avat...   \n",
       "2  https://rickandmortyapi.com/api/character/avat...   \n",
       "3  https://rickandmortyapi.com/api/character/avat...   \n",
       "4  https://rickandmortyapi.com/api/character/avat...   \n",
       "\n",
       "                                            location          name  \\\n",
       "0  {'name': 'Earth (Replacement Dimension)', 'url...  Rick Sanchez   \n",
       "1  {'name': 'Earth (Replacement Dimension)', 'url...   Morty Smith   \n",
       "2  {'name': 'Earth (Replacement Dimension)', 'url...  Summer Smith   \n",
       "3  {'name': 'Earth (Replacement Dimension)', 'url...    Beth Smith   \n",
       "4  {'name': 'Earth (Replacement Dimension)', 'url...   Jerry Smith   \n",
       "\n",
       "                                              origin species status type  \\\n",
       "0  {'name': 'Earth (C-137)', 'url': 'https://rick...   Human  Alive        \n",
       "1  {'name': 'Earth (C-137)', 'url': 'https://rick...   Human  Alive        \n",
       "2  {'name': 'Earth (Replacement Dimension)', 'url...   Human  Alive        \n",
       "3  {'name': 'Earth (Replacement Dimension)', 'url...   Human  Alive        \n",
       "4  {'name': 'Earth (Replacement Dimension)', 'url...   Human  Alive        \n",
       "\n",
       "                                           url  \n",
       "0  https://rickandmortyapi.com/api/character/1  \n",
       "1  https://rickandmortyapi.com/api/character/2  \n",
       "2  https://rickandmortyapi.com/api/character/3  \n",
       "3  https://rickandmortyapi.com/api/character/4  \n",
       "4  https://rickandmortyapi.com/api/character/5  "
      ]
     },
     "execution_count": 12,
     "metadata": {},
     "output_type": "execute_result"
    }
   ],
   "source": [
    "import pandas as pd\n",
    "\n",
    "character_df = pd.DataFrame(character_data['results'])\n",
    "character_df.head()"
   ]
  },
  {
   "cell_type": "markdown",
   "metadata": {},
   "source": [
    "Similarly, lets download locations and episodes data."
   ]
  },
  {
   "cell_type": "code",
   "execution_count": 13,
   "metadata": {},
   "outputs": [
    {
     "data": {
      "text/html": [
       "<div>\n",
       "<style scoped>\n",
       "    .dataframe tbody tr th:only-of-type {\n",
       "        vertical-align: middle;\n",
       "    }\n",
       "\n",
       "    .dataframe tbody tr th {\n",
       "        vertical-align: top;\n",
       "    }\n",
       "\n",
       "    .dataframe thead th {\n",
       "        text-align: right;\n",
       "    }\n",
       "</style>\n",
       "<table border=\"1\" class=\"dataframe\">\n",
       "  <thead>\n",
       "    <tr style=\"text-align: right;\">\n",
       "      <th></th>\n",
       "      <th>created</th>\n",
       "      <th>dimension</th>\n",
       "      <th>id</th>\n",
       "      <th>name</th>\n",
       "      <th>residents</th>\n",
       "      <th>type</th>\n",
       "      <th>url</th>\n",
       "    </tr>\n",
       "  </thead>\n",
       "  <tbody>\n",
       "    <tr>\n",
       "      <th>0</th>\n",
       "      <td>2017-11-10T12:42:04.162Z</td>\n",
       "      <td>Dimension C-137</td>\n",
       "      <td>1</td>\n",
       "      <td>Earth (C-137)</td>\n",
       "      <td>[https://rickandmortyapi.com/api/character/38,...</td>\n",
       "      <td>Planet</td>\n",
       "      <td>https://rickandmortyapi.com/api/location/1</td>\n",
       "    </tr>\n",
       "    <tr>\n",
       "      <th>1</th>\n",
       "      <td>2017-11-10T13:06:38.182Z</td>\n",
       "      <td>unknown</td>\n",
       "      <td>2</td>\n",
       "      <td>Abadango</td>\n",
       "      <td>[https://rickandmortyapi.com/api/character/6]</td>\n",
       "      <td>Cluster</td>\n",
       "      <td>https://rickandmortyapi.com/api/location/2</td>\n",
       "    </tr>\n",
       "    <tr>\n",
       "      <th>2</th>\n",
       "      <td>2017-11-10T13:08:13.191Z</td>\n",
       "      <td>unknown</td>\n",
       "      <td>3</td>\n",
       "      <td>Citadel of Ricks</td>\n",
       "      <td>[https://rickandmortyapi.com/api/character/8, ...</td>\n",
       "      <td>Space station</td>\n",
       "      <td>https://rickandmortyapi.com/api/location/3</td>\n",
       "    </tr>\n",
       "    <tr>\n",
       "      <th>3</th>\n",
       "      <td>2017-11-10T13:08:20.569Z</td>\n",
       "      <td>unknown</td>\n",
       "      <td>4</td>\n",
       "      <td>Worldender's lair</td>\n",
       "      <td>[https://rickandmortyapi.com/api/character/10,...</td>\n",
       "      <td>Planet</td>\n",
       "      <td>https://rickandmortyapi.com/api/location/4</td>\n",
       "    </tr>\n",
       "    <tr>\n",
       "      <th>4</th>\n",
       "      <td>2017-11-10T13:08:46.060Z</td>\n",
       "      <td>Dimension C-137</td>\n",
       "      <td>5</td>\n",
       "      <td>Anatomy Park</td>\n",
       "      <td>[https://rickandmortyapi.com/api/character/12,...</td>\n",
       "      <td>Microverse</td>\n",
       "      <td>https://rickandmortyapi.com/api/location/5</td>\n",
       "    </tr>\n",
       "  </tbody>\n",
       "</table>\n",
       "</div>"
      ],
      "text/plain": [
       "                    created        dimension  id               name  \\\n",
       "0  2017-11-10T12:42:04.162Z  Dimension C-137   1      Earth (C-137)   \n",
       "1  2017-11-10T13:06:38.182Z          unknown   2           Abadango   \n",
       "2  2017-11-10T13:08:13.191Z          unknown   3   Citadel of Ricks   \n",
       "3  2017-11-10T13:08:20.569Z          unknown   4  Worldender's lair   \n",
       "4  2017-11-10T13:08:46.060Z  Dimension C-137   5       Anatomy Park   \n",
       "\n",
       "                                           residents           type  \\\n",
       "0  [https://rickandmortyapi.com/api/character/38,...         Planet   \n",
       "1      [https://rickandmortyapi.com/api/character/6]        Cluster   \n",
       "2  [https://rickandmortyapi.com/api/character/8, ...  Space station   \n",
       "3  [https://rickandmortyapi.com/api/character/10,...         Planet   \n",
       "4  [https://rickandmortyapi.com/api/character/12,...     Microverse   \n",
       "\n",
       "                                          url  \n",
       "0  https://rickandmortyapi.com/api/location/1  \n",
       "1  https://rickandmortyapi.com/api/location/2  \n",
       "2  https://rickandmortyapi.com/api/location/3  \n",
       "3  https://rickandmortyapi.com/api/location/4  \n",
       "4  https://rickandmortyapi.com/api/location/5  "
      ]
     },
     "execution_count": 13,
     "metadata": {},
     "output_type": "execute_result"
    }
   ],
   "source": [
    "## Locations\n",
    "location_resp = requests.get(data['locations'])\n",
    "location_data = location_resp.json()\n",
    "location_df = pd.DataFrame(location_data['results'])\n",
    "location_df.head()"
   ]
  },
  {
   "cell_type": "code",
   "execution_count": 14,
   "metadata": {},
   "outputs": [
    {
     "data": {
      "text/html": [
       "<div>\n",
       "<style scoped>\n",
       "    .dataframe tbody tr th:only-of-type {\n",
       "        vertical-align: middle;\n",
       "    }\n",
       "\n",
       "    .dataframe tbody tr th {\n",
       "        vertical-align: top;\n",
       "    }\n",
       "\n",
       "    .dataframe thead th {\n",
       "        text-align: right;\n",
       "    }\n",
       "</style>\n",
       "<table border=\"1\" class=\"dataframe\">\n",
       "  <thead>\n",
       "    <tr style=\"text-align: right;\">\n",
       "      <th></th>\n",
       "      <th>air_date</th>\n",
       "      <th>characters</th>\n",
       "      <th>created</th>\n",
       "      <th>episode</th>\n",
       "      <th>id</th>\n",
       "      <th>name</th>\n",
       "      <th>url</th>\n",
       "    </tr>\n",
       "  </thead>\n",
       "  <tbody>\n",
       "    <tr>\n",
       "      <th>0</th>\n",
       "      <td>December 2, 2013</td>\n",
       "      <td>[https://rickandmortyapi.com/api/character/1, ...</td>\n",
       "      <td>2017-11-10T12:56:33.798Z</td>\n",
       "      <td>S01E01</td>\n",
       "      <td>1</td>\n",
       "      <td>Pilot</td>\n",
       "      <td>https://rickandmortyapi.com/api/episode/1</td>\n",
       "    </tr>\n",
       "    <tr>\n",
       "      <th>1</th>\n",
       "      <td>December 9, 2013</td>\n",
       "      <td>[https://rickandmortyapi.com/api/character/1, ...</td>\n",
       "      <td>2017-11-10T12:56:33.916Z</td>\n",
       "      <td>S01E02</td>\n",
       "      <td>2</td>\n",
       "      <td>Lawnmower Dog</td>\n",
       "      <td>https://rickandmortyapi.com/api/episode/2</td>\n",
       "    </tr>\n",
       "    <tr>\n",
       "      <th>2</th>\n",
       "      <td>December 16, 2013</td>\n",
       "      <td>[https://rickandmortyapi.com/api/character/1, ...</td>\n",
       "      <td>2017-11-10T12:56:34.022Z</td>\n",
       "      <td>S01E03</td>\n",
       "      <td>3</td>\n",
       "      <td>Anatomy Park</td>\n",
       "      <td>https://rickandmortyapi.com/api/episode/3</td>\n",
       "    </tr>\n",
       "    <tr>\n",
       "      <th>3</th>\n",
       "      <td>January 13, 2014</td>\n",
       "      <td>[https://rickandmortyapi.com/api/character/1, ...</td>\n",
       "      <td>2017-11-10T12:56:34.129Z</td>\n",
       "      <td>S01E04</td>\n",
       "      <td>4</td>\n",
       "      <td>M. Night Shaym-Aliens!</td>\n",
       "      <td>https://rickandmortyapi.com/api/episode/4</td>\n",
       "    </tr>\n",
       "    <tr>\n",
       "      <th>4</th>\n",
       "      <td>January 20, 2014</td>\n",
       "      <td>[https://rickandmortyapi.com/api/character/1, ...</td>\n",
       "      <td>2017-11-10T12:56:34.236Z</td>\n",
       "      <td>S01E05</td>\n",
       "      <td>5</td>\n",
       "      <td>Meeseeks and Destroy</td>\n",
       "      <td>https://rickandmortyapi.com/api/episode/5</td>\n",
       "    </tr>\n",
       "  </tbody>\n",
       "</table>\n",
       "</div>"
      ],
      "text/plain": [
       "            air_date                                         characters  \\\n",
       "0   December 2, 2013  [https://rickandmortyapi.com/api/character/1, ...   \n",
       "1   December 9, 2013  [https://rickandmortyapi.com/api/character/1, ...   \n",
       "2  December 16, 2013  [https://rickandmortyapi.com/api/character/1, ...   \n",
       "3   January 13, 2014  [https://rickandmortyapi.com/api/character/1, ...   \n",
       "4   January 20, 2014  [https://rickandmortyapi.com/api/character/1, ...   \n",
       "\n",
       "                    created episode  id                    name  \\\n",
       "0  2017-11-10T12:56:33.798Z  S01E01   1                   Pilot   \n",
       "1  2017-11-10T12:56:33.916Z  S01E02   2           Lawnmower Dog   \n",
       "2  2017-11-10T12:56:34.022Z  S01E03   3            Anatomy Park   \n",
       "3  2017-11-10T12:56:34.129Z  S01E04   4  M. Night Shaym-Aliens!   \n",
       "4  2017-11-10T12:56:34.236Z  S01E05   5    Meeseeks and Destroy   \n",
       "\n",
       "                                         url  \n",
       "0  https://rickandmortyapi.com/api/episode/1  \n",
       "1  https://rickandmortyapi.com/api/episode/2  \n",
       "2  https://rickandmortyapi.com/api/episode/3  \n",
       "3  https://rickandmortyapi.com/api/episode/4  \n",
       "4  https://rickandmortyapi.com/api/episode/5  "
      ]
     },
     "execution_count": 14,
     "metadata": {},
     "output_type": "execute_result"
    }
   ],
   "source": [
    "## Episodes\n",
    "episode_resp = requests.get(data['episodes'])\n",
    "episode_data = episode_resp.json()\n",
    "episode_df = pd.DataFrame(episode_data['results'])\n",
    "episode_df.head()"
   ]
  },
  {
   "cell_type": "markdown",
   "metadata": {},
   "source": [
    "Great, we have downloaded all the data!\n",
    "\n",
    "Often times, we will have to do some pre-processing before you can use your data. We can skip preprocessing here because this data is pretty clean."
   ]
  },
  {
   "cell_type": "markdown",
   "metadata": {},
   "source": [
    "## Exercise\n",
    "\n",
    "Now that we have our data, try answering the following questions based on it.\n",
    "\n",
    "- List the names of all the episodes released (`air_date`) in 2014.\n",
    "- What is the origin location of `Rick Sanchez` ?\n",
    "- List the names of all the episodes with a release date on or after 2014, in alphabetical order.\n",
    "- List the names and release years of all the episodes where `Summer Smith` is present, in chronological order.\n",
    "- What are the total episodes in which `Jerry Smith` appeared?\n",
    "- List all characters created in 2017, in descending order by `species`. For characters with the same species, order them alphabetically by their `name`.\n",
    "- List the names of all characters present in `S01E05`\n",
    "- List the names of all characters present in an episode released in 2014.\n",
    "- Name the last location of `Annie`, from most recent episode.\n",
    "- List the names of all episodes in which both `Jerry Smith` and `Summer Smith` appeared.\n",
    "- List the names of all characters who appeared in an episode in which `Amish Cyborg` also appeared.\n",
    "- List ids of top 5 characters with maximum number of episodes. Start from the highest.\n",
    "- What is the name of the episode with maximum number of characters?\n",
    "\n",
    "Try to answer all these questions. We are pretty sure that you will enjoy solving on them.\n",
    "\n",
    "Discuss all your solutions with your mentors, see if you got all of them right!"
   ]
  },
  {
   "cell_type": "markdown",
   "metadata": {},
   "source": [
    "## 3. Web Scraping\n",
    "\n",
    "The 3rd & the last way of collecting data is Web scraping. Web is the greatest source of information known to mankind. The ability to scrape data from the web is of immense importance in any field of research. \n",
    "\n",
    "This becomes even more important in fields (like Data Science, Machine Learning, & Deep Learning) were amount of data is directly proportional to the quality (both product & research).\n",
    "\n",
    "**Web scraping**, allows us to extract, parse, download and organize useful information from the web, automatically.\n",
    "\n",
    "Discussing web scraping in depth is beyond the scope of this course. But you can read this [wonderful blog](https://www.kaggle.com/ankursingh12/create-your-own-dataset-with-beautifulsoup) by our teammate [Ankur](https://www.linkedin.com/in/ankur-singh-ml/), to get started with web scraping.\n",
    "\n",
    "The blog, will discuss the following:\n",
    "\n",
    "👉 Basics of web scraping.\n",
    "\n",
    "👉 How you can create your own dataset for data science.\n",
    "\n",
    "👉 Some exercise for practice."
   ]
  },
  {
   "cell_type": "markdown",
   "metadata": {},
   "source": [
    "## Conclusion\n",
    "\n",
    "These are some of the ways of collecting data. As a Data Scientist, you should know (almost) everything! Web scraping, APIs, bash, pandas, numpy, data visualization, machine learning, databases and so much more . . . \n",
    "\n",
    "### Questionaire\n",
    "\n",
    "1. What are different ways to collect data from the internet?\n",
    "2. How does `API` works?\n",
    "3. Is web scraping legal? How to check if we can scrape data from certain website?\n",
    "4. Web Scraping can be done on which types of URLs?"
   ]
  }
 ],
 "metadata": {
  "kernelspec": {
   "display_name": "Python 3 (ipykernel)",
   "language": "python",
   "name": "python3"
  },
  "language_info": {
   "codemirror_mode": {
    "name": "ipython",
    "version": 3
   },
   "file_extension": ".py",
   "mimetype": "text/x-python",
   "name": "python",
   "nbconvert_exporter": "python",
   "pygments_lexer": "ipython3",
   "version": "3.11.0"
  }
 },
 "nbformat": 4,
 "nbformat_minor": 4
}
